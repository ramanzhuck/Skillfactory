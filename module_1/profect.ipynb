{
 "cells": [
  {
   "cell_type": "code",
   "execution_count": 1,
   "metadata": {
    "_cell_guid": "b1076dfc-b9ad-4769-8c92-a6c4dae69d19",
    "_uuid": "8f2839f25d086af736a60e9eeb907d3b93b6e0e5",
    "colab": {},
    "colab_type": "code",
    "id": "U2D2gTdJVp90"
   },
   "outputs": [],
   "source": [
    "import numpy as np\n",
    "import pandas as pd\n",
    "import seaborn as sns\n",
    "import matplotlib.pyplot as plt\n",
    "from collections import Counter"
   ]
  },
  {
   "cell_type": "code",
   "execution_count": 2,
   "metadata": {
    "_cell_guid": "79c7e3d0-c299-4dcb-8224-4455121ee9b0",
    "_uuid": "d629ff2d2480ee46fbb7e2d37f6b5fab8052498a",
    "colab": {},
    "colab_type": "code",
    "id": "oyGfxL3eVp9-"
   },
   "outputs": [
    {
     "data": {
      "text/html": [
       "<div>\n",
       "<style scoped>\n",
       "    .dataframe tbody tr th:only-of-type {\n",
       "        vertical-align: middle;\n",
       "    }\n",
       "\n",
       "    .dataframe tbody tr th {\n",
       "        vertical-align: top;\n",
       "    }\n",
       "\n",
       "    .dataframe thead th {\n",
       "        text-align: right;\n",
       "    }\n",
       "</style>\n",
       "<table border=\"1\" class=\"dataframe\">\n",
       "  <thead>\n",
       "    <tr style=\"text-align: right;\">\n",
       "      <th></th>\n",
       "      <th>imdb_id</th>\n",
       "      <th>budget</th>\n",
       "      <th>revenue</th>\n",
       "      <th>original_title</th>\n",
       "      <th>cast</th>\n",
       "      <th>director</th>\n",
       "      <th>tagline</th>\n",
       "      <th>overview</th>\n",
       "      <th>runtime</th>\n",
       "      <th>genres</th>\n",
       "      <th>production_companies</th>\n",
       "      <th>release_date</th>\n",
       "      <th>vote_average</th>\n",
       "      <th>release_year</th>\n",
       "    </tr>\n",
       "  </thead>\n",
       "  <tbody>\n",
       "    <tr>\n",
       "      <th>419</th>\n",
       "      <td>tt1038919</td>\n",
       "      <td>40000000</td>\n",
       "      <td>136000000</td>\n",
       "      <td>The Bounty Hunter</td>\n",
       "      <td>Gerard Butler|Jennifer Aniston|Gio Perez|Siobh...</td>\n",
       "      <td>Andy Tennant</td>\n",
       "      <td>It's a Job. It Isn't Personal. Well, Maybe a L...</td>\n",
       "      <td>Milo Boyd is a bounty hunter whose latest gig ...</td>\n",
       "      <td>110</td>\n",
       "      <td>Action</td>\n",
       "      <td>Columbia Pictures|Original Film|Relativity Med...</td>\n",
       "      <td>3/16/2010</td>\n",
       "      <td>5.5</td>\n",
       "      <td>2010</td>\n",
       "    </tr>\n",
       "    <tr>\n",
       "      <th>88</th>\n",
       "      <td>tt2404425</td>\n",
       "      <td>11000000</td>\n",
       "      <td>61619773</td>\n",
       "      <td>Woman in Gold</td>\n",
       "      <td>Helen Mirren|Ryan Reynolds|Tatiana Maslany|Kat...</td>\n",
       "      <td>Simon Curtis</td>\n",
       "      <td>Justice is Priceless.</td>\n",
       "      <td>Maria Altmann, an octogenarian Jewish refugee,...</td>\n",
       "      <td>120</td>\n",
       "      <td>Drama</td>\n",
       "      <td>BBC Films|Origin Pictures</td>\n",
       "      <td>4/10/2015</td>\n",
       "      <td>7.3</td>\n",
       "      <td>2015</td>\n",
       "    </tr>\n",
       "    <tr>\n",
       "      <th>701</th>\n",
       "      <td>tt0412536</td>\n",
       "      <td>20000000</td>\n",
       "      <td>13204291</td>\n",
       "      <td>Brideshead Revisited</td>\n",
       "      <td>Matthew Goode|Ben Whishaw|Hayley Atwell|Emma T...</td>\n",
       "      <td>Julian Jarrold</td>\n",
       "      <td>Every temptation has its price.</td>\n",
       "      <td>Based on Evelyn Waugh's 1945 classic British n...</td>\n",
       "      <td>133</td>\n",
       "      <td>Drama|Romance</td>\n",
       "      <td>BBC Films|Ecosse Films|HanWay Films|UK Film Co...</td>\n",
       "      <td>7/25/2008</td>\n",
       "      <td>6.0</td>\n",
       "      <td>2008</td>\n",
       "    </tr>\n",
       "    <tr>\n",
       "      <th>16</th>\n",
       "      <td>tt2446042</td>\n",
       "      <td>48000000</td>\n",
       "      <td>325771424</td>\n",
       "      <td>Taken 3</td>\n",
       "      <td>Liam Neeson|Forest Whitaker|Maggie Grace|Famke...</td>\n",
       "      <td>Olivier Megaton</td>\n",
       "      <td>It Ends Here</td>\n",
       "      <td>Ex-government operative Bryan Mills finds his ...</td>\n",
       "      <td>109</td>\n",
       "      <td>Crime|Action|Thriller</td>\n",
       "      <td>Twentieth Century Fox Film Corporation|M6 Film...</td>\n",
       "      <td>1/1/2015</td>\n",
       "      <td>6.1</td>\n",
       "      <td>2015</td>\n",
       "    </tr>\n",
       "    <tr>\n",
       "      <th>1694</th>\n",
       "      <td>tt0389790</td>\n",
       "      <td>150000000</td>\n",
       "      <td>287594577</td>\n",
       "      <td>Bee Movie</td>\n",
       "      <td>Jerry Seinfeld|RenÃ©e Zellweger|Matthew Broder...</td>\n",
       "      <td>Steve Hickner|Simon J. Smith</td>\n",
       "      <td>Born to bee wild.</td>\n",
       "      <td>Barry B. Benson, a bee who has just graduated ...</td>\n",
       "      <td>91</td>\n",
       "      <td>Family|Animation|Adventure|Comedy</td>\n",
       "      <td>Pacific Data Images (PDI)|DreamWorks Animation...</td>\n",
       "      <td>10/28/2007</td>\n",
       "      <td>5.6</td>\n",
       "      <td>2007</td>\n",
       "    </tr>\n",
       "  </tbody>\n",
       "</table>\n",
       "</div>"
      ],
      "text/plain": [
       "        imdb_id     budget    revenue        original_title  \\\n",
       "419   tt1038919   40000000  136000000     The Bounty Hunter   \n",
       "88    tt2404425   11000000   61619773         Woman in Gold   \n",
       "701   tt0412536   20000000   13204291  Brideshead Revisited   \n",
       "16    tt2446042   48000000  325771424               Taken 3   \n",
       "1694  tt0389790  150000000  287594577             Bee Movie   \n",
       "\n",
       "                                                   cast  \\\n",
       "419   Gerard Butler|Jennifer Aniston|Gio Perez|Siobh...   \n",
       "88    Helen Mirren|Ryan Reynolds|Tatiana Maslany|Kat...   \n",
       "701   Matthew Goode|Ben Whishaw|Hayley Atwell|Emma T...   \n",
       "16    Liam Neeson|Forest Whitaker|Maggie Grace|Famke...   \n",
       "1694  Jerry Seinfeld|RenÃ©e Zellweger|Matthew Broder...   \n",
       "\n",
       "                          director  \\\n",
       "419                   Andy Tennant   \n",
       "88                    Simon Curtis   \n",
       "701                 Julian Jarrold   \n",
       "16                 Olivier Megaton   \n",
       "1694  Steve Hickner|Simon J. Smith   \n",
       "\n",
       "                                                tagline  \\\n",
       "419   It's a Job. It Isn't Personal. Well, Maybe a L...   \n",
       "88                                Justice is Priceless.   \n",
       "701                     Every temptation has its price.   \n",
       "16                                         It Ends Here   \n",
       "1694                                  Born to bee wild.   \n",
       "\n",
       "                                               overview  runtime  \\\n",
       "419   Milo Boyd is a bounty hunter whose latest gig ...      110   \n",
       "88    Maria Altmann, an octogenarian Jewish refugee,...      120   \n",
       "701   Based on Evelyn Waugh's 1945 classic British n...      133   \n",
       "16    Ex-government operative Bryan Mills finds his ...      109   \n",
       "1694  Barry B. Benson, a bee who has just graduated ...       91   \n",
       "\n",
       "                                 genres  \\\n",
       "419                              Action   \n",
       "88                                Drama   \n",
       "701                       Drama|Romance   \n",
       "16                Crime|Action|Thriller   \n",
       "1694  Family|Animation|Adventure|Comedy   \n",
       "\n",
       "                                   production_companies release_date  \\\n",
       "419   Columbia Pictures|Original Film|Relativity Med...    3/16/2010   \n",
       "88                            BBC Films|Origin Pictures    4/10/2015   \n",
       "701   BBC Films|Ecosse Films|HanWay Films|UK Film Co...    7/25/2008   \n",
       "16    Twentieth Century Fox Film Corporation|M6 Film...     1/1/2015   \n",
       "1694  Pacific Data Images (PDI)|DreamWorks Animation...   10/28/2007   \n",
       "\n",
       "      vote_average  release_year  \n",
       "419            5.5          2010  \n",
       "88             7.3          2015  \n",
       "701            6.0          2008  \n",
       "16             6.1          2015  \n",
       "1694           5.6          2007  "
      ]
     },
     "execution_count": 2,
     "metadata": {},
     "output_type": "execute_result"
    }
   ],
   "source": [
    "data = pd.read_csv('movie_bd_v5.csv')\n",
    "data.sample(5)"
   ]
  },
  {
   "cell_type": "code",
   "execution_count": 3,
   "metadata": {
    "colab": {},
    "colab_type": "code",
    "id": "CoYUnagMVp-C"
   },
   "outputs": [
    {
     "data": {
      "text/html": [
       "<div>\n",
       "<style scoped>\n",
       "    .dataframe tbody tr th:only-of-type {\n",
       "        vertical-align: middle;\n",
       "    }\n",
       "\n",
       "    .dataframe tbody tr th {\n",
       "        vertical-align: top;\n",
       "    }\n",
       "\n",
       "    .dataframe thead th {\n",
       "        text-align: right;\n",
       "    }\n",
       "</style>\n",
       "<table border=\"1\" class=\"dataframe\">\n",
       "  <thead>\n",
       "    <tr style=\"text-align: right;\">\n",
       "      <th></th>\n",
       "      <th>budget</th>\n",
       "      <th>revenue</th>\n",
       "      <th>runtime</th>\n",
       "      <th>vote_average</th>\n",
       "      <th>release_year</th>\n",
       "    </tr>\n",
       "  </thead>\n",
       "  <tbody>\n",
       "    <tr>\n",
       "      <th>count</th>\n",
       "      <td>1.889000e+03</td>\n",
       "      <td>1.889000e+03</td>\n",
       "      <td>1889.000000</td>\n",
       "      <td>1889.000000</td>\n",
       "      <td>1889.000000</td>\n",
       "    </tr>\n",
       "    <tr>\n",
       "      <th>mean</th>\n",
       "      <td>5.431083e+07</td>\n",
       "      <td>1.553653e+08</td>\n",
       "      <td>109.658549</td>\n",
       "      <td>6.140762</td>\n",
       "      <td>2007.860773</td>\n",
       "    </tr>\n",
       "    <tr>\n",
       "      <th>std</th>\n",
       "      <td>4.858721e+07</td>\n",
       "      <td>2.146698e+08</td>\n",
       "      <td>18.017041</td>\n",
       "      <td>0.764763</td>\n",
       "      <td>4.468841</td>\n",
       "    </tr>\n",
       "    <tr>\n",
       "      <th>min</th>\n",
       "      <td>5.000000e+06</td>\n",
       "      <td>2.033165e+06</td>\n",
       "      <td>63.000000</td>\n",
       "      <td>3.300000</td>\n",
       "      <td>2000.000000</td>\n",
       "    </tr>\n",
       "    <tr>\n",
       "      <th>25%</th>\n",
       "      <td>2.000000e+07</td>\n",
       "      <td>3.456058e+07</td>\n",
       "      <td>97.000000</td>\n",
       "      <td>5.600000</td>\n",
       "      <td>2004.000000</td>\n",
       "    </tr>\n",
       "    <tr>\n",
       "      <th>50%</th>\n",
       "      <td>3.800000e+07</td>\n",
       "      <td>8.361541e+07</td>\n",
       "      <td>107.000000</td>\n",
       "      <td>6.100000</td>\n",
       "      <td>2008.000000</td>\n",
       "    </tr>\n",
       "    <tr>\n",
       "      <th>75%</th>\n",
       "      <td>7.200000e+07</td>\n",
       "      <td>1.782626e+08</td>\n",
       "      <td>120.000000</td>\n",
       "      <td>6.600000</td>\n",
       "      <td>2012.000000</td>\n",
       "    </tr>\n",
       "    <tr>\n",
       "      <th>max</th>\n",
       "      <td>3.800000e+08</td>\n",
       "      <td>2.781506e+09</td>\n",
       "      <td>214.000000</td>\n",
       "      <td>8.100000</td>\n",
       "      <td>2015.000000</td>\n",
       "    </tr>\n",
       "  </tbody>\n",
       "</table>\n",
       "</div>"
      ],
      "text/plain": [
       "             budget       revenue      runtime  vote_average  release_year\n",
       "count  1.889000e+03  1.889000e+03  1889.000000   1889.000000   1889.000000\n",
       "mean   5.431083e+07  1.553653e+08   109.658549      6.140762   2007.860773\n",
       "std    4.858721e+07  2.146698e+08    18.017041      0.764763      4.468841\n",
       "min    5.000000e+06  2.033165e+06    63.000000      3.300000   2000.000000\n",
       "25%    2.000000e+07  3.456058e+07    97.000000      5.600000   2004.000000\n",
       "50%    3.800000e+07  8.361541e+07   107.000000      6.100000   2008.000000\n",
       "75%    7.200000e+07  1.782626e+08   120.000000      6.600000   2012.000000\n",
       "max    3.800000e+08  2.781506e+09   214.000000      8.100000   2015.000000"
      ]
     },
     "execution_count": 3,
     "metadata": {},
     "output_type": "execute_result"
    }
   ],
   "source": [
    "data.describe()"
   ]
  },
  {
   "cell_type": "markdown",
   "metadata": {
    "colab_type": "text",
    "id": "DTIt7ezGVp-G"
   },
   "source": [
    "# Предобработка"
   ]
  },
  {
   "cell_type": "code",
   "execution_count": 4,
   "metadata": {
    "colab": {},
    "colab_type": "code",
    "id": "jNb40DwKVp-H"
   },
   "outputs": [],
   "source": [
    "answers = {} # создадим словарь для ответов\n",
    "\n",
    "# тут другие ваши предобработки колонок например:\n",
    "\n",
    "#the time given in the dataset is in string format.\n",
    "#So we need to change this in datetime format\n",
    "# ...\n",
    "\n",
    "data['profit'] = data['revenue'] - data['budget']"
   ]
  },
  {
   "cell_type": "markdown",
   "metadata": {
    "colab_type": "text",
    "id": "YxZaH-nPVp-L"
   },
   "source": [
    "# 1. У какого фильма из списка самый большой бюджет?"
   ]
  },
  {
   "cell_type": "code",
   "execution_count": 5,
   "metadata": {
    "colab": {},
    "colab_type": "code",
    "id": "uVnXAY5RVp-O"
   },
   "outputs": [],
   "source": [
    "#занесение ответа в словарь\n",
    "answers['1'] = '5. Pirates of the Caribbean: On Stranger Tides (tt1298650)'\n",
    "#+"
   ]
  },
  {
   "cell_type": "code",
   "execution_count": 6,
   "metadata": {
    "colab": {},
    "colab_type": "code",
    "id": "dZwb3m28Vp-S"
   },
   "outputs": [
    {
     "data": {
      "text/plain": [
       "723    Pirates of the Caribbean: On Stranger Tides\n",
       "Name: original_title, dtype: object"
      ]
     },
     "execution_count": 6,
     "metadata": {},
     "output_type": "execute_result"
    }
   ],
   "source": [
    "# код для решения данного вопроса:\n",
    "data[data['budget'] == data['budget'].max()]['original_title']"
   ]
  },
  {
   "cell_type": "markdown",
   "metadata": {
    "colab_type": "text",
    "id": "K7L3nbRXVp-X"
   },
   "source": [
    "ВАРИАНТ 2"
   ]
  },
  {
   "cell_type": "code",
   "execution_count": 7,
   "metadata": {
    "colab": {},
    "colab_type": "code",
    "id": "OGaoQI7rVp-X"
   },
   "outputs": [],
   "source": [
    "# можно добавлять разные варианты решения"
   ]
  },
  {
   "cell_type": "markdown",
   "metadata": {
    "colab_type": "text",
    "id": "FNRbbI3vVp-c"
   },
   "source": [
    "# 2. Какой из фильмов самый длительный (в минутах)?"
   ]
  },
  {
   "cell_type": "code",
   "execution_count": 8,
   "metadata": {
    "colab": {},
    "colab_type": "code",
    "id": "vHAoEXNTVp-d"
   },
   "outputs": [],
   "source": [
    "#занесение ответа в словарь\n",
    "answers['2'] = '2. Gods and Generals (tt0279111)'\n",
    "#+"
   ]
  },
  {
   "cell_type": "code",
   "execution_count": 9,
   "metadata": {
    "colab": {},
    "colab_type": "code",
    "id": "ot-VX2XrVp-g"
   },
   "outputs": [
    {
     "data": {
      "text/plain": [
       "1157    Gods and Generals\n",
       "Name: original_title, dtype: object"
      ]
     },
     "execution_count": 9,
     "metadata": {},
     "output_type": "execute_result"
    }
   ],
   "source": [
    "# код для решения данного вопроса:\n",
    "data[data['runtime'] == data['runtime'].max()]['original_title']"
   ]
  },
  {
   "cell_type": "markdown",
   "metadata": {
    "colab_type": "text",
    "id": "bapLlpW8Vp-k"
   },
   "source": [
    "# 3. Какой из фильмов самый короткий (в минутах)?\n",
    "\n",
    "\n",
    "\n"
   ]
  },
  {
   "cell_type": "code",
   "execution_count": 10,
   "metadata": {
    "colab": {},
    "colab_type": "code",
    "id": "YBxaSHuAVp-l"
   },
   "outputs": [],
   "source": [
    "#занесение ответа в словарь\n",
    "answers['3'] = '3. Winnie the Pooh (tt1449283)'\n",
    "#+"
   ]
  },
  {
   "cell_type": "code",
   "execution_count": 11,
   "metadata": {},
   "outputs": [
    {
     "data": {
      "text/plain": [
       "768    Winnie the Pooh\n",
       "Name: original_title, dtype: object"
      ]
     },
     "execution_count": 11,
     "metadata": {},
     "output_type": "execute_result"
    }
   ],
   "source": [
    "# код для решения данного вопроса:\n",
    "data[data['runtime'] == data['runtime'].min()]['original_title']"
   ]
  },
  {
   "cell_type": "markdown",
   "metadata": {
    "colab_type": "text",
    "id": "TfQbxbfNVp-p"
   },
   "source": [
    "# 4. Какова средняя длительность фильмов?\n"
   ]
  },
  {
   "cell_type": "code",
   "execution_count": 12,
   "metadata": {
    "colab": {},
    "colab_type": "code",
    "id": "5K6dKZYVVp-q"
   },
   "outputs": [],
   "source": [
    "#занесение ответа в словарь\n",
    "answers['4'] = '2. 110'\n",
    "#+"
   ]
  },
  {
   "cell_type": "code",
   "execution_count": 13,
   "metadata": {},
   "outputs": [
    {
     "data": {
      "text/plain": [
       "109.6585494970884"
      ]
     },
     "execution_count": 13,
     "metadata": {},
     "output_type": "execute_result"
    }
   ],
   "source": [
    "# код для решения данного вопроса:\n",
    "data['runtime'].mean()"
   ]
  },
  {
   "cell_type": "markdown",
   "metadata": {
    "colab_type": "text",
    "id": "r5TvbnT_Vp-u"
   },
   "source": [
    "# 5. Каково медианное значение длительности фильмов? "
   ]
  },
  {
   "cell_type": "code",
   "execution_count": 14,
   "metadata": {
    "colab": {},
    "colab_type": "code",
    "id": "iBROplKnVp-v"
   },
   "outputs": [],
   "source": [
    "#занесение ответа в словарь\n",
    "answers['5'] = '1. 107'\n",
    "#+"
   ]
  },
  {
   "cell_type": "code",
   "execution_count": 15,
   "metadata": {},
   "outputs": [
    {
     "data": {
      "text/plain": [
       "107.0"
      ]
     },
     "execution_count": 15,
     "metadata": {},
     "output_type": "execute_result"
    }
   ],
   "source": [
    "# код для решения данного вопроса:\n",
    "data['runtime'].median()"
   ]
  },
  {
   "cell_type": "markdown",
   "metadata": {
    "colab_type": "text",
    "id": "39P-deDSVp-y"
   },
   "source": [
    "# 6. Какой самый прибыльный фильм?\n",
    "#### Внимание! Здесь и далее под «прибылью» или «убытками» понимается разность между сборами и бюджетом фильма. (прибыль = сборы - бюджет) в нашем датасете это будет (profit = revenue - budget) "
   ]
  },
  {
   "cell_type": "code",
   "execution_count": 16,
   "metadata": {
    "colab": {},
    "colab_type": "code",
    "id": "UYZh4T9WVp-y"
   },
   "outputs": [],
   "source": [
    "#занесение ответа в словарь\n",
    "answers['6'] = '5. Avatar (tt0499549)'\n",
    "#+"
   ]
  },
  {
   "cell_type": "code",
   "execution_count": 17,
   "metadata": {},
   "outputs": [
    {
     "data": {
      "text/plain": [
       "239    Avatar\n",
       "Name: original_title, dtype: object"
      ]
     },
     "execution_count": 17,
     "metadata": {},
     "output_type": "execute_result"
    }
   ],
   "source": [
    "# код для решения данного вопроса:\n",
    "data[data['profit'] == data['profit'].max()]['original_title']"
   ]
  },
  {
   "cell_type": "markdown",
   "metadata": {
    "colab_type": "text",
    "id": "M99JmIX4Vp-2"
   },
   "source": [
    "# 7. Какой фильм самый убыточный? "
   ]
  },
  {
   "cell_type": "code",
   "execution_count": 18,
   "metadata": {
    "colab": {},
    "colab_type": "code",
    "id": "w-D2m4XPVp-3"
   },
   "outputs": [],
   "source": [
    "#занесение ответа в словарь\n",
    "answers['7'] = '5. The Lone Ranger (tt1210819)'\n",
    "#+"
   ]
  },
  {
   "cell_type": "code",
   "execution_count": 19,
   "metadata": {},
   "outputs": [
    {
     "data": {
      "text/plain": [
       "1245    The Lone Ranger\n",
       "Name: original_title, dtype: object"
      ]
     },
     "execution_count": 19,
     "metadata": {},
     "output_type": "execute_result"
    }
   ],
   "source": [
    "# код для решения данного вопроса:\n",
    "data[data['profit'] == data['profit'].min()]['original_title']"
   ]
  },
  {
   "cell_type": "markdown",
   "metadata": {
    "colab_type": "text",
    "id": "wEOM5ERVVp-6"
   },
   "source": [
    "# 8. У скольких фильмов из датасета объем сборов оказался выше бюджета?"
   ]
  },
  {
   "cell_type": "code",
   "execution_count": 20,
   "metadata": {
    "colab": {},
    "colab_type": "code",
    "id": "y00_7HD6Vp-7"
   },
   "outputs": [],
   "source": [
    "#занесение ответа в словарь\n",
    "answers['8'] = '1. 1478'\n",
    "#+"
   ]
  },
  {
   "cell_type": "code",
   "execution_count": 21,
   "metadata": {},
   "outputs": [
    {
     "data": {
      "text/plain": [
       "1478"
      ]
     },
     "execution_count": 21,
     "metadata": {},
     "output_type": "execute_result"
    }
   ],
   "source": [
    "# код для решения данного вопроса:\n",
    "len(data[data['profit'] > 0])"
   ]
  },
  {
   "cell_type": "markdown",
   "metadata": {
    "colab_type": "text",
    "id": "xhpspA9KVp_A"
   },
   "source": [
    "# 9. Какой фильм оказался самым кассовым в 2008 году?"
   ]
  },
  {
   "cell_type": "code",
   "execution_count": 22,
   "metadata": {
    "colab": {},
    "colab_type": "code",
    "id": "MoUyQr9RVp_B"
   },
   "outputs": [],
   "source": [
    "#занесение ответа в словарь\n",
    "answers['9'] = '4. The Dark Knight (tt0468569)'\n",
    "#+"
   ]
  },
  {
   "cell_type": "code",
   "execution_count": 23,
   "metadata": {},
   "outputs": [
    {
     "data": {
      "text/plain": [
       "599    The Dark Knight\n",
       "Name: original_title, dtype: object"
      ]
     },
     "execution_count": 23,
     "metadata": {},
     "output_type": "execute_result"
    }
   ],
   "source": [
    "data2008 = data[data['release_year'] == 2008]\n",
    "data2008[data2008['profit'] == data2008['profit'].max()]['original_title']"
   ]
  },
  {
   "cell_type": "markdown",
   "metadata": {
    "colab_type": "text",
    "id": "Zi4hDKidVp_F"
   },
   "source": [
    "# 10. Самый убыточный фильм за период с 2012 по 2014 г. (включительно)?\n"
   ]
  },
  {
   "cell_type": "code",
   "execution_count": 24,
   "metadata": {
    "colab": {},
    "colab_type": "code",
    "id": "XqyRmufJVp_F"
   },
   "outputs": [],
   "source": [
    "#занесение ответа в словарь\n",
    "answers['10'] = '5. The Lone Ranger (tt1210819)'\n",
    "#+"
   ]
  },
  {
   "cell_type": "code",
   "execution_count": 25,
   "metadata": {},
   "outputs": [
    {
     "data": {
      "text/plain": [
       "1245    The Lone Ranger\n",
       "Name: original_title, dtype: object"
      ]
     },
     "execution_count": 25,
     "metadata": {},
     "output_type": "execute_result"
    }
   ],
   "source": [
    "# код для решения данного вопроса:\n",
    "data_12_14 = data[(data['release_year'] >= 2012) & (data['release_year'] <= 2014)]\n",
    "data_12_14[data_12_14['profit'] == data_12_14['profit'].min()]['original_title']"
   ]
  },
  {
   "cell_type": "markdown",
   "metadata": {
    "colab_type": "text",
    "id": "EA7Sa9dkVp_I"
   },
   "source": [
    "# 11. Какого жанра фильмов больше всего?"
   ]
  },
  {
   "cell_type": "code",
   "execution_count": 26,
   "metadata": {
    "colab": {},
    "colab_type": "code",
    "id": "zsJAwJ8QVp_J"
   },
   "outputs": [],
   "source": [
    "#занесение ответа в словарь\n",
    "answers['11'] = '3. Drama'\n",
    "#+"
   ]
  },
  {
   "cell_type": "code",
   "execution_count": 27,
   "metadata": {},
   "outputs": [
    {
     "data": {
      "text/plain": [
       "Drama    782\n",
       "dtype: int64"
      ]
     },
     "execution_count": 27,
     "metadata": {},
     "output_type": "execute_result"
    }
   ],
   "source": [
    "# код для решения данного вопроса:\n",
    "genres_cat = data['genres'].str.cat(sep='|')\n",
    "genres_split = pd.Series(genres_cat.split('|'))\n",
    "genres_split.value_counts().head(1)"
   ]
  },
  {
   "cell_type": "markdown",
   "metadata": {
    "colab_type": "text",
    "id": "T9_bPWpkVp_Q"
   },
   "source": [
    "# 12. Фильмы какого жанра чаще всего становятся прибыльными? "
   ]
  },
  {
   "cell_type": "code",
   "execution_count": 28,
   "metadata": {
    "colab": {},
    "colab_type": "code",
    "id": "Tmt8MaK1Vp_R"
   },
   "outputs": [],
   "source": [
    "#занесение ответа в словарь\n",
    "answers['12'] = '1. Drama'\n",
    "#+"
   ]
  },
  {
   "cell_type": "code",
   "execution_count": 29,
   "metadata": {},
   "outputs": [
    {
     "data": {
      "text/plain": [
       "Drama    560\n",
       "dtype: int64"
      ]
     },
     "execution_count": 29,
     "metadata": {},
     "output_type": "execute_result"
    }
   ],
   "source": [
    "# код для решения данного вопроса:\n",
    "genres_cat = data[data['profit'] > 0]['genres'].str.cat(sep='|')\n",
    "genres_split = pd.Series(genres_cat.split('|'))\n",
    "genres_split.value_counts().head(1)"
   ]
  },
  {
   "cell_type": "markdown",
   "metadata": {
    "colab_type": "text",
    "id": "0F23bgsDVp_U"
   },
   "source": [
    "# 13. У какого режиссера самые большие суммарные кассовые сборы?"
   ]
  },
  {
   "cell_type": "code",
   "execution_count": 30,
   "metadata": {
    "colab": {},
    "colab_type": "code",
    "id": "K6Z3J8ygVp_X"
   },
   "outputs": [],
   "source": [
    "#занесение ответа в словарь\n",
    "answers['13'] = '5. Peter Jackson'\n",
    "#+"
   ]
  },
  {
   "cell_type": "code",
   "execution_count": 31,
   "metadata": {},
   "outputs": [
    {
     "data": {
      "text/html": [
       "<div>\n",
       "<style scoped>\n",
       "    .dataframe tbody tr th:only-of-type {\n",
       "        vertical-align: middle;\n",
       "    }\n",
       "\n",
       "    .dataframe tbody tr th {\n",
       "        vertical-align: top;\n",
       "    }\n",
       "\n",
       "    .dataframe thead th {\n",
       "        text-align: right;\n",
       "    }\n",
       "</style>\n",
       "<table border=\"1\" class=\"dataframe\">\n",
       "  <thead>\n",
       "    <tr style=\"text-align: right;\">\n",
       "      <th></th>\n",
       "      <th>budget</th>\n",
       "      <th>revenue</th>\n",
       "      <th>runtime</th>\n",
       "      <th>vote_average</th>\n",
       "      <th>release_year</th>\n",
       "      <th>profit</th>\n",
       "    </tr>\n",
       "    <tr>\n",
       "      <th>director</th>\n",
       "      <th></th>\n",
       "      <th></th>\n",
       "      <th></th>\n",
       "      <th></th>\n",
       "      <th></th>\n",
       "      <th></th>\n",
       "    </tr>\n",
       "  </thead>\n",
       "  <tbody>\n",
       "    <tr>\n",
       "      <th>Peter Jackson</th>\n",
       "      <td>1288000000</td>\n",
       "      <td>6490593685</td>\n",
       "      <td>1355</td>\n",
       "      <td>58.1</td>\n",
       "      <td>16059</td>\n",
       "      <td>5202593685</td>\n",
       "    </tr>\n",
       "  </tbody>\n",
       "</table>\n",
       "</div>"
      ],
      "text/plain": [
       "                   budget     revenue  runtime  vote_average  release_year  \\\n",
       "director                                                                     \n",
       "Peter Jackson  1288000000  6490593685     1355          58.1         16059   \n",
       "\n",
       "                   profit  \n",
       "director                   \n",
       "Peter Jackson  5202593685  "
      ]
     },
     "execution_count": 31,
     "metadata": {},
     "output_type": "execute_result"
    }
   ],
   "source": [
    "# код для решения данного вопроса:\n",
    "data_new = data.copy()\n",
    "data_new['director'] = data_new.director.str.split('|')\n",
    "data_new =data_new.explode('director')\n",
    "grouped_df = data_new.groupby(['director']).sum()\n",
    "grouped_df[grouped_df['revenue'] == grouped_df['revenue'].max()]\n"
   ]
  },
  {
   "cell_type": "markdown",
   "metadata": {
    "colab_type": "text",
    "id": "PsYC9FgRVp_a"
   },
   "source": [
    "# 14. Какой режисер снял больше всего фильмов в стиле Action?"
   ]
  },
  {
   "cell_type": "code",
   "execution_count": 32,
   "metadata": {
    "colab": {},
    "colab_type": "code",
    "id": "wd2M-wHeVp_b"
   },
   "outputs": [],
   "source": [
    "#занесение ответа в словарь\n",
    "answers['14'] = '3. Robert Rodriguez'\n",
    "#+"
   ]
  },
  {
   "cell_type": "code",
   "execution_count": 33,
   "metadata": {},
   "outputs": [
    {
     "data": {
      "text/plain": [
       "[('Robert Rodriguez', 9)]"
      ]
     },
     "execution_count": 33,
     "metadata": {},
     "output_type": "execute_result"
    }
   ],
   "source": [
    "# код для решения данного вопроса:\n",
    "data_new = data[data['genres'].str.contains(\"Action\", na=False)].copy()\n",
    "data_new['director'] = data_new.director.str.split('|')\n",
    "data_new =data_new.explode('director')\n",
    "Counter(data_new['director']).most_common(1)"
   ]
  },
  {
   "cell_type": "markdown",
   "metadata": {
    "colab_type": "text",
    "id": "PQ0KciD7Vp_f"
   },
   "source": [
    "# 15. Фильмы с каким актером принесли самые высокие кассовые сборы в 2012 году? "
   ]
  },
  {
   "cell_type": "code",
   "execution_count": 34,
   "metadata": {
    "colab": {},
    "colab_type": "code",
    "id": "aga62oeKVp_g"
   },
   "outputs": [],
   "source": [
    "#занесение ответа в словарь\n",
    "answers['15'] = '3. Chris Hemsworth'\n",
    "#+"
   ]
  },
  {
   "cell_type": "code",
   "execution_count": 35,
   "metadata": {},
   "outputs": [
    {
     "data": {
      "text/html": [
       "<div>\n",
       "<style scoped>\n",
       "    .dataframe tbody tr th:only-of-type {\n",
       "        vertical-align: middle;\n",
       "    }\n",
       "\n",
       "    .dataframe tbody tr th {\n",
       "        vertical-align: top;\n",
       "    }\n",
       "\n",
       "    .dataframe thead th {\n",
       "        text-align: right;\n",
       "    }\n",
       "</style>\n",
       "<table border=\"1\" class=\"dataframe\">\n",
       "  <thead>\n",
       "    <tr style=\"text-align: right;\">\n",
       "      <th></th>\n",
       "      <th>budget</th>\n",
       "      <th>revenue</th>\n",
       "      <th>runtime</th>\n",
       "      <th>vote_average</th>\n",
       "      <th>release_year</th>\n",
       "      <th>profit</th>\n",
       "    </tr>\n",
       "    <tr>\n",
       "      <th>actor</th>\n",
       "      <th></th>\n",
       "      <th></th>\n",
       "      <th></th>\n",
       "      <th></th>\n",
       "      <th></th>\n",
       "      <th></th>\n",
       "    </tr>\n",
       "  </thead>\n",
       "  <tbody>\n",
       "    <tr>\n",
       "      <th>Chris Hemsworth</th>\n",
       "      <td>485000000</td>\n",
       "      <td>2027450773</td>\n",
       "      <td>458</td>\n",
       "      <td>24.8</td>\n",
       "      <td>8048</td>\n",
       "      <td>1542450773</td>\n",
       "    </tr>\n",
       "  </tbody>\n",
       "</table>\n",
       "</div>"
      ],
      "text/plain": [
       "                    budget     revenue  runtime  vote_average  release_year  \\\n",
       "actor                                                                         \n",
       "Chris Hemsworth  485000000  2027450773      458          24.8          8048   \n",
       "\n",
       "                     profit  \n",
       "actor                        \n",
       "Chris Hemsworth  1542450773  "
      ]
     },
     "execution_count": 35,
     "metadata": {},
     "output_type": "execute_result"
    }
   ],
   "source": [
    "# код для решения данного вопроса:\n",
    "data_new = data[(data.release_year == 2012)].copy()\n",
    "data_new['actor'] = data_new.cast.str.split('|')\n",
    "data_new =data_new.explode('actor')\n",
    "grouped_df = data_new.groupby('actor').sum()\n",
    "grouped_df[grouped_df['revenue'] == grouped_df['revenue'].max()]"
   ]
  },
  {
   "cell_type": "markdown",
   "metadata": {
    "colab_type": "text",
    "id": "mWHyyL7QVp_j"
   },
   "source": [
    "# 16. Какой актер снялся в большем количестве высокобюджетных фильмов?"
   ]
  },
  {
   "cell_type": "code",
   "execution_count": 36,
   "metadata": {
    "colab": {},
    "colab_type": "code",
    "id": "qQtmHKTFVp_k"
   },
   "outputs": [],
   "source": [
    "#занесение ответа в словарь\n",
    "answers['16'] = '3. Matt Damon'\n",
    "#+"
   ]
  },
  {
   "cell_type": "code",
   "execution_count": 37,
   "metadata": {},
   "outputs": [
    {
     "data": {
      "text/plain": [
       "[('Matt Damon', 18)]"
      ]
     },
     "execution_count": 37,
     "metadata": {},
     "output_type": "execute_result"
    }
   ],
   "source": [
    "# код для решения данного вопроса:\n",
    "data_new = data[data.budget > data.budget.mean() ].copy()\n",
    "data_new['actor'] = data_new.cast.str.split('|')\n",
    "data_new =data_new.explode('actor')\n",
    "Counter(data_new['actor']).most_common(1)"
   ]
  },
  {
   "cell_type": "markdown",
   "metadata": {
    "colab_type": "text",
    "id": "NIh6AaW5Vp_n"
   },
   "source": [
    "# 17. В фильмах какого жанра больше всего снимался Nicolas Cage? "
   ]
  },
  {
   "cell_type": "code",
   "execution_count": 38,
   "metadata": {
    "colab": {},
    "colab_type": "code",
    "id": "H74SJDIBVp_n"
   },
   "outputs": [],
   "source": [
    "#занесение ответа в словарь\n",
    "answers['17'] = '2. Action'\n",
    "#+"
   ]
  },
  {
   "cell_type": "code",
   "execution_count": 39,
   "metadata": {},
   "outputs": [
    {
     "data": {
      "text/plain": [
       "Action    17\n",
       "dtype: int64"
      ]
     },
     "execution_count": 39,
     "metadata": {},
     "output_type": "execute_result"
    }
   ],
   "source": [
    "# код для решения данного вопроса:\n",
    "data_new = data[data['cast'].str.contains(\"Nicolas Cage\", na=False)].copy()\n",
    "genres_cat = data_new['genres'].str.cat(sep='|')\n",
    "genres_split = pd.Series(genres_cat.split('|'))\n",
    "genres_split.value_counts().head(1)"
   ]
  },
  {
   "cell_type": "markdown",
   "metadata": {
    "colab_type": "text",
    "id": "RqOmPRfWVp_q"
   },
   "source": [
    "# 18. Самый убыточный фильм от Paramount Pictures"
   ]
  },
  {
   "cell_type": "code",
   "execution_count": 40,
   "metadata": {
    "colab": {},
    "colab_type": "code",
    "id": "9E_B0Y96Vp_r"
   },
   "outputs": [],
   "source": [
    "#занесение ответа в словарь\n",
    "answers['18'] = '1. K-19: The Widowmaker (tt0267626)'\n",
    "#+"
   ]
  },
  {
   "cell_type": "code",
   "execution_count": 41,
   "metadata": {},
   "outputs": [
    {
     "data": {
      "text/plain": [
       "925    K-19: The Widowmaker\n",
       "Name: original_title, dtype: object"
      ]
     },
     "execution_count": 41,
     "metadata": {},
     "output_type": "execute_result"
    }
   ],
   "source": [
    "data_new = data[data['production_companies'].str.contains(\"Paramount Pictures\", na=False)].copy()\n",
    "data_new[data_new['profit']==data_new['profit'].min()].original_title"
   ]
  },
  {
   "cell_type": "markdown",
   "metadata": {
    "colab_type": "text",
    "id": "vS8Ur6ddVp_u"
   },
   "source": [
    "# 19. Какой год стал самым успешным по суммарным кассовым сборам?"
   ]
  },
  {
   "cell_type": "code",
   "execution_count": 42,
   "metadata": {
    "colab": {},
    "colab_type": "code",
    "id": "Dnbt4GdIVp_v"
   },
   "outputs": [],
   "source": [
    "#занесение ответа в словарь\n",
    "answers['19'] = '5. 2015'\n",
    "#+"
   ]
  },
  {
   "cell_type": "code",
   "execution_count": 43,
   "metadata": {},
   "outputs": [
    {
     "data": {
      "text/html": [
       "<div>\n",
       "<style scoped>\n",
       "    .dataframe tbody tr th:only-of-type {\n",
       "        vertical-align: middle;\n",
       "    }\n",
       "\n",
       "    .dataframe tbody tr th {\n",
       "        vertical-align: top;\n",
       "    }\n",
       "\n",
       "    .dataframe thead th {\n",
       "        text-align: right;\n",
       "    }\n",
       "</style>\n",
       "<table border=\"1\" class=\"dataframe\">\n",
       "  <thead>\n",
       "    <tr style=\"text-align: right;\">\n",
       "      <th></th>\n",
       "      <th>budget</th>\n",
       "      <th>revenue</th>\n",
       "      <th>runtime</th>\n",
       "      <th>vote_average</th>\n",
       "      <th>profit</th>\n",
       "    </tr>\n",
       "    <tr>\n",
       "      <th>release_year</th>\n",
       "      <th></th>\n",
       "      <th></th>\n",
       "      <th></th>\n",
       "      <th></th>\n",
       "      <th></th>\n",
       "    </tr>\n",
       "  </thead>\n",
       "  <tbody>\n",
       "    <tr>\n",
       "      <th>2015</th>\n",
       "      <td>6780630004</td>\n",
       "      <td>25449202382</td>\n",
       "      <td>13355</td>\n",
       "      <td>755.2</td>\n",
       "      <td>18668572378</td>\n",
       "    </tr>\n",
       "  </tbody>\n",
       "</table>\n",
       "</div>"
      ],
      "text/plain": [
       "                  budget      revenue  runtime  vote_average       profit\n",
       "release_year                                                             \n",
       "2015          6780630004  25449202382    13355         755.2  18668572378"
      ]
     },
     "execution_count": 43,
     "metadata": {},
     "output_type": "execute_result"
    }
   ],
   "source": [
    "# код для решения данного вопроса:\n",
    "grouped_df = data.groupby('release_year').sum()\n",
    "grouped_df[grouped_df['revenue']== grouped_df['revenue'].max()]"
   ]
  },
  {
   "cell_type": "markdown",
   "metadata": {
    "colab_type": "text",
    "id": "JAzJh4QAVp_z"
   },
   "source": [
    "# 20. Какой самый прибыльный год для студии Warner Bros?"
   ]
  },
  {
   "cell_type": "code",
   "execution_count": 44,
   "metadata": {
    "colab": {},
    "colab_type": "code",
    "id": "wgVu02DEVp_0"
   },
   "outputs": [],
   "source": [
    "#занесение ответа в словарь\n",
    "answers['20'] = '1. 2014'\n",
    "#+"
   ]
  },
  {
   "cell_type": "code",
   "execution_count": 45,
   "metadata": {},
   "outputs": [
    {
     "data": {
      "text/html": [
       "<div>\n",
       "<style scoped>\n",
       "    .dataframe tbody tr th:only-of-type {\n",
       "        vertical-align: middle;\n",
       "    }\n",
       "\n",
       "    .dataframe tbody tr th {\n",
       "        vertical-align: top;\n",
       "    }\n",
       "\n",
       "    .dataframe thead th {\n",
       "        text-align: right;\n",
       "    }\n",
       "</style>\n",
       "<table border=\"1\" class=\"dataframe\">\n",
       "  <thead>\n",
       "    <tr style=\"text-align: right;\">\n",
       "      <th></th>\n",
       "      <th>budget</th>\n",
       "      <th>revenue</th>\n",
       "      <th>runtime</th>\n",
       "      <th>vote_average</th>\n",
       "      <th>profit</th>\n",
       "    </tr>\n",
       "    <tr>\n",
       "      <th>release_year</th>\n",
       "      <th></th>\n",
       "      <th></th>\n",
       "      <th></th>\n",
       "      <th></th>\n",
       "      <th></th>\n",
       "    </tr>\n",
       "  </thead>\n",
       "  <tbody>\n",
       "    <tr>\n",
       "      <th>2014</th>\n",
       "      <td>947600000</td>\n",
       "      <td>3243064519</td>\n",
       "      <td>1576</td>\n",
       "      <td>88.9</td>\n",
       "      <td>2295464519</td>\n",
       "    </tr>\n",
       "  </tbody>\n",
       "</table>\n",
       "</div>"
      ],
      "text/plain": [
       "                 budget     revenue  runtime  vote_average      profit\n",
       "release_year                                                          \n",
       "2014          947600000  3243064519     1576          88.9  2295464519"
      ]
     },
     "execution_count": 45,
     "metadata": {},
     "output_type": "execute_result"
    }
   ],
   "source": [
    "# код для решения данного вопроса:\n",
    "data_new = data[data['production_companies'].str.contains(\"Warner Bros\", na=False)].copy()\n",
    "grouped_df = data_new.groupby('release_year').sum()\n",
    "grouped_df[grouped_df['revenue']== grouped_df['revenue'].max()]"
   ]
  },
  {
   "cell_type": "markdown",
   "metadata": {
    "colab_type": "text",
    "id": "8Im1S2HRVp_4"
   },
   "source": [
    "# 21. В каком месяце за все годы суммарно вышло больше всего фильмов?"
   ]
  },
  {
   "cell_type": "code",
   "execution_count": 46,
   "metadata": {
    "colab": {},
    "colab_type": "code",
    "id": "lev6TH7gVp_4"
   },
   "outputs": [],
   "source": [
    "#занесение ответа в словарь\n",
    "answers['21'] = '1. Сентябрь'\n",
    "#+"
   ]
  },
  {
   "cell_type": "code",
   "execution_count": 47,
   "metadata": {},
   "outputs": [
    {
     "data": {
      "text/plain": [
       "[('9', 227)]"
      ]
     },
     "execution_count": 47,
     "metadata": {},
     "output_type": "execute_result"
    }
   ],
   "source": [
    "# код для решения данного вопроса:\n",
    "data_new = data.copy()\n",
    "data_new['release_date'] = data_new.release_date.str.split('/')\n",
    "data_new['release_month']=data_new.release_date.str[0]\n",
    "Counter(data_new['release_month']).most_common(1)"
   ]
  },
  {
   "cell_type": "markdown",
   "metadata": {
    "colab_type": "text",
    "id": "uAJsZ_NeVp_7"
   },
   "source": [
    "# 22. Сколько суммарно вышло фильмов летом? (за июнь, июль, август)"
   ]
  },
  {
   "cell_type": "code",
   "execution_count": 48,
   "metadata": {
    "colab": {},
    "colab_type": "code",
    "id": "Aa-hEREoVp_8"
   },
   "outputs": [],
   "source": [
    "#занесение ответа в словарь\n",
    "answers['22'] = '2. 450'\n",
    "#+"
   ]
  },
  {
   "cell_type": "code",
   "execution_count": 49,
   "metadata": {},
   "outputs": [
    {
     "data": {
      "text/plain": [
       "450"
      ]
     },
     "execution_count": 49,
     "metadata": {},
     "output_type": "execute_result"
    }
   ],
   "source": [
    "# код для решения данного вопроса:\n",
    "data_new = data.copy()\n",
    "data_new['release_date'] = data_new.release_date.str.split('/')\n",
    "data_new['release_month']=data_new.release_date.str[0]\n",
    "len(data_new.query('release_month in [\"6\",\"7\",\"8\"]'))"
   ]
  },
  {
   "cell_type": "markdown",
   "metadata": {
    "colab_type": "text",
    "id": "G94ppOY1VqAA"
   },
   "source": [
    "# 23. Для какого режиссера зима – самое продуктивное время года? "
   ]
  },
  {
   "cell_type": "code",
   "execution_count": 50,
   "metadata": {
    "colab": {},
    "colab_type": "code",
    "id": "RhNTsamuVqAB"
   },
   "outputs": [],
   "source": [
    "#занесение ответа в словарь\n",
    "answers['23'] = '5. Peter Jackson'\n",
    "#+"
   ]
  },
  {
   "cell_type": "code",
   "execution_count": 51,
   "metadata": {},
   "outputs": [
    {
     "data": {
      "text/plain": [
       "Peter Jackson    7\n",
       "Name: director, dtype: int64"
      ]
     },
     "execution_count": 51,
     "metadata": {},
     "output_type": "execute_result"
    }
   ],
   "source": [
    "# код для решения данного вопроса:\n",
    "data_new = data.copy()\n",
    "data_new['director'] = data_new.director.str.split('|')\n",
    "data_new =data_new.explode('director')\n",
    "data_new['release_date'] = data_new.release_date.str.split('/')\n",
    "data_new['release_month']=data_new.release_date.str[0]\n",
    "data_new.query('release_month in [\"12\",\"1\",\"2\"]').director.value_counts().head(1)"
   ]
  },
  {
   "cell_type": "markdown",
   "metadata": {
    "colab_type": "text",
    "id": "RBo0JVjVVqAF"
   },
   "source": [
    "# 24. Какая студия дает самые длинные названия своим фильмам по количеству символов?"
   ]
  },
  {
   "cell_type": "code",
   "execution_count": 52,
   "metadata": {
    "colab": {},
    "colab_type": "code",
    "id": "QRGS8L0iVqAG"
   },
   "outputs": [],
   "source": [
    "#занесение ответа в словарь\n",
    "answers['24'] = '5. Four By Two Productions'\n",
    "#+"
   ]
  },
  {
   "cell_type": "code",
   "execution_count": 53,
   "metadata": {},
   "outputs": [
    {
     "data": {
      "text/plain": [
       "production_companies\n",
       "Four By Two Productions    83.0\n",
       "Name: length_title, dtype: float64"
      ]
     },
     "execution_count": 53,
     "metadata": {},
     "output_type": "execute_result"
    }
   ],
   "source": [
    "# код для решения данного вопроса:\n",
    "data_new = data.copy()\n",
    "data_new['production_companies'] = data_new.production_companies.str.split('|')\n",
    "data_new =data_new.explode('production_companies')\n",
    "data_new['length_title']=data_new.original_title.apply(lambda x: len(x))\n",
    "data_new.groupby('production_companies')['length_title'].mean().sort_values(ascending = False).head(1) "
   ]
  },
  {
   "cell_type": "markdown",
   "metadata": {
    "colab_type": "text",
    "id": "9G0hbvR7VqAK"
   },
   "source": [
    "# 25. Описание фильмов какой студии в среднем самые длинные по количеству слов?"
   ]
  },
  {
   "cell_type": "code",
   "execution_count": 54,
   "metadata": {},
   "outputs": [],
   "source": [
    "#занесение ответа в словарь\n",
    "answers['25'] = '3. Midnight Picture Show'\n",
    "#+"
   ]
  },
  {
   "cell_type": "code",
   "execution_count": 55,
   "metadata": {
    "colab": {},
    "colab_type": "code",
    "id": "Ge2GsLNxVqAK"
   },
   "outputs": [
    {
     "data": {
      "text/plain": [
       "production_companies\n",
       "Midnight Picture Show    175.0\n",
       "Name: length_overview, dtype: float64"
      ]
     },
     "execution_count": 55,
     "metadata": {},
     "output_type": "execute_result"
    }
   ],
   "source": [
    "# код для решения данного вопроса:\n",
    "data_new = data.copy()\n",
    "data_new['production_companies'] = data_new.production_companies.str.split('|')\n",
    "data_new =data_new.explode('production_companies')\n",
    "data_new['length_overview']=data_new.overview.apply(lambda x: len(x.split(\" \")))\n",
    "data_new.groupby('production_companies')['length_overview'].mean().sort_values(ascending = False).head(1) "
   ]
  },
  {
   "cell_type": "markdown",
   "metadata": {
    "colab_type": "text",
    "id": "FJ1AFt90VqAP"
   },
   "source": [
    "# 26. Какие фильмы входят в 1 процент лучших по рейтингу? \n",
    "по vote_average"
   ]
  },
  {
   "cell_type": "code",
   "execution_count": 56,
   "metadata": {},
   "outputs": [],
   "source": [
    "#занесение ответа в словарь\n",
    "answers['26'] = '1. Inside Out, The Dark Knight, 12 Years a Slave'\n",
    "#+"
   ]
  },
  {
   "cell_type": "code",
   "execution_count": 57,
   "metadata": {},
   "outputs": [
    {
     "data": {
      "text/plain": [
       "9                                              Inside Out\n",
       "28                                              Spotlight\n",
       "34                                                   Room\n",
       "118                                          Interstellar\n",
       "119                               Guardians of the Galaxy\n",
       "124                                            Big Hero 6\n",
       "125                                    The Imitation Game\n",
       "128                                             Gone Girl\n",
       "138                              The Grand Budapest Hotel\n",
       "155                              The Theory of Everything\n",
       "177                                The Fault in Our Stars\n",
       "283                                            Mr. Nobody\n",
       "316                                              3 Idiots\n",
       "370                                             Inception\n",
       "496     The Lord of the Rings: The Fellowship of the Ring\n",
       "599                                       The Dark Knight\n",
       "863                 The Lord of the Rings: The Two Towers\n",
       "872                                           The Pianist\n",
       "1081        The Lord of the Rings: The Return of the King\n",
       "1183                              The Wolf of Wall Street\n",
       "1188                                                  Her\n",
       "1191                                     12 Years a Slave\n",
       "1205                                            Prisoners\n",
       "1213                                   Dallas Buyers Club\n",
       "1444                                         The Prestige\n",
       "1563                Eternal Sunshine of the Spotless Mind\n",
       "1688                                  There Will Be Blood\n",
       "1800                                              Memento\n",
       "Name: original_title, dtype: object"
      ]
     },
     "execution_count": 57,
     "metadata": {},
     "output_type": "execute_result"
    }
   ],
   "source": [
    "min_vote_average = np.quantile(data.vote_average, 0.99)\n",
    "data[data.vote_average >= min_vote_average].original_title"
   ]
  },
  {
   "cell_type": "markdown",
   "metadata": {
    "colab_type": "text",
    "id": "MdXsUXbCVqAV"
   },
   "source": [
    "# 27. Какие актеры чаще всего снимаются в одном фильме вместе?\n"
   ]
  },
  {
   "cell_type": "code",
   "execution_count": 58,
   "metadata": {},
   "outputs": [],
   "source": [
    "#занесение ответа в словарь\n",
    "answers['27'] = '5. Daniel Radcliffe & Rupert Grint'\n",
    "#+"
   ]
  },
  {
   "cell_type": "code",
   "execution_count": 59,
   "metadata": {},
   "outputs": [
    {
     "data": {
      "text/plain": [
       "[('Daniel Radcliffe & Emma Watson', 8),\n",
       " ('Daniel Radcliffe & Rupert Grint', 8),\n",
       " ('Emma Watson & Rupert Grint', 8),\n",
       " ('Ben Stiller & Owen Wilson', 6),\n",
       " ('Helena Bonham Carter & Johnny Depp', 6),\n",
       " ('Paul Walker & Vin Diesel', 5),\n",
       " ('Adam Sandler & Kevin James', 5),\n",
       " ('Hugh Jackman & Ian McKellen', 5),\n",
       " ('Kristen Stewart & Robert Pattinson', 5),\n",
       " ('Kristen Stewart & Taylor Lautner', 5)]"
      ]
     },
     "execution_count": 59,
     "metadata": {},
     "output_type": "execute_result"
    }
   ],
   "source": [
    "data_new = data.copy()\n",
    "from collections import Counter\n",
    "from itertools import combinations\n",
    "def actor_combinations(cast):\n",
    "    actors = sorted(cast.split('|'))\n",
    "    actors = [list(x) for x in combinations(actors,2)]\n",
    "    return [x[0]+ \" & \" + x[1] for x in actors]\n",
    "\n",
    "data_new['actor_combinations'] = data_new.cast.apply(actor_combinations)                                         \n",
    "data_new =data_new.explode('actor_combinations')\n",
    "Counter(data_new['actor_combinations']).most_common(10)"
   ]
  },
  {
   "cell_type": "markdown",
   "metadata": {
    "colab_type": "text",
    "id": "U0nONFnGVqAX"
   },
   "source": [
    "# Submission"
   ]
  },
  {
   "cell_type": "code",
   "execution_count": 60,
   "metadata": {
    "colab": {},
    "colab_type": "code",
    "id": "IfcaRO9-VqAX",
    "outputId": "0f132912-32bb-4196-c98c-abfbc4ad5a5f"
   },
   "outputs": [
    {
     "data": {
      "text/plain": [
       "{'1': '5. Pirates of the Caribbean: On Stranger Tides (tt1298650)',\n",
       " '2': '2. Gods and Generals (tt0279111)',\n",
       " '3': '3. Winnie the Pooh (tt1449283)',\n",
       " '4': '2. 110',\n",
       " '5': '1. 107',\n",
       " '6': '5. Avatar (tt0499549)',\n",
       " '7': '5. The Lone Ranger (tt1210819)',\n",
       " '8': '1. 1478',\n",
       " '9': '4. The Dark Knight (tt0468569)',\n",
       " '10': '5. The Lone Ranger (tt1210819)',\n",
       " '11': '3. Drama',\n",
       " '12': '1. Drama',\n",
       " '13': '5. Peter Jackson',\n",
       " '14': '3. Robert Rodriguez',\n",
       " '15': '3. Chris Hemsworth',\n",
       " '16': '3. Matt Damon',\n",
       " '17': '2. Action',\n",
       " '18': '1. K-19: The Widowmaker (tt0267626)',\n",
       " '19': '5. 2015',\n",
       " '20': '1. 2014',\n",
       " '21': '1. Сентябрь',\n",
       " '22': '2. 450',\n",
       " '23': '5. Peter Jackson',\n",
       " '24': '5. Four By Two Productions',\n",
       " '25': '3. Midnight Picture Show',\n",
       " '26': '1. Inside Out, The Dark Knight, 12 Years a Slave',\n",
       " '27': '5. Daniel Radcliffe & Rupert Grint'}"
      ]
     },
     "execution_count": 60,
     "metadata": {},
     "output_type": "execute_result"
    }
   ],
   "source": [
    "# в конце можно посмотреть свои ответы к каждому вопросу\n",
    "answers"
   ]
  },
  {
   "cell_type": "code",
   "execution_count": 61,
   "metadata": {
    "colab": {},
    "colab_type": "code",
    "id": "SiRmHPl8VqAd"
   },
   "outputs": [
    {
     "data": {
      "text/plain": [
       "27"
      ]
     },
     "execution_count": 61,
     "metadata": {},
     "output_type": "execute_result"
    }
   ],
   "source": [
    "# и убедиться что ни чего не пропустил)\n",
    "len(answers)"
   ]
  },
  {
   "cell_type": "code",
   "execution_count": null,
   "metadata": {
    "colab": {},
    "colab_type": "code",
    "id": "uCfuTkRbVqAg"
   },
   "outputs": [],
   "source": []
  },
  {
   "cell_type": "code",
   "execution_count": null,
   "metadata": {
    "colab": {},
    "colab_type": "code",
    "id": "Vwx3NrkSVqAl"
   },
   "outputs": [],
   "source": []
  }
 ],
 "metadata": {
  "colab": {
   "name": "Copy of [SF-DST] Movies IMBD v4.1 TEMPLATE.ipynb",
   "provenance": []
  },
  "kernelspec": {
   "display_name": "Python 3",
   "language": "python",
   "name": "python3"
  },
  "language_info": {
   "codemirror_mode": {
    "name": "ipython",
    "version": 3
   },
   "file_extension": ".py",
   "mimetype": "text/x-python",
   "name": "python",
   "nbconvert_exporter": "python",
   "pygments_lexer": "ipython3",
   "version": "3.8.3"
  }
 },
 "nbformat": 4,
 "nbformat_minor": 1
}
