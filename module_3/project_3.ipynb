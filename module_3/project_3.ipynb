{
 "cells": [
  {
   "cell_type": "markdown",
   "metadata": {},
   "source": [
    "# Загрузка Pandas и очистка данных"
   ]
  },
  {
   "cell_type": "code",
   "execution_count": 1,
   "metadata": {},
   "outputs": [],
   "source": [
    "import pandas as pd\n",
    "import numpy as np"
   ]
  },
  {
   "cell_type": "code",
   "execution_count": 2,
   "metadata": {},
   "outputs": [],
   "source": [
    "df = pd.read_csv('main_task.xls')"
   ]
  },
  {
   "cell_type": "code",
   "execution_count": 3,
   "metadata": {},
   "outputs": [],
   "source": [
    "# Ваш код по очистке данных и генерации новых признаков\n",
    "# При необходимости добавьте ячейки"
   ]
  },
  {
   "cell_type": "code",
   "execution_count": 4,
   "metadata": {},
   "outputs": [
    {
     "data": {
      "text/html": [
       "<div>\n",
       "<style scoped>\n",
       "    .dataframe tbody tr th:only-of-type {\n",
       "        vertical-align: middle;\n",
       "    }\n",
       "\n",
       "    .dataframe tbody tr th {\n",
       "        vertical-align: top;\n",
       "    }\n",
       "\n",
       "    .dataframe thead th {\n",
       "        text-align: right;\n",
       "    }\n",
       "</style>\n",
       "<table border=\"1\" class=\"dataframe\">\n",
       "  <thead>\n",
       "    <tr style=\"text-align: right;\">\n",
       "      <th></th>\n",
       "      <th>Restaurant_id</th>\n",
       "      <th>City</th>\n",
       "      <th>Cuisine Style</th>\n",
       "      <th>Ranking</th>\n",
       "      <th>Rating</th>\n",
       "      <th>Price Range</th>\n",
       "      <th>Number of Reviews</th>\n",
       "      <th>Reviews</th>\n",
       "      <th>URL_TA</th>\n",
       "      <th>ID_TA</th>\n",
       "    </tr>\n",
       "  </thead>\n",
       "  <tbody>\n",
       "    <tr>\n",
       "      <th>0</th>\n",
       "      <td>id_5569</td>\n",
       "      <td>Paris</td>\n",
       "      <td>['European', 'French', 'International']</td>\n",
       "      <td>5570.0</td>\n",
       "      <td>3.5</td>\n",
       "      <td>$$ - $$$</td>\n",
       "      <td>194.0</td>\n",
       "      <td>[['Good food at your doorstep', 'A good hotel ...</td>\n",
       "      <td>/Restaurant_Review-g187147-d1912643-Reviews-R_...</td>\n",
       "      <td>d1912643</td>\n",
       "    </tr>\n",
       "    <tr>\n",
       "      <th>1</th>\n",
       "      <td>id_1535</td>\n",
       "      <td>Stockholm</td>\n",
       "      <td>NaN</td>\n",
       "      <td>1537.0</td>\n",
       "      <td>4.0</td>\n",
       "      <td>NaN</td>\n",
       "      <td>10.0</td>\n",
       "      <td>[['Unique cuisine', 'Delicious Nepalese food']...</td>\n",
       "      <td>/Restaurant_Review-g189852-d7992032-Reviews-Bu...</td>\n",
       "      <td>d7992032</td>\n",
       "    </tr>\n",
       "    <tr>\n",
       "      <th>2</th>\n",
       "      <td>id_352</td>\n",
       "      <td>London</td>\n",
       "      <td>['Japanese', 'Sushi', 'Asian', 'Grill', 'Veget...</td>\n",
       "      <td>353.0</td>\n",
       "      <td>4.5</td>\n",
       "      <td>$$$$</td>\n",
       "      <td>688.0</td>\n",
       "      <td>[['Catch up with friends', 'Not exceptional'],...</td>\n",
       "      <td>/Restaurant_Review-g186338-d8632781-Reviews-RO...</td>\n",
       "      <td>d8632781</td>\n",
       "    </tr>\n",
       "    <tr>\n",
       "      <th>3</th>\n",
       "      <td>id_3456</td>\n",
       "      <td>Berlin</td>\n",
       "      <td>NaN</td>\n",
       "      <td>3458.0</td>\n",
       "      <td>5.0</td>\n",
       "      <td>NaN</td>\n",
       "      <td>3.0</td>\n",
       "      <td>[[], []]</td>\n",
       "      <td>/Restaurant_Review-g187323-d1358776-Reviews-Es...</td>\n",
       "      <td>d1358776</td>\n",
       "    </tr>\n",
       "    <tr>\n",
       "      <th>4</th>\n",
       "      <td>id_615</td>\n",
       "      <td>Munich</td>\n",
       "      <td>['German', 'Central European', 'Vegetarian Fri...</td>\n",
       "      <td>621.0</td>\n",
       "      <td>4.0</td>\n",
       "      <td>$$ - $$$</td>\n",
       "      <td>84.0</td>\n",
       "      <td>[['Best place to try a Bavarian food', 'Nice b...</td>\n",
       "      <td>/Restaurant_Review-g187309-d6864963-Reviews-Au...</td>\n",
       "      <td>d6864963</td>\n",
       "    </tr>\n",
       "    <tr>\n",
       "      <th>5</th>\n",
       "      <td>id_1418</td>\n",
       "      <td>Oporto</td>\n",
       "      <td>NaN</td>\n",
       "      <td>1419.0</td>\n",
       "      <td>3.0</td>\n",
       "      <td>NaN</td>\n",
       "      <td>2.0</td>\n",
       "      <td>[['There are better 3 star hotel bars', 'Amazi...</td>\n",
       "      <td>/Restaurant_Review-g189180-d12503536-Reviews-D...</td>\n",
       "      <td>d12503536</td>\n",
       "    </tr>\n",
       "    <tr>\n",
       "      <th>6</th>\n",
       "      <td>id_1720</td>\n",
       "      <td>Milan</td>\n",
       "      <td>['Italian', 'Pizza']</td>\n",
       "      <td>1722.0</td>\n",
       "      <td>4.0</td>\n",
       "      <td>$</td>\n",
       "      <td>50.0</td>\n",
       "      <td>[['Excellent simple local eatery.', 'Excellent...</td>\n",
       "      <td>/Restaurant_Review-g187849-d5808504-Reviews-Pi...</td>\n",
       "      <td>d5808504</td>\n",
       "    </tr>\n",
       "    <tr>\n",
       "      <th>7</th>\n",
       "      <td>id_825</td>\n",
       "      <td>Bratislava</td>\n",
       "      <td>['Italian']</td>\n",
       "      <td>826.0</td>\n",
       "      <td>3.0</td>\n",
       "      <td>NaN</td>\n",
       "      <td>9.0</td>\n",
       "      <td>[['Wasting of money', 'excellent cuisine'], ['...</td>\n",
       "      <td>/Restaurant_Review-g274924-d3199765-Reviews-Ri...</td>\n",
       "      <td>d3199765</td>\n",
       "    </tr>\n",
       "    <tr>\n",
       "      <th>8</th>\n",
       "      <td>id_2690</td>\n",
       "      <td>Vienna</td>\n",
       "      <td>NaN</td>\n",
       "      <td>2692.0</td>\n",
       "      <td>4.0</td>\n",
       "      <td>NaN</td>\n",
       "      <td>NaN</td>\n",
       "      <td>[[], []]</td>\n",
       "      <td>/Restaurant_Review-g190454-d12845029-Reviews-G...</td>\n",
       "      <td>d12845029</td>\n",
       "    </tr>\n",
       "    <tr>\n",
       "      <th>9</th>\n",
       "      <td>id_4209</td>\n",
       "      <td>Rome</td>\n",
       "      <td>['Italian', 'Pizza', 'Fast Food']</td>\n",
       "      <td>4210.0</td>\n",
       "      <td>4.0</td>\n",
       "      <td>$</td>\n",
       "      <td>55.0</td>\n",
       "      <td>[['Clean efficient staff', 'Nice little pizza ...</td>\n",
       "      <td>/Restaurant_Review-g187791-d8020681-Reviews-Qu...</td>\n",
       "      <td>d8020681</td>\n",
       "    </tr>\n",
       "  </tbody>\n",
       "</table>\n",
       "</div>"
      ],
      "text/plain": [
       "  Restaurant_id        City  \\\n",
       "0       id_5569       Paris   \n",
       "1       id_1535   Stockholm   \n",
       "2        id_352      London   \n",
       "3       id_3456      Berlin   \n",
       "4        id_615      Munich   \n",
       "5       id_1418      Oporto   \n",
       "6       id_1720       Milan   \n",
       "7        id_825  Bratislava   \n",
       "8       id_2690      Vienna   \n",
       "9       id_4209        Rome   \n",
       "\n",
       "                                       Cuisine Style  Ranking  Rating  \\\n",
       "0            ['European', 'French', 'International']   5570.0     3.5   \n",
       "1                                                NaN   1537.0     4.0   \n",
       "2  ['Japanese', 'Sushi', 'Asian', 'Grill', 'Veget...    353.0     4.5   \n",
       "3                                                NaN   3458.0     5.0   \n",
       "4  ['German', 'Central European', 'Vegetarian Fri...    621.0     4.0   \n",
       "5                                                NaN   1419.0     3.0   \n",
       "6                               ['Italian', 'Pizza']   1722.0     4.0   \n",
       "7                                        ['Italian']    826.0     3.0   \n",
       "8                                                NaN   2692.0     4.0   \n",
       "9                  ['Italian', 'Pizza', 'Fast Food']   4210.0     4.0   \n",
       "\n",
       "  Price Range  Number of Reviews  \\\n",
       "0    $$ - $$$              194.0   \n",
       "1         NaN               10.0   \n",
       "2        $$$$              688.0   \n",
       "3         NaN                3.0   \n",
       "4    $$ - $$$               84.0   \n",
       "5         NaN                2.0   \n",
       "6           $               50.0   \n",
       "7         NaN                9.0   \n",
       "8         NaN                NaN   \n",
       "9           $               55.0   \n",
       "\n",
       "                                             Reviews  \\\n",
       "0  [['Good food at your doorstep', 'A good hotel ...   \n",
       "1  [['Unique cuisine', 'Delicious Nepalese food']...   \n",
       "2  [['Catch up with friends', 'Not exceptional'],...   \n",
       "3                                           [[], []]   \n",
       "4  [['Best place to try a Bavarian food', 'Nice b...   \n",
       "5  [['There are better 3 star hotel bars', 'Amazi...   \n",
       "6  [['Excellent simple local eatery.', 'Excellent...   \n",
       "7  [['Wasting of money', 'excellent cuisine'], ['...   \n",
       "8                                           [[], []]   \n",
       "9  [['Clean efficient staff', 'Nice little pizza ...   \n",
       "\n",
       "                                              URL_TA      ID_TA  \n",
       "0  /Restaurant_Review-g187147-d1912643-Reviews-R_...   d1912643  \n",
       "1  /Restaurant_Review-g189852-d7992032-Reviews-Bu...   d7992032  \n",
       "2  /Restaurant_Review-g186338-d8632781-Reviews-RO...   d8632781  \n",
       "3  /Restaurant_Review-g187323-d1358776-Reviews-Es...   d1358776  \n",
       "4  /Restaurant_Review-g187309-d6864963-Reviews-Au...   d6864963  \n",
       "5  /Restaurant_Review-g189180-d12503536-Reviews-D...  d12503536  \n",
       "6  /Restaurant_Review-g187849-d5808504-Reviews-Pi...   d5808504  \n",
       "7  /Restaurant_Review-g274924-d3199765-Reviews-Ri...   d3199765  \n",
       "8  /Restaurant_Review-g190454-d12845029-Reviews-G...  d12845029  \n",
       "9  /Restaurant_Review-g187791-d8020681-Reviews-Qu...   d8020681  "
      ]
     },
     "metadata": {},
     "output_type": "display_data"
    },
    {
     "name": "stdout",
     "output_type": "stream",
     "text": [
      "<class 'pandas.core.frame.DataFrame'>\n",
      "RangeIndex: 40000 entries, 0 to 39999\n",
      "Data columns (total 10 columns):\n",
      " #   Column             Non-Null Count  Dtype  \n",
      "---  ------             --------------  -----  \n",
      " 0   Restaurant_id      40000 non-null  object \n",
      " 1   City               40000 non-null  object \n",
      " 2   Cuisine Style      30717 non-null  object \n",
      " 3   Ranking            40000 non-null  float64\n",
      " 4   Rating             40000 non-null  float64\n",
      " 5   Price Range        26114 non-null  object \n",
      " 6   Number of Reviews  37457 non-null  float64\n",
      " 7   Reviews            40000 non-null  object \n",
      " 8   URL_TA             40000 non-null  object \n",
      " 9   ID_TA              40000 non-null  object \n",
      "dtypes: float64(3), object(7)\n",
      "memory usage: 3.1+ MB\n"
     ]
    }
   ],
   "source": [
    "display(df.head(10))\n",
    "df.info()"
   ]
  },
  {
   "cell_type": "markdown",
   "metadata": {},
   "source": [
    "## City — город, в котором находится ресторан;"
   ]
  },
  {
   "cell_type": "code",
   "execution_count": 5,
   "metadata": {},
   "outputs": [
    {
     "data": {
      "text/plain": [
       "London       5757\n",
       "Paris        4897\n",
       "Madrid       3108\n",
       "Barcelona    2734\n",
       "Berlin       2155\n",
       "Name: City, dtype: int64"
      ]
     },
     "execution_count": 5,
     "metadata": {},
     "output_type": "execute_result"
    }
   ],
   "source": [
    "Cities = df['City'].value_counts()\n",
    "Cities.head(5)"
   ]
  },
  {
   "cell_type": "markdown",
   "metadata": {},
   "source": [
    "### Добавляем новый признак rest_conts - количество ресторанов в городе"
   ]
  },
  {
   "cell_type": "code",
   "execution_count": 6,
   "metadata": {},
   "outputs": [
    {
     "data": {
      "text/plain": [
       "<matplotlib.axes._subplots.AxesSubplot at 0x1e0091a81c0>"
      ]
     },
     "execution_count": 6,
     "metadata": {},
     "output_type": "execute_result"
    },
    {
     "data": {
      "image/png": "[encoded data removed]",
      "text/plain": [
       "<Figure size 432x288 with 1 Axes>"
      ]
     },
     "metadata": {
      "needs_background": "light"
     },
     "output_type": "display_data"
    }
   ],
   "source": [
    "def rest_conts(city):\n",
    "    return Cities[city]\n",
    "df['rest_conts'] = df['City'].apply(rest_conts)\n",
    "df['rest_conts'].hist(bins = 20)"
   ]
  },
  {
   "cell_type": "markdown",
   "metadata": {},
   "source": [
    "## Cuisine Style — кухня или кухни, к которым можно отнести блюда, предлагаемые в ресторане;"
   ]
  },
  {
   "cell_type": "code",
   "execution_count": 7,
   "metadata": {},
   "outputs": [
    {
     "data": {
      "text/plain": [
       "0                  ['European', 'French', 'International']\n",
       "1                                                      NaN\n",
       "2        ['Japanese', 'Sushi', 'Asian', 'Grill', 'Veget...\n",
       "3                                                      NaN\n",
       "4        ['German', 'Central European', 'Vegetarian Fri...\n",
       "                               ...                        \n",
       "39995    ['Italian', 'Vegetarian Friendly', 'Vegan Opti...\n",
       "39996    ['French', 'American', 'Bar', 'European', 'Veg...\n",
       "39997                                ['Japanese', 'Sushi']\n",
       "39998    ['Polish', 'European', 'Eastern European', 'Ce...\n",
       "39999                                          ['Spanish']\n",
       "Name: Cuisine Style, Length: 40000, dtype: object"
      ]
     },
     "execution_count": 7,
     "metadata": {},
     "output_type": "execute_result"
    }
   ],
   "source": [
    "df['Cuisine Style']"
   ]
  },
  {
   "cell_type": "markdown",
   "metadata": {},
   "source": [
    "### Добавляем новый признак cuisine_conts - количество кухонь в ресторане"
   ]
  },
  {
   "cell_type": "code",
   "execution_count": 8,
   "metadata": {},
   "outputs": [
    {
     "data": {
      "text/plain": [
       "2.6229"
      ]
     },
     "execution_count": 8,
     "metadata": {},
     "output_type": "execute_result"
    }
   ],
   "source": [
    "import re\n",
    "pattern = re.compile('[a-zA-Z]+\\s*[a-zA-Z]*\\s*[a-zA-Z]*')\n",
    "\n",
    "def cuisine_counts(cuisines):\n",
    "    if cuisines == 1:\n",
    "        return 1\n",
    "    cuisines_list = pattern.findall(cuisines)\n",
    "    return(len(cuisines_list))\n",
    "    \n",
    "df['cuisine_conts'] = df['Cuisine Style'].fillna(1).apply(cuisine_counts)\n",
    "df['cuisine_conts'].mean()"
   ]
  },
  {
   "cell_type": "code",
   "execution_count": 9,
   "metadata": {},
   "outputs": [
    {
     "data": {
      "text/plain": [
       "126"
      ]
     },
     "execution_count": 9,
     "metadata": {},
     "output_type": "execute_result"
    }
   ],
   "source": [
    "str_list = df['Cuisine Style'].dropna()\n",
    "cuisine_list=[]\n",
    "cuisine_counts=[]\n",
    "\n",
    "import collections\n",
    "counter = collections.Counter()\n",
    "\n",
    "import re\n",
    "pattern = re.compile('[a-zA-Z]+\\s*[a-zA-Z]*\\s*[a-zA-Z]*\\s*')\n",
    "for s in str_list:\n",
    "    cuisines = pattern.findall(s)\n",
    "    for c in cuisines:\n",
    "        counter[c] += 1\n",
    "len(sorted(counter))"
   ]
  },
  {
   "cell_type": "markdown",
   "metadata": {},
   "source": [
    "## Ranking — место, которое занимает данный ресторан среди всех ресторанов своего города;"
   ]
  },
  {
   "cell_type": "code",
   "execution_count": 10,
   "metadata": {},
   "outputs": [
    {
     "data": {
      "text/plain": [
       "<matplotlib.axes._subplots.AxesSubplot at 0x1e00994d520>"
      ]
     },
     "execution_count": 10,
     "metadata": {},
     "output_type": "execute_result"
    },
    {
     "data": {
      "image/png": "[encoded data removed]",
      "text/plain": [
       "<Figure size 432x288 with 1 Axes>"
      ]
     },
     "metadata": {
      "needs_background": "light"
     },
     "output_type": "display_data"
    }
   ],
   "source": [
    "df['Ranking'].hist(bins =1000)"
   ]
  },
  {
   "cell_type": "markdown",
   "metadata": {},
   "source": [
    "### Добавляем новый признак norm_ranking - нормированое значение Ranking"
   ]
  },
  {
   "cell_type": "code",
   "execution_count": 11,
   "metadata": {},
   "outputs": [],
   "source": [
    "# нормирование Ranking\n",
    "max_rankings = df.groupby('City')['Ranking'].max()\n",
    "df['norm_ranking'] = df['Ranking']\n",
    "def f_norm(row):   \n",
    "    row['norm_ranking'] = row['norm_ranking']/max_rankings[row['City']]\n",
    "    return row\n",
    "# Применяем функцию \n",
    "df = df.apply(lambda row: f_norm(row), axis=1)\n"
   ]
  },
  {
   "cell_type": "code",
   "execution_count": 12,
   "metadata": {},
   "outputs": [
    {
     "data": {
      "text/plain": [
       "<matplotlib.axes._subplots.AxesSubplot at 0x1e00a386a30>"
      ]
     },
     "execution_count": 12,
     "metadata": {},
     "output_type": "execute_result"
    },
    {
     "data": {
      "image/png": "[encoded data removed]",
      "text/plain": [
       "<Figure size 432x288 with 1 Axes>"
      ]
     },
     "metadata": {
      "needs_background": "light"
     },
     "output_type": "display_data"
    }
   ],
   "source": [
    "df['norm_ranking'].hist(bins =1000)"
   ]
  },
  {
   "cell_type": "markdown",
   "metadata": {},
   "source": [
    "## Price Range — диапазон цен в ресторане"
   ]
  },
  {
   "cell_type": "code",
   "execution_count": 13,
   "metadata": {},
   "outputs": [
    {
     "data": {
      "text/plain": [
       "$$ - $$$    18412\n",
       "$            6279\n",
       "$$$$         1423\n",
       "Name: Price Range, dtype: int64"
      ]
     },
     "execution_count": 13,
     "metadata": {},
     "output_type": "execute_result"
    }
   ],
   "source": [
    "df['Price Range'].value_counts()"
   ]
  },
  {
   "cell_type": "markdown",
   "metadata": {},
   "source": [
    "### Добавляем новый признак price_range - числовая градация диопазона цен"
   ]
  },
  {
   "cell_type": "code",
   "execution_count": 14,
   "metadata": {},
   "outputs": [],
   "source": [
    "def replace_price(prace):\n",
    "    if prace == '$' : return 0\n",
    "    if prace == '$$ - $$$' : return 1\n",
    "    if prace == '$$$$' : return 2\n",
    "    \n",
    "df['price_range'] = df['Price Range'].apply(replace_price)\n",
    "df['price_range'] = df['price_range'].fillna(0)#(df['price_range'].mean())"
   ]
  },
  {
   "cell_type": "markdown",
   "metadata": {},
   "source": [
    "## Number of Reviews — количество отзывов о ресторане;"
   ]
  },
  {
   "cell_type": "code",
   "execution_count": 15,
   "metadata": {},
   "outputs": [
    {
     "data": {
      "text/plain": [
       "<matplotlib.axes._subplots.AxesSubplot at 0x1e00d48c790>"
      ]
     },
     "execution_count": 15,
     "metadata": {},
     "output_type": "execute_result"
    },
    {
     "data": {
      "image/png": "[encoded data removed]",
      "text/plain": [
       "<Figure size 432x288 with 1 Axes>"
      ]
     },
     "metadata": {
      "needs_background": "light"
     },
     "output_type": "display_data"
    }
   ],
   "source": [
    "df['Number of Reviews'].hist(bins = 100)"
   ]
  },
  {
   "cell_type": "code",
   "execution_count": 16,
   "metadata": {},
   "outputs": [],
   "source": [
    "df['Number of Reviews'] = df['Number of Reviews'].fillna(0)"
   ]
  },
  {
   "cell_type": "markdown",
   "metadata": {},
   "source": [
    "## Reviews — данные о двух отзывах, которые отображаются на сайте ресторана;"
   ]
  },
  {
   "cell_type": "code",
   "execution_count": 17,
   "metadata": {},
   "outputs": [
    {
     "data": {
      "text/plain": [
       "0        [['Good food at your doorstep', 'A good hotel ...\n",
       "1        [['Unique cuisine', 'Delicious Nepalese food']...\n",
       "2        [['Catch up with friends', 'Not exceptional'],...\n",
       "3                                                 [[], []]\n",
       "4        [['Best place to try a Bavarian food', 'Nice b...\n",
       "                               ...                        \n",
       "39995    [['The real Italian experience!', 'Wonderful f...\n",
       "39996    [['Parisian atmosphere', 'Bit pricey but inter...\n",
       "39997    [['Good by swedish standards', 'A hidden jewel...\n",
       "39998    [['Underground restaurant', 'Oldest Restaurant...\n",
       "39999    [['Average', 'Nice an informal'], ['01/31/2016...\n",
       "Name: Reviews, Length: 40000, dtype: object"
      ]
     },
     "execution_count": 17,
     "metadata": {},
     "output_type": "execute_result"
    }
   ],
   "source": [
    "df['Reviews']"
   ]
  },
  {
   "cell_type": "code",
   "execution_count": 18,
   "metadata": {},
   "outputs": [
    {
     "data": {
      "text/plain": [
       "\"[['Good food at your doorstep', 'A good hotel restaurant'], ['12/31/2017', '11/20/2017']]\""
      ]
     },
     "execution_count": 18,
     "metadata": {},
     "output_type": "execute_result"
    }
   ],
   "source": [
    "df['Reviews'][0]"
   ]
  },
  {
   "cell_type": "markdown",
   "metadata": {},
   "source": [
    "### Добавляем новый признак review_len - длинна отзыва  "
   ]
  },
  {
   "cell_type": "code",
   "execution_count": 19,
   "metadata": {},
   "outputs": [],
   "source": [
    "df['review_len'] = df['Reviews'].apply(len)"
   ]
  },
  {
   "cell_type": "code",
   "execution_count": 20,
   "metadata": {},
   "outputs": [],
   "source": [
    "import re\n",
    "import datetime as dt\n",
    "\n",
    "pattern = re.compile('\\d+/\\d+/\\d+')\n",
    "\n",
    "# функция нахождения время первого отзыва\n",
    "def begin_date(reviews):\n",
    "    date_list = pattern.findall(reviews)\n",
    "    if len(date_list) > 0:        \n",
    "        return date_list[0]\n",
    "    else:\n",
    "        return None\n",
    "\n",
    "# функция нахождения времени между первым и вторым отзывами \n",
    "def reviews_timedelta(reviews):\n",
    "    \n",
    "    date_list = pattern.findall(reviews)\n",
    "    if len(date_list) == 2:\n",
    "        time = dt.datetime.strptime(date_list[0], '%m/%d/%Y') - dt.datetime.strptime(date_list[1], '%m/%d/%Y')\n",
    "        if time.days < 0 : return None\n",
    "        return time.days\n",
    "    else:\n",
    "        return None\n"
   ]
  },
  {
   "cell_type": "markdown",
   "metadata": {},
   "source": [
    "### Добавляем новый признак review_timedelta - время между первым и вторым отзывами"
   ]
  },
  {
   "cell_type": "code",
   "execution_count": 21,
   "metadata": {},
   "outputs": [
    {
     "data": {
      "text/plain": [
       "3207.0"
      ]
     },
     "execution_count": 21,
     "metadata": {},
     "output_type": "execute_result"
    },
    {
     "data": {
      "image/png": "[encoded data removed]",
      "text/plain": [
       "<Figure size 432x288 with 1 Axes>"
      ]
     },
     "metadata": {
      "needs_background": "light"
     },
     "output_type": "display_data"
    }
   ],
   "source": [
    "df['review_timedelta'] =df['Reviews'].apply(reviews_timedelta)\n",
    "df['review_timedelta'].hist(bins = 100)\n",
    "df['review_timedelta'].max()"
   ]
  },
  {
   "cell_type": "markdown",
   "metadata": {},
   "source": [
    "### Добавляем новый признак review_lag - временой лаг даты публикации первого отзыва  "
   ]
  },
  {
   "cell_type": "code",
   "execution_count": 22,
   "metadata": {},
   "outputs": [
    {
     "data": {
      "text/plain": [
       "<matplotlib.axes._subplots.AxesSubplot at 0x1e00ccb1430>"
      ]
     },
     "execution_count": 22,
     "metadata": {},
     "output_type": "execute_result"
    },
    {
     "data": {
      "image/png": "[encoded data removed]",
      "text/plain": [
       "<Figure size 432x288 with 1 Axes>"
      ]
     },
     "metadata": {
      "needs_background": "light"
     },
     "output_type": "display_data"
    }
   ],
   "source": [
    "\n",
    "date = pd.to_datetime(df['Reviews'].apply(begin_date))\n",
    "max_date = date.max() \n",
    "df['review_lag'] = date.apply(lambda d : (max_date - d).days)\n",
    "df['review_lag'].hist(bins = 100)"
   ]
  },
  {
   "cell_type": "code",
   "execution_count": 23,
   "metadata": {},
   "outputs": [],
   "source": [
    "# заполнение пропусков\n",
    "df['review_timedelta'] = df['review_timedelta'].fillna(df['review_timedelta'].mean())\n",
    "df['review_lag'] = df['review_lag'].fillna(df['review_lag'].mean())"
   ]
  },
  {
   "cell_type": "markdown",
   "metadata": {},
   "source": [
    "## Результирующий датасет"
   ]
  },
  {
   "cell_type": "code",
   "execution_count": 24,
   "metadata": {},
   "outputs": [
    {
     "name": "stdout",
     "output_type": "stream",
     "text": [
      "<class 'pandas.core.frame.DataFrame'>\n",
      "RangeIndex: 40000 entries, 0 to 39999\n",
      "Data columns (total 17 columns):\n",
      " #   Column             Non-Null Count  Dtype  \n",
      "---  ------             --------------  -----  \n",
      " 0   Restaurant_id      40000 non-null  object \n",
      " 1   City               40000 non-null  object \n",
      " 2   Cuisine Style      30717 non-null  object \n",
      " 3   Ranking            40000 non-null  float64\n",
      " 4   Rating             40000 non-null  float64\n",
      " 5   Price Range        26114 non-null  object \n",
      " 6   Number of Reviews  40000 non-null  float64\n",
      " 7   Reviews            40000 non-null  object \n",
      " 8   URL_TA             40000 non-null  object \n",
      " 9   ID_TA              40000 non-null  object \n",
      " 10  rest_conts         40000 non-null  int64  \n",
      " 11  cuisine_conts      40000 non-null  int64  \n",
      " 12  norm_ranking       40000 non-null  float64\n",
      " 13  price_range        40000 non-null  float64\n",
      " 14  review_len         40000 non-null  int64  \n",
      " 15  review_timedelta   40000 non-null  float64\n",
      " 16  review_lag         40000 non-null  float64\n",
      "dtypes: float64(7), int64(3), object(7)\n",
      "memory usage: 5.2+ MB\n"
     ]
    }
   ],
   "source": [
    "df.info()"
   ]
  },
  {
   "cell_type": "code",
   "execution_count": 25,
   "metadata": {},
   "outputs": [
    {
     "data": {
      "text/html": [
       "<div>\n",
       "<style scoped>\n",
       "    .dataframe tbody tr th:only-of-type {\n",
       "        vertical-align: middle;\n",
       "    }\n",
       "\n",
       "    .dataframe tbody tr th {\n",
       "        vertical-align: top;\n",
       "    }\n",
       "\n",
       "    .dataframe thead th {\n",
       "        text-align: right;\n",
       "    }\n",
       "</style>\n",
       "<table border=\"1\" class=\"dataframe\">\n",
       "  <thead>\n",
       "    <tr style=\"text-align: right;\">\n",
       "      <th></th>\n",
       "      <th>Ranking</th>\n",
       "      <th>Rating</th>\n",
       "      <th>Number of Reviews</th>\n",
       "      <th>rest_conts</th>\n",
       "      <th>cuisine_conts</th>\n",
       "      <th>norm_ranking</th>\n",
       "      <th>price_range</th>\n",
       "      <th>review_len</th>\n",
       "      <th>review_timedelta</th>\n",
       "      <th>review_lag</th>\n",
       "    </tr>\n",
       "  </thead>\n",
       "  <tbody>\n",
       "    <tr>\n",
       "      <th>Ranking</th>\n",
       "      <td>1.000000</td>\n",
       "      <td>-0.368371</td>\n",
       "      <td>-0.222072</td>\n",
       "      <td>0.709115</td>\n",
       "      <td>-0.320111</td>\n",
       "      <td>0.572154</td>\n",
       "      <td>-0.215840</td>\n",
       "      <td>-0.138552</td>\n",
       "      <td>0.120117</td>\n",
       "      <td>0.183924</td>\n",
       "    </tr>\n",
       "    <tr>\n",
       "      <th>Rating</th>\n",
       "      <td>-0.368371</td>\n",
       "      <td>1.000000</td>\n",
       "      <td>0.026924</td>\n",
       "      <td>-0.061376</td>\n",
       "      <td>0.120134</td>\n",
       "      <td>-0.544573</td>\n",
       "      <td>0.033018</td>\n",
       "      <td>0.028676</td>\n",
       "      <td>-0.075265</td>\n",
       "      <td>-0.091597</td>\n",
       "    </tr>\n",
       "    <tr>\n",
       "      <th>Number of Reviews</th>\n",
       "      <td>-0.222072</td>\n",
       "      <td>0.026924</td>\n",
       "      <td>1.000000</td>\n",
       "      <td>0.027806</td>\n",
       "      <td>0.405577</td>\n",
       "      <td>-0.406030</td>\n",
       "      <td>0.304334</td>\n",
       "      <td>0.190018</td>\n",
       "      <td>-0.169924</td>\n",
       "      <td>-0.199746</td>\n",
       "    </tr>\n",
       "    <tr>\n",
       "      <th>rest_conts</th>\n",
       "      <td>0.709115</td>\n",
       "      <td>-0.061376</td>\n",
       "      <td>0.027806</td>\n",
       "      <td>1.000000</td>\n",
       "      <td>-0.023700</td>\n",
       "      <td>-0.001362</td>\n",
       "      <td>0.041590</td>\n",
       "      <td>0.059780</td>\n",
       "      <td>-0.033678</td>\n",
       "      <td>-0.025138</td>\n",
       "    </tr>\n",
       "    <tr>\n",
       "      <th>cuisine_conts</th>\n",
       "      <td>-0.320111</td>\n",
       "      <td>0.120134</td>\n",
       "      <td>0.405577</td>\n",
       "      <td>-0.023700</td>\n",
       "      <td>1.000000</td>\n",
       "      <td>-0.541066</td>\n",
       "      <td>0.479159</td>\n",
       "      <td>0.334358</td>\n",
       "      <td>-0.260441</td>\n",
       "      <td>-0.324737</td>\n",
       "    </tr>\n",
       "    <tr>\n",
       "      <th>norm_ranking</th>\n",
       "      <td>0.572154</td>\n",
       "      <td>-0.544573</td>\n",
       "      <td>-0.406030</td>\n",
       "      <td>-0.001362</td>\n",
       "      <td>-0.541066</td>\n",
       "      <td>1.000000</td>\n",
       "      <td>-0.424334</td>\n",
       "      <td>-0.345457</td>\n",
       "      <td>0.245906</td>\n",
       "      <td>0.353848</td>\n",
       "    </tr>\n",
       "    <tr>\n",
       "      <th>price_range</th>\n",
       "      <td>-0.215840</td>\n",
       "      <td>0.033018</td>\n",
       "      <td>0.304334</td>\n",
       "      <td>0.041590</td>\n",
       "      <td>0.479159</td>\n",
       "      <td>-0.424334</td>\n",
       "      <td>1.000000</td>\n",
       "      <td>0.346655</td>\n",
       "      <td>-0.156606</td>\n",
       "      <td>-0.231628</td>\n",
       "    </tr>\n",
       "    <tr>\n",
       "      <th>review_len</th>\n",
       "      <td>-0.138552</td>\n",
       "      <td>0.028676</td>\n",
       "      <td>0.190018</td>\n",
       "      <td>0.059780</td>\n",
       "      <td>0.334358</td>\n",
       "      <td>-0.345457</td>\n",
       "      <td>0.346655</td>\n",
       "      <td>1.000000</td>\n",
       "      <td>0.008826</td>\n",
       "      <td>-0.131108</td>\n",
       "    </tr>\n",
       "    <tr>\n",
       "      <th>review_timedelta</th>\n",
       "      <td>0.120117</td>\n",
       "      <td>-0.075265</td>\n",
       "      <td>-0.169924</td>\n",
       "      <td>-0.033678</td>\n",
       "      <td>-0.260441</td>\n",
       "      <td>0.245906</td>\n",
       "      <td>-0.156606</td>\n",
       "      <td>0.008826</td>\n",
       "      <td>1.000000</td>\n",
       "      <td>0.171681</td>\n",
       "    </tr>\n",
       "    <tr>\n",
       "      <th>review_lag</th>\n",
       "      <td>0.183924</td>\n",
       "      <td>-0.091597</td>\n",
       "      <td>-0.199746</td>\n",
       "      <td>-0.025138</td>\n",
       "      <td>-0.324737</td>\n",
       "      <td>0.353848</td>\n",
       "      <td>-0.231628</td>\n",
       "      <td>-0.131108</td>\n",
       "      <td>0.171681</td>\n",
       "      <td>1.000000</td>\n",
       "    </tr>\n",
       "  </tbody>\n",
       "</table>\n",
       "</div>"
      ],
      "text/plain": [
       "                    Ranking    Rating  Number of Reviews  rest_conts  \\\n",
       "Ranking            1.000000 -0.368371          -0.222072    0.709115   \n",
       "Rating            -0.368371  1.000000           0.026924   -0.061376   \n",
       "Number of Reviews -0.222072  0.026924           1.000000    0.027806   \n",
       "rest_conts         0.709115 -0.061376           0.027806    1.000000   \n",
       "cuisine_conts     -0.320111  0.120134           0.405577   -0.023700   \n",
       "norm_ranking       0.572154 -0.544573          -0.406030   -0.001362   \n",
       "price_range       -0.215840  0.033018           0.304334    0.041590   \n",
       "review_len        -0.138552  0.028676           0.190018    0.059780   \n",
       "review_timedelta   0.120117 -0.075265          -0.169924   -0.033678   \n",
       "review_lag         0.183924 -0.091597          -0.199746   -0.025138   \n",
       "\n",
       "                   cuisine_conts  norm_ranking  price_range  review_len  \\\n",
       "Ranking                -0.320111      0.572154    -0.215840   -0.138552   \n",
       "Rating                  0.120134     -0.544573     0.033018    0.028676   \n",
       "Number of Reviews       0.405577     -0.406030     0.304334    0.190018   \n",
       "rest_conts             -0.023700     -0.001362     0.041590    0.059780   \n",
       "cuisine_conts           1.000000     -0.541066     0.479159    0.334358   \n",
       "norm_ranking           -0.541066      1.000000    -0.424334   -0.345457   \n",
       "price_range             0.479159     -0.424334     1.000000    0.346655   \n",
       "review_len              0.334358     -0.345457     0.346655    1.000000   \n",
       "review_timedelta       -0.260441      0.245906    -0.156606    0.008826   \n",
       "review_lag             -0.324737      0.353848    -0.231628   -0.131108   \n",
       "\n",
       "                   review_timedelta  review_lag  \n",
       "Ranking                    0.120117    0.183924  \n",
       "Rating                    -0.075265   -0.091597  \n",
       "Number of Reviews         -0.169924   -0.199746  \n",
       "rest_conts                -0.033678   -0.025138  \n",
       "cuisine_conts             -0.260441   -0.324737  \n",
       "norm_ranking               0.245906    0.353848  \n",
       "price_range               -0.156606   -0.231628  \n",
       "review_len                 0.008826   -0.131108  \n",
       "review_timedelta           1.000000    0.171681  \n",
       "review_lag                 0.171681    1.000000  "
      ]
     },
     "execution_count": 25,
     "metadata": {},
     "output_type": "execute_result"
    }
   ],
   "source": [
    "df.corr()"
   ]
  },
  {
   "cell_type": "markdown",
   "metadata": {},
   "source": [
    "### Добовление dummy variables городов"
   ]
  },
  {
   "cell_type": "code",
   "execution_count": 26,
   "metadata": {},
   "outputs": [],
   "source": [
    "city_dummies = pd.get_dummies(df.City) \n",
    "cities = Cities.index\n",
    "for city in cities:\n",
    "    df[city] = city_dummies[city]"
   ]
  },
  {
   "cell_type": "markdown",
   "metadata": {},
   "source": [
    "# Разбиваем датафрейм на части, необходимые для обучения и тестирования модели"
   ]
  },
  {
   "cell_type": "code",
   "execution_count": 27,
   "metadata": {},
   "outputs": [],
   "source": [
    "# Х - данные с информацией о ресторанах, у - целевая переменная (рейтинги ресторанов)\n",
    "X = df.drop(['Restaurant_id','Rating','City','Cuisine Style','Price Range','Reviews','URL_TA','ID_TA'], axis = 1)\n",
    "\n",
    "# удаление некоторых признаков, которые ухудшают результат\n",
    "#X = X.drop(['norm_ranking'], axis = 1)\n",
    "y = df['Rating']"
   ]
  },
  {
   "cell_type": "code",
   "execution_count": 28,
   "metadata": {},
   "outputs": [],
   "source": [
    "# Загружаем специальный инструмент для разбивки:\n",
    "from sklearn.model_selection import train_test_split"
   ]
  },
  {
   "cell_type": "code",
   "execution_count": 29,
   "metadata": {},
   "outputs": [],
   "source": [
    "# Наборы данных с меткой \"train\" будут использоваться для обучения модели, \"test\" - для тестирования.\n",
    "# Для тестирования мы будем использовать 25% от исходного датасета.\n",
    "X_train, X_test, y_train, y_test = train_test_split(X, y, test_size=0.25)"
   ]
  },
  {
   "cell_type": "markdown",
   "metadata": {},
   "source": [
    "# Создаём, обучаем и тестируем модель"
   ]
  },
  {
   "cell_type": "code",
   "execution_count": 30,
   "metadata": {},
   "outputs": [],
   "source": [
    "# Импортируем необходимые библиотеки:\n",
    "from sklearn.ensemble import RandomForestRegressor # инструмент для создания и обучения модели\n",
    "from sklearn import metrics # инструменты для оценки точности модели"
   ]
  },
  {
   "cell_type": "code",
   "execution_count": 31,
   "metadata": {},
   "outputs": [],
   "source": [
    "# Создаём модель\n",
    "regr = RandomForestRegressor(n_estimators=100)\n",
    "\n",
    "# Обучаем модель на тестовом наборе данных\n",
    "regr.fit(X_train, y_train)\n",
    "\n",
    "# Используем обученную модель для предсказания рейтинга ресторанов в тестовой выборке.\n",
    "# Предсказанные значения записываем в переменную y_pred\n",
    "y_pred = regr.predict(X_test)"
   ]
  },
  {
   "cell_type": "code",
   "execution_count": 32,
   "metadata": {},
   "outputs": [
    {
     "name": "stdout",
     "output_type": "stream",
     "text": [
      "MAE: 0.204364\n"
     ]
    }
   ],
   "source": [
    "# Сравниваем предсказанные значения (y_pred) с реальными (y_test), и смотрим насколько они в среднем отличаются\n",
    "# Метрика называется Mean Absolute Error (MAE) и показывает среднее отклонение предсказанных значений от фактических.\n",
    "print('MAE:', metrics.mean_absolute_error(y_test, y_pred))"
   ]
  },
  {
   "cell_type": "code",
   "execution_count": 33,
   "metadata": {},
   "outputs": [],
   "source": [
    "# MIN MAE: MAE: 0.204364"
   ]
  }
 ],
 "metadata": {
  "kernelspec": {
   "display_name": "Python 3",
   "language": "python",
   "name": "python3"
  },
  "language_info": {
   "codemirror_mode": {
    "name": "ipython",
    "version": 3
   },
   "file_extension": ".py",
   "mimetype": "text/x-python",
   "name": "python",
   "nbconvert_exporter": "python",
   "pygments_lexer": "ipython3",
   "version": "3.8.3"
  }
 },
 "nbformat": 4,
 "nbformat_minor": 2
}
