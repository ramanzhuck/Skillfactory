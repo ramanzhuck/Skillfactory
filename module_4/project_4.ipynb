{
 "cells": [
  {
   "cell_type": "markdown",
   "id": "6e8e1625",
   "metadata": {},
   "source": [
    "# Проект 4. Компьютер говорит «Нет»"
   ]
  },
  {
   "cell_type": "markdown",
   "id": "e3465457",
   "metadata": {},
   "source": [
    "## Скоринговая модель предсказания дефолта клиентов банка."
   ]
  },
  {
   "cell_type": "markdown",
   "id": "4df8d2e4",
   "metadata": {},
   "source": [
    "Загрузка и анализданных"
   ]
  },
  {
   "cell_type": "code",
   "execution_count": 1,
   "id": "5580fbd5",
   "metadata": {},
   "outputs": [],
   "source": [
    "import pandas as pd\n",
    "import numpy as np\n",
    "import seaborn as sns\n",
    "import matplotlib.pyplot as plt\n",
    "from sklearn.model_selection import train_test_split\n",
    "from  sklearn.feature_selection import f_classif , mutual_info_classif\n",
    "from  sklearn.preprocessing import LabelEncoder,  OneHotEncoder , StandardScaler"
   ]
  },
  {
   "cell_type": "code",
   "execution_count": 2,
   "id": "9ba842e8",
   "metadata": {},
   "outputs": [],
   "source": [
    "train = pd.read_csv( 'train.csv')\n",
    "test = pd.read_csv('test.csv')\n",
    "sample_submission = pd.read_csv('sample_submission.csv')"
   ]
  },
  {
   "cell_type": "markdown",
   "id": "33610d81",
   "metadata": {},
   "source": [
    "# Названия признаков и их смысл:\n",
    "  - client_id - идентификатор клиента\n",
    "  - education - уровень образования\n",
    "  - sex - пол заемщика\n",
    "  - age - возраст заемщика\n",
    "  - car - флаг наличия автомобиля\n",
    "  - car_type - флаг автомобиля иномарки\n",
    "  - decline_app_cnt - количество отказанных прошлых заявок\n",
    "  - good_work - флаг наличия “хорошей” работы\n",
    "  - bki_request_cnt - количество запросов в БКИ\n",
    "  - home_address - категоризатор домашнего адреса\n",
    "  - work_address - категоризатор рабочего адреса\n",
    "  - income - доход заемщика\n",
    "  - foreign_passport - наличие загранпаспорта\n",
    "  - sna - связь заемщика с клиентами банка\n",
    "  - first_time - давность наличия информации о заемщике\n",
    "  - score_bki - скоринговый балл по данным из БКИ\n",
    "  - region_rating - рейтинг региона\n",
    "  - app_date - дата подачи заявки\n",
    "  - default - флаг дефолта по кредиту"
   ]
  },
  {
   "cell_type": "code",
   "execution_count": 3,
   "id": "2be157c7",
   "metadata": {},
   "outputs": [
    {
     "name": "stdout",
     "output_type": "stream",
     "text": [
      "(73799, 19) (36349, 18) (36349, 2)\n"
     ]
    }
   ],
   "source": [
    "# Размеры выборок: Тренировочной, Тестовой и файла Submission\n",
    "print (train.shape ,test.shape, sample_submission.shape)"
   ]
  },
  {
   "cell_type": "markdown",
   "id": "79359bf1",
   "metadata": {},
   "source": [
    "## пропуски"
   ]
  },
  {
   "cell_type": "code",
   "execution_count": 4,
   "id": "620464cb",
   "metadata": {},
   "outputs": [
    {
     "data": {
      "text/plain": [
       "client_id             0\n",
       "app_date              0\n",
       "education           307\n",
       "sex                   0\n",
       "age                   0\n",
       "car                   0\n",
       "car_type              0\n",
       "decline_app_cnt       0\n",
       "good_work             0\n",
       "score_bki             0\n",
       "bki_request_cnt       0\n",
       "region_rating         0\n",
       "home_address          0\n",
       "work_address          0\n",
       "income                0\n",
       "sna                   0\n",
       "first_time            0\n",
       "foreign_passport      0\n",
       "default               0\n",
       "dtype: int64"
      ]
     },
     "execution_count": 4,
     "metadata": {},
     "output_type": "execute_result"
    }
   ],
   "source": [
    "train.isna().sum()"
   ]
  },
  {
   "cell_type": "code",
   "execution_count": 5,
   "id": "b5ffe6bb",
   "metadata": {},
   "outputs": [
    {
     "data": {
      "text/plain": [
       "client_id             0\n",
       "app_date              0\n",
       "education           171\n",
       "sex                   0\n",
       "age                   0\n",
       "car                   0\n",
       "car_type              0\n",
       "decline_app_cnt       0\n",
       "good_work             0\n",
       "score_bki             0\n",
       "bki_request_cnt       0\n",
       "region_rating         0\n",
       "home_address          0\n",
       "work_address          0\n",
       "income                0\n",
       "sna                   0\n",
       "first_time            0\n",
       "foreign_passport      0\n",
       "dtype: int64"
      ]
     },
     "execution_count": 5,
     "metadata": {},
     "output_type": "execute_result"
    }
   ],
   "source": [
    "test.isna().sum()"
   ]
  },
  {
   "cell_type": "code",
   "execution_count": 6,
   "id": "be48f009",
   "metadata": {},
   "outputs": [
    {
     "data": {
      "text/plain": [
       "<AxesSubplot:>"
      ]
     },
     "execution_count": 6,
     "metadata": {},
     "output_type": "execute_result"
    },
    {
     "data": {
      "image/png": "[encoded data removed]",
      "text/plain": [
       "<Figure size 432x288 with 1 Axes>"
      ]
     },
     "metadata": {
      "needs_background": "light"
     },
     "output_type": "display_data"
    }
   ],
   "source": [
    "train.education.value_counts().plot.barh()"
   ]
  },
  {
   "cell_type": "code",
   "execution_count": 7,
   "id": "808b78db",
   "metadata": {},
   "outputs": [],
   "source": [
    "# заменяем пропуски наиболее часто встречающимся значением\n",
    "value = train.education.value_counts().index[0]\n",
    "train['education'] = train['education'].fillna(value)\n",
    "test['education'] = test['education'].fillna(value)\n"
   ]
  },
  {
   "cell_type": "code",
   "execution_count": 8,
   "id": "4b1ae708",
   "metadata": {},
   "outputs": [],
   "source": [
    "#бинарные переменные \n",
    "bin_cols = ['sex', 'car', 'car_type', 'good_work', 'foreign_passport']\n",
    "\n",
    "#категориальные переменные\n",
    "cat_cols = ['education', 'first_time', 'sna', 'work_address', 'home_address', 'region_rating']\n",
    "\n",
    "#числовые переменные\n",
    "\n",
    "num_cols = ['age', 'score_bki', 'decline_app_cnt', 'bki_request_cnt', 'income']\n",
    "\n"
   ]
  },
  {
   "cell_type": "code",
   "execution_count": 9,
   "id": "22d4a220",
   "metadata": {},
   "outputs": [],
   "source": [
    "# удаление признаков\n",
    "train.drop(['client_id','app_date',], axis = 1, inplace=True)\n",
    "test.drop(['client_id','app_date',], axis = 1, inplace=True)"
   ]
  },
  {
   "cell_type": "markdown",
   "id": "50fa996e",
   "metadata": {},
   "source": [
    "## числовые переменные"
   ]
  },
  {
   "cell_type": "code",
   "execution_count": 10,
   "id": "c14795d5",
   "metadata": {},
   "outputs": [],
   "source": [
    "#train, validation = train_test_split(df, test_size=0.33, random_state=42)"
   ]
  },
  {
   "cell_type": "code",
   "execution_count": 11,
   "id": "5165d2d6",
   "metadata": {},
   "outputs": [
    {
     "data": {
      "text/plain": [
       "False"
      ]
     },
     "execution_count": 11,
     "metadata": {},
     "output_type": "execute_result"
    }
   ],
   "source": [
    "train[train['default'] == 1]['age'].mean() > train[train['default'] == 0]['age'].mean()"
   ]
  },
  {
   "cell_type": "code",
   "execution_count": 12,
   "id": "79a73984",
   "metadata": {},
   "outputs": [
    {
     "data": {
      "text/plain": [
       "True"
      ]
     },
     "execution_count": 12,
     "metadata": {},
     "output_type": "execute_result"
    }
   ],
   "source": [
    "train[train['default'] == 1]['score_bki'].mean() > train[train['default'] == 0]['score_bki'].mean()"
   ]
  },
  {
   "cell_type": "code",
   "execution_count": 13,
   "id": "6d6b79b7",
   "metadata": {},
   "outputs": [
    {
     "data": {
      "text/plain": [
       "True"
      ]
     },
     "execution_count": 13,
     "metadata": {},
     "output_type": "execute_result"
    }
   ],
   "source": [
    "train[train['default'] == 1]['decline_app_cnt'].mean() > train[train['default'] == 0]['decline_app_cnt'].mean()"
   ]
  },
  {
   "cell_type": "code",
   "execution_count": 14,
   "id": "bac1641c",
   "metadata": {},
   "outputs": [
    {
     "data": {
      "text/plain": [
       "True"
      ]
     },
     "execution_count": 14,
     "metadata": {},
     "output_type": "execute_result"
    }
   ],
   "source": [
    "train[train['default'] == 1]['bki_request_cnt'].mean() > train[train['default'] == 0]['bki_request_cnt'].mean()"
   ]
  },
  {
   "cell_type": "code",
   "execution_count": 15,
   "id": "e1a4fd76",
   "metadata": {},
   "outputs": [
    {
     "data": {
      "text/plain": [
       "False"
      ]
     },
     "execution_count": 15,
     "metadata": {},
     "output_type": "execute_result"
    }
   ],
   "source": [
    "train[train['default'] == 1]['income'].mean() > train[train['income'] == 0]['income'].mean()"
   ]
  },
  {
   "cell_type": "code",
   "execution_count": 16,
   "id": "82e09e01",
   "metadata": {},
   "outputs": [
    {
     "name": "stderr",
     "output_type": "stream",
     "text": [
      "/Users/ramanzhuk/opt/anaconda3/lib/python3.9/site-packages/seaborn/distributions.py:2619: FutureWarning: `distplot` is a deprecated function and will be removed in a future version. Please adapt your code to use either `displot` (a figure-level function with similar flexibility) or `histplot` (an axes-level function for histograms).\n",
      "  warnings.warn(msg, FutureWarning)\n"
     ]
    },
    {
     "data": {
      "image/png": "[encoded data removed]",
      "text/plain": [
       "<Figure size 432x288 with 1 Axes>"
      ]
     },
     "metadata": {
      "needs_background": "light"
     },
     "output_type": "display_data"
    },
    {
     "data": {
      "image/png": "[encoded data removed]",
      "text/plain": [
       "<Figure size 432x288 with 1 Axes>"
      ]
     },
     "metadata": {
      "needs_background": "light"
     },
     "output_type": "display_data"
    },
    {
     "data": {
      "image/png": "[encoded data removed]",
      "text/plain": [
       "<Figure size 432x288 with 1 Axes>"
      ]
     },
     "metadata": {
      "needs_background": "light"
     },
     "output_type": "display_data"
    },
    {
     "data": {
      "image/png": "[encoded data removed]",
      "text/plain": [
       "<Figure size 432x288 with 1 Axes>"
      ]
     },
     "metadata": {
      "needs_background": "light"
     },
     "output_type": "display_data"
    },
    {
     "data": {
      "image/png": "[encoded data removed]",
      "text/plain": [
       "<Figure size 432x288 with 1 Axes>"
      ]
     },
     "metadata": {
      "needs_background": "light"
     },
     "output_type": "display_data"
    }
   ],
   "source": [
    "for i in num_cols:\n",
    "    plt.figure()\n",
    "    sns.distplot(train[i][train[i] > 0].dropna(), kde = False, rug=False)\n",
    "    plt.title(i)\n",
    "    plt.show()"
   ]
  },
  {
   "cell_type": "code",
   "execution_count": 17,
   "id": "49e31986",
   "metadata": {},
   "outputs": [
    {
     "data": {
      "image/png": "[encoded data removed]",
      "text/plain": [
       "<Figure size 432x288 with 1 Axes>"
      ]
     },
     "metadata": {
      "needs_background": "light"
     },
     "output_type": "display_data"
    },
    {
     "data": {
      "image/png": "[encoded data removed]",
      "text/plain": [
       "<Figure size 432x288 with 1 Axes>"
      ]
     },
     "metadata": {
      "needs_background": "light"
     },
     "output_type": "display_data"
    },
    {
     "data": {
      "image/png": "[encoded data removed]",
      "text/plain": [
       "<Figure size 432x288 with 1 Axes>"
      ]
     },
     "metadata": {
      "needs_background": "light"
     },
     "output_type": "display_data"
    },
    {
     "data": {
      "image/png": "[encoded data removed]",
      "text/plain": [
       "<Figure size 432x288 with 1 Axes>"
      ]
     },
     "metadata": {
      "needs_background": "light"
     },
     "output_type": "display_data"
    },
    {
     "data": {
      "image/png": "[encoded data removed]",
      "text/plain": [
       "<Figure size 432x288 with 1 Axes>"
      ]
     },
     "metadata": {
      "needs_background": "light"
     },
     "output_type": "display_data"
    }
   ],
   "source": [
    "for i in num_cols:\n",
    "    plt.figure()\n",
    "    sns.distplot(train[i][train[i] > 0].dropna().apply(lambda w: np.log(w + 1)), kde = False, rug=False)\n",
    "    plt.title(i)\n",
    "    plt.show()"
   ]
  },
  {
   "cell_type": "code",
   "execution_count": 18,
   "id": "574fc18b",
   "metadata": {},
   "outputs": [],
   "source": [
    "# логарифмируем некоторые числовые признаки \n",
    "train['age'] = np.log(train['age'] + 1)\n",
    "test['age'] = np.log(test['age'] + 1)\n",
    "\n",
    "train['decline_app_cnt'] = np.log(train['decline_app_cnt'] + 1)\n",
    "test['decline_app_cnt'] = np.log(test['decline_app_cnt'] + 1)\n",
    "\n",
    "train['income'] = np.log(train['income'] + 1)\n",
    "test['income'] = np.log(test['income'] + 1)\n",
    "\n",
    "train['bki_request_cnt'] = np.log(train['bki_request_cnt'] + 1)\n",
    "test['bki_request_cnt'] = np.log(test['bki_request_cnt'] + 1)"
   ]
  },
  {
   "cell_type": "code",
   "execution_count": 19,
   "id": "a1b690ed",
   "metadata": {},
   "outputs": [
    {
     "data": {
      "text/plain": [
       "<AxesSubplot:>"
      ]
     },
     "execution_count": 19,
     "metadata": {},
     "output_type": "execute_result"
    },
    {
     "data": {
      "image/png": "[encoded data removed]",
      "text/plain": [
       "<Figure size 432x288 with 2 Axes>"
      ]
     },
     "metadata": {
      "needs_background": "light"
     },
     "output_type": "display_data"
    }
   ],
   "source": [
    "# расчет кореляций между числовыми признакоми\n",
    "sns.heatmap(train[num_cols].corr().abs(), vmin=0, vmax=1)\n",
    "# анализ показывает что зависимых признаков нет"
   ]
  },
  {
   "cell_type": "code",
   "execution_count": 20,
   "id": "6199e1e3",
   "metadata": {},
   "outputs": [
    {
     "data": {
      "text/plain": [
       "<AxesSubplot:>"
      ]
     },
     "execution_count": 20,
     "metadata": {},
     "output_type": "execute_result"
    },
    {
     "data": {
      "image/png": "[encoded data removed]",
      "text/plain": [
       "<Figure size 432x288 with 1 Axes>"
      ]
     },
     "metadata": {
      "needs_background": "light"
     },
     "output_type": "display_data"
    }
   ],
   "source": [
    "# оценка значимости числовых признаков\n",
    "imp_num = pd.Series(f_classif(train[num_cols], train['default'])[0], index = num_cols)\n",
    "imp_num.sort_values(inplace = True)\n",
    "imp_num.plot(kind = 'barh')"
   ]
  },
  {
   "cell_type": "markdown",
   "id": "0b86df32",
   "metadata": {},
   "source": [
    "## бинарные признаки"
   ]
  },
  {
   "cell_type": "code",
   "execution_count": 21,
   "id": "c7461c4b",
   "metadata": {},
   "outputs": [
    {
     "data": {
      "text/html": [
       "<div>\n",
       "<style scoped>\n",
       "    .dataframe tbody tr th:only-of-type {\n",
       "        vertical-align: middle;\n",
       "    }\n",
       "\n",
       "    .dataframe tbody tr th {\n",
       "        vertical-align: top;\n",
       "    }\n",
       "\n",
       "    .dataframe thead th {\n",
       "        text-align: right;\n",
       "    }\n",
       "</style>\n",
       "<table border=\"1\" class=\"dataframe\">\n",
       "  <thead>\n",
       "    <tr style=\"text-align: right;\">\n",
       "      <th></th>\n",
       "      <th>education</th>\n",
       "      <th>sex</th>\n",
       "      <th>age</th>\n",
       "      <th>car</th>\n",
       "      <th>car_type</th>\n",
       "      <th>decline_app_cnt</th>\n",
       "      <th>good_work</th>\n",
       "      <th>score_bki</th>\n",
       "      <th>bki_request_cnt</th>\n",
       "      <th>region_rating</th>\n",
       "      <th>home_address</th>\n",
       "      <th>work_address</th>\n",
       "      <th>income</th>\n",
       "      <th>sna</th>\n",
       "      <th>first_time</th>\n",
       "      <th>foreign_passport</th>\n",
       "      <th>default</th>\n",
       "    </tr>\n",
       "  </thead>\n",
       "  <tbody>\n",
       "    <tr>\n",
       "      <th>0</th>\n",
       "      <td>SCH</td>\n",
       "      <td>1</td>\n",
       "      <td>4.143135</td>\n",
       "      <td>1</td>\n",
       "      <td>1</td>\n",
       "      <td>0.000000</td>\n",
       "      <td>0</td>\n",
       "      <td>-2.008753</td>\n",
       "      <td>0.693147</td>\n",
       "      <td>50</td>\n",
       "      <td>1</td>\n",
       "      <td>2</td>\n",
       "      <td>9.798183</td>\n",
       "      <td>4</td>\n",
       "      <td>1</td>\n",
       "      <td>0</td>\n",
       "      <td>0</td>\n",
       "    </tr>\n",
       "    <tr>\n",
       "      <th>1</th>\n",
       "      <td>SCH</td>\n",
       "      <td>0</td>\n",
       "      <td>4.094345</td>\n",
       "      <td>0</td>\n",
       "      <td>0</td>\n",
       "      <td>0.000000</td>\n",
       "      <td>0</td>\n",
       "      <td>-1.532276</td>\n",
       "      <td>1.386294</td>\n",
       "      <td>50</td>\n",
       "      <td>2</td>\n",
       "      <td>3</td>\n",
       "      <td>9.852247</td>\n",
       "      <td>4</td>\n",
       "      <td>1</td>\n",
       "      <td>0</td>\n",
       "      <td>0</td>\n",
       "    </tr>\n",
       "    <tr>\n",
       "      <th>2</th>\n",
       "      <td>SCH</td>\n",
       "      <td>1</td>\n",
       "      <td>3.258097</td>\n",
       "      <td>1</td>\n",
       "      <td>0</td>\n",
       "      <td>1.098612</td>\n",
       "      <td>0</td>\n",
       "      <td>-1.408142</td>\n",
       "      <td>0.693147</td>\n",
       "      <td>80</td>\n",
       "      <td>1</td>\n",
       "      <td>2</td>\n",
       "      <td>10.308986</td>\n",
       "      <td>1</td>\n",
       "      <td>4</td>\n",
       "      <td>1</td>\n",
       "      <td>0</td>\n",
       "    </tr>\n",
       "    <tr>\n",
       "      <th>3</th>\n",
       "      <td>SCH</td>\n",
       "      <td>0</td>\n",
       "      <td>3.988984</td>\n",
       "      <td>0</td>\n",
       "      <td>0</td>\n",
       "      <td>0.000000</td>\n",
       "      <td>0</td>\n",
       "      <td>-2.057471</td>\n",
       "      <td>1.098612</td>\n",
       "      <td>50</td>\n",
       "      <td>2</td>\n",
       "      <td>3</td>\n",
       "      <td>9.210440</td>\n",
       "      <td>1</td>\n",
       "      <td>3</td>\n",
       "      <td>0</td>\n",
       "      <td>0</td>\n",
       "    </tr>\n",
       "    <tr>\n",
       "      <th>4</th>\n",
       "      <td>GRD</td>\n",
       "      <td>1</td>\n",
       "      <td>3.891820</td>\n",
       "      <td>0</td>\n",
       "      <td>0</td>\n",
       "      <td>0.000000</td>\n",
       "      <td>1</td>\n",
       "      <td>-1.244723</td>\n",
       "      <td>0.693147</td>\n",
       "      <td>60</td>\n",
       "      <td>2</td>\n",
       "      <td>3</td>\n",
       "      <td>10.308986</td>\n",
       "      <td>1</td>\n",
       "      <td>4</td>\n",
       "      <td>1</td>\n",
       "      <td>0</td>\n",
       "    </tr>\n",
       "  </tbody>\n",
       "</table>\n",
       "</div>"
      ],
      "text/plain": [
       "  education  sex       age  car  car_type  decline_app_cnt  good_work  \\\n",
       "0       SCH    1  4.143135    1         1         0.000000          0   \n",
       "1       SCH    0  4.094345    0         0         0.000000          0   \n",
       "2       SCH    1  3.258097    1         0         1.098612          0   \n",
       "3       SCH    0  3.988984    0         0         0.000000          0   \n",
       "4       GRD    1  3.891820    0         0         0.000000          1   \n",
       "\n",
       "   score_bki  bki_request_cnt  region_rating  home_address  work_address  \\\n",
       "0  -2.008753         0.693147             50             1             2   \n",
       "1  -1.532276         1.386294             50             2             3   \n",
       "2  -1.408142         0.693147             80             1             2   \n",
       "3  -2.057471         1.098612             50             2             3   \n",
       "4  -1.244723         0.693147             60             2             3   \n",
       "\n",
       "      income  sna  first_time  foreign_passport  default  \n",
       "0   9.798183    4           1                 0        0  \n",
       "1   9.852247    4           1                 0        0  \n",
       "2  10.308986    1           4                 1        0  \n",
       "3   9.210440    1           3                 0        0  \n",
       "4  10.308986    1           4                 1        0  "
      ]
     },
     "execution_count": 21,
     "metadata": {},
     "output_type": "execute_result"
    }
   ],
   "source": [
    "# Для бинарных признаков мы будем использовать LabelEncoder\n",
    "\n",
    "label_encoder = LabelEncoder()\n",
    "\n",
    "for column in bin_cols:\n",
    "    train[column] = label_encoder.fit_transform(train[column])\n",
    "    test[column] = label_encoder.fit_transform(test[column])\n",
    "    \n",
    "# убедимся в преобразовании    \n",
    "train.head()"
   ]
  },
  {
   "cell_type": "markdown",
   "id": "90507aac",
   "metadata": {},
   "source": [
    "## котигориальные признаки"
   ]
  },
  {
   "cell_type": "code",
   "execution_count": 22,
   "id": "4f86daf1",
   "metadata": {},
   "outputs": [
    {
     "data": {
      "text/plain": [
       "<AxesSubplot:>"
      ]
     },
     "execution_count": 22,
     "metadata": {},
     "output_type": "execute_result"
    },
    {
     "data": {
      "image/png": "[encoded data removed]",
      "text/plain": [
       "<Figure size 432x288 with 1 Axes>"
      ]
     },
     "metadata": {
      "needs_background": "light"
     },
     "output_type": "display_data"
    }
   ],
   "source": [
    "# оценка значимости признаков\n",
    "train['education'] = label_encoder.fit_transform(train['education'])\n",
    "test['education'] = label_encoder.fit_transform(test['education'])\n",
    "\n",
    "imp_cat = pd.Series(mutual_info_classif(train[bin_cols + cat_cols], train['default'],\n",
    "                                     discrete_features =True), index = bin_cols + cat_cols)\n",
    "imp_cat.sort_values(inplace = True)\n",
    "imp_cat.plot(kind = 'barh')"
   ]
  },
  {
   "cell_type": "code",
   "execution_count": 23,
   "id": "758bc433",
   "metadata": {},
   "outputs": [],
   "source": [
    "data_train_cat = OneHotEncoder(sparse = False).fit_transform(train[cat_cols].values)\n",
    "data_test_cat = OneHotEncoder(sparse = False).fit_transform(test[cat_cols].values)"
   ]
  },
  {
   "cell_type": "markdown",
   "id": "6f247251",
   "metadata": {},
   "source": [
    "## Подготовка данных и обучение модели"
   ]
  },
  {
   "cell_type": "code",
   "execution_count": 24,
   "id": "0469ab5a",
   "metadata": {},
   "outputs": [],
   "source": [
    "# Стандартизация числовых переменных\n",
    "\n",
    "data_train_num = StandardScaler().fit_transform(train[num_cols].values)\n",
    "data_test_num = StandardScaler().fit_transform(test[num_cols].values)"
   ]
  },
  {
   "cell_type": "code",
   "execution_count": 25,
   "id": "9bf90de9",
   "metadata": {},
   "outputs": [],
   "source": [
    "X = np.hstack([data_train_num, train[bin_cols].values, data_train_cat])\n",
    "X_valid = np.hstack([data_test_num, test[bin_cols].values, data_test_cat])\n",
    "y = train['default'].values"
   ]
  },
  {
   "cell_type": "code",
   "execution_count": 26,
   "id": "a2dc6f30",
   "metadata": {},
   "outputs": [],
   "source": [
    "# выделим 20% данных на валидацию (параметр test_size)\n",
    "X_train, X_test, y_train, y_test = train_test_split(X, y, test_size=0.2, random_state=42)"
   ]
  },
  {
   "cell_type": "code",
   "execution_count": 27,
   "id": "5f6a62ca",
   "metadata": {},
   "outputs": [
    {
     "name": "stderr",
     "output_type": "stream",
     "text": [
      "/Users/ramanzhuk/opt/anaconda3/lib/python3.9/site-packages/sklearn/model_selection/_validation.py:615: FitFailedWarning: Estimator fit failed. The score on this train-test partition for these parameters will be set to nan. Details: \n",
      "Traceback (most recent call last):\n",
      "  File \"/Users/ramanzhuk/opt/anaconda3/lib/python3.9/site-packages/sklearn/model_selection/_validation.py\", line 598, in _fit_and_score\n",
      "    estimator.fit(X_train, y_train, **fit_params)\n",
      "  File \"/Users/ramanzhuk/opt/anaconda3/lib/python3.9/site-packages/sklearn/linear_model/_logistic.py\", line 1306, in fit\n",
      "    solver = _check_solver(self.solver, self.penalty, self.dual)\n",
      "  File \"/Users/ramanzhuk/opt/anaconda3/lib/python3.9/site-packages/sklearn/linear_model/_logistic.py\", line 443, in _check_solver\n",
      "    raise ValueError(\"Solver %s supports only 'l2' or 'none' penalties, \"\n",
      "ValueError: Solver lbfgs supports only 'l2' or 'none' penalties, got l1 penalty.\n",
      "\n",
      "  warnings.warn(\"Estimator fit failed. The score on this train-test\"\n",
      "/Users/ramanzhuk/opt/anaconda3/lib/python3.9/site-packages/sklearn/model_selection/_validation.py:615: FitFailedWarning: Estimator fit failed. The score on this train-test partition for these parameters will be set to nan. Details: \n",
      "Traceback (most recent call last):\n",
      "  File \"/Users/ramanzhuk/opt/anaconda3/lib/python3.9/site-packages/sklearn/model_selection/_validation.py\", line 598, in _fit_and_score\n",
      "    estimator.fit(X_train, y_train, **fit_params)\n",
      "  File \"/Users/ramanzhuk/opt/anaconda3/lib/python3.9/site-packages/sklearn/linear_model/_logistic.py\", line 1306, in fit\n",
      "    solver = _check_solver(self.solver, self.penalty, self.dual)\n",
      "  File \"/Users/ramanzhuk/opt/anaconda3/lib/python3.9/site-packages/sklearn/linear_model/_logistic.py\", line 443, in _check_solver\n",
      "    raise ValueError(\"Solver %s supports only 'l2' or 'none' penalties, \"\n",
      "ValueError: Solver lbfgs supports only 'l2' or 'none' penalties, got l1 penalty.\n",
      "\n",
      "  warnings.warn(\"Estimator fit failed. The score on this train-test\"\n",
      "/Users/ramanzhuk/opt/anaconda3/lib/python3.9/site-packages/sklearn/model_selection/_validation.py:615: FitFailedWarning: Estimator fit failed. The score on this train-test partition for these parameters will be set to nan. Details: \n",
      "Traceback (most recent call last):\n",
      "  File \"/Users/ramanzhuk/opt/anaconda3/lib/python3.9/site-packages/sklearn/model_selection/_validation.py\", line 598, in _fit_and_score\n",
      "    estimator.fit(X_train, y_train, **fit_params)\n",
      "  File \"/Users/ramanzhuk/opt/anaconda3/lib/python3.9/site-packages/sklearn/linear_model/_logistic.py\", line 1358, in fit\n",
      "    self.coef_, self.intercept_, n_iter_ = _fit_liblinear(\n",
      "  File \"/Users/ramanzhuk/opt/anaconda3/lib/python3.9/site-packages/sklearn/svm/_base.py\", line 939, in _fit_liblinear\n",
      "    class_weight_ = compute_class_weight(class_weight, classes=classes_,\n",
      "  File \"/Users/ramanzhuk/opt/anaconda3/lib/python3.9/site-packages/sklearn/utils/validation.py\", line 63, in inner_f\n",
      "    return f(*args, **kwargs)\n",
      "  File \"/Users/ramanzhuk/opt/anaconda3/lib/python3.9/site-packages/sklearn/utils/class_weight.py\", line 63, in compute_class_weight\n",
      "    raise ValueError(\"class_weight must be dict, 'balanced', or None,\"\n",
      "ValueError: class_weight must be dict, 'balanced', or None, got: 'none'\n",
      "\n",
      "  warnings.warn(\"Estimator fit failed. The score on this train-test\"\n",
      "/Users/ramanzhuk/opt/anaconda3/lib/python3.9/site-packages/sklearn/model_selection/_validation.py:615: FitFailedWarning: Estimator fit failed. The score on this train-test partition for these parameters will be set to nan. Details: \n",
      "Traceback (most recent call last):\n",
      "  File \"/Users/ramanzhuk/opt/anaconda3/lib/python3.9/site-packages/sklearn/model_selection/_validation.py\", line 598, in _fit_and_score\n",
      "    estimator.fit(X_train, y_train, **fit_params)\n",
      "  File \"/Users/ramanzhuk/opt/anaconda3/lib/python3.9/site-packages/sklearn/linear_model/_logistic.py\", line 1358, in fit\n",
      "    self.coef_, self.intercept_, n_iter_ = _fit_liblinear(\n",
      "  File \"/Users/ramanzhuk/opt/anaconda3/lib/python3.9/site-packages/sklearn/svm/_base.py\", line 939, in _fit_liblinear\n",
      "    class_weight_ = compute_class_weight(class_weight, classes=classes_,\n",
      "  File \"/Users/ramanzhuk/opt/anaconda3/lib/python3.9/site-packages/sklearn/utils/validation.py\", line 63, in inner_f\n",
      "    return f(*args, **kwargs)\n",
      "  File \"/Users/ramanzhuk/opt/anaconda3/lib/python3.9/site-packages/sklearn/utils/class_weight.py\", line 63, in compute_class_weight\n",
      "    raise ValueError(\"class_weight must be dict, 'balanced', or None,\"\n",
      "ValueError: class_weight must be dict, 'balanced', or None, got: 'none'\n",
      "\n",
      "  warnings.warn(\"Estimator fit failed. The score on this train-test\"\n",
      "/Users/ramanzhuk/opt/anaconda3/lib/python3.9/site-packages/sklearn/model_selection/_validation.py:615: FitFailedWarning: Estimator fit failed. The score on this train-test partition for these parameters will be set to nan. Details: \n",
      "Traceback (most recent call last):\n",
      "  File \"/Users/ramanzhuk/opt/anaconda3/lib/python3.9/site-packages/sklearn/model_selection/_validation.py\", line 598, in _fit_and_score\n",
      "    estimator.fit(X_train, y_train, **fit_params)\n",
      "  File \"/Users/ramanzhuk/opt/anaconda3/lib/python3.9/site-packages/sklearn/linear_model/_logistic.py\", line 1358, in fit\n",
      "    self.coef_, self.intercept_, n_iter_ = _fit_liblinear(\n",
      "  File \"/Users/ramanzhuk/opt/anaconda3/lib/python3.9/site-packages/sklearn/svm/_base.py\", line 939, in _fit_liblinear\n",
      "    class_weight_ = compute_class_weight(class_weight, classes=classes_,\n",
      "  File \"/Users/ramanzhuk/opt/anaconda3/lib/python3.9/site-packages/sklearn/utils/validation.py\", line 63, in inner_f\n",
      "    return f(*args, **kwargs)\n",
      "  File \"/Users/ramanzhuk/opt/anaconda3/lib/python3.9/site-packages/sklearn/utils/class_weight.py\", line 63, in compute_class_weight\n",
      "    raise ValueError(\"class_weight must be dict, 'balanced', or None,\"\n",
      "ValueError: class_weight must be dict, 'balanced', or None, got: 'none'\n",
      "\n",
      "  warnings.warn(\"Estimator fit failed. The score on this train-test\"\n",
      "/Users/ramanzhuk/opt/anaconda3/lib/python3.9/site-packages/sklearn/model_selection/_validation.py:615: FitFailedWarning: Estimator fit failed. The score on this train-test partition for these parameters will be set to nan. Details: \n",
      "Traceback (most recent call last):\n",
      "  File \"/Users/ramanzhuk/opt/anaconda3/lib/python3.9/site-packages/sklearn/model_selection/_validation.py\", line 598, in _fit_and_score\n",
      "    estimator.fit(X_train, y_train, **fit_params)\n",
      "  File \"/Users/ramanzhuk/opt/anaconda3/lib/python3.9/site-packages/sklearn/linear_model/_logistic.py\", line 1358, in fit\n",
      "    self.coef_, self.intercept_, n_iter_ = _fit_liblinear(\n",
      "  File \"/Users/ramanzhuk/opt/anaconda3/lib/python3.9/site-packages/sklearn/svm/_base.py\", line 939, in _fit_liblinear\n",
      "    class_weight_ = compute_class_weight(class_weight, classes=classes_,\n",
      "  File \"/Users/ramanzhuk/opt/anaconda3/lib/python3.9/site-packages/sklearn/utils/validation.py\", line 63, in inner_f\n",
      "    return f(*args, **kwargs)\n",
      "  File \"/Users/ramanzhuk/opt/anaconda3/lib/python3.9/site-packages/sklearn/utils/class_weight.py\", line 63, in compute_class_weight\n",
      "    raise ValueError(\"class_weight must be dict, 'balanced', or None,\"\n",
      "ValueError: class_weight must be dict, 'balanced', or None, got: 'none'\n",
      "\n",
      "  warnings.warn(\"Estimator fit failed. The score on this train-test\"\n",
      "/Users/ramanzhuk/opt/anaconda3/lib/python3.9/site-packages/sklearn/model_selection/_validation.py:615: FitFailedWarning: Estimator fit failed. The score on this train-test partition for these parameters will be set to nan. Details: \n",
      "Traceback (most recent call last):\n",
      "  File \"/Users/ramanzhuk/opt/anaconda3/lib/python3.9/site-packages/sklearn/model_selection/_validation.py\", line 598, in _fit_and_score\n",
      "    estimator.fit(X_train, y_train, **fit_params)\n",
      "  File \"/Users/ramanzhuk/opt/anaconda3/lib/python3.9/site-packages/sklearn/linear_model/_logistic.py\", line 1358, in fit\n",
      "    self.coef_, self.intercept_, n_iter_ = _fit_liblinear(\n",
      "  File \"/Users/ramanzhuk/opt/anaconda3/lib/python3.9/site-packages/sklearn/svm/_base.py\", line 939, in _fit_liblinear\n",
      "    class_weight_ = compute_class_weight(class_weight, classes=classes_,\n",
      "  File \"/Users/ramanzhuk/opt/anaconda3/lib/python3.9/site-packages/sklearn/utils/validation.py\", line 63, in inner_f\n",
      "    return f(*args, **kwargs)\n",
      "  File \"/Users/ramanzhuk/opt/anaconda3/lib/python3.9/site-packages/sklearn/utils/class_weight.py\", line 63, in compute_class_weight\n",
      "    raise ValueError(\"class_weight must be dict, 'balanced', or None,\"\n",
      "ValueError: class_weight must be dict, 'balanced', or None, got: 'none'\n",
      "\n",
      "  warnings.warn(\"Estimator fit failed. The score on this train-test\"\n",
      "/Users/ramanzhuk/opt/anaconda3/lib/python3.9/site-packages/sklearn/model_selection/_validation.py:615: FitFailedWarning: Estimator fit failed. The score on this train-test partition for these parameters will be set to nan. Details: \n",
      "Traceback (most recent call last):\n",
      "  File \"/Users/ramanzhuk/opt/anaconda3/lib/python3.9/site-packages/sklearn/model_selection/_validation.py\", line 598, in _fit_and_score\n",
      "    estimator.fit(X_train, y_train, **fit_params)\n",
      "  File \"/Users/ramanzhuk/opt/anaconda3/lib/python3.9/site-packages/sklearn/linear_model/_logistic.py\", line 1306, in fit\n",
      "    solver = _check_solver(self.solver, self.penalty, self.dual)\n",
      "  File \"/Users/ramanzhuk/opt/anaconda3/lib/python3.9/site-packages/sklearn/linear_model/_logistic.py\", line 443, in _check_solver\n",
      "    raise ValueError(\"Solver %s supports only 'l2' or 'none' penalties, \"\n",
      "ValueError: Solver lbfgs supports only 'l2' or 'none' penalties, got l1 penalty.\n",
      "\n",
      "  warnings.warn(\"Estimator fit failed. The score on this train-test\"\n",
      "/Users/ramanzhuk/opt/anaconda3/lib/python3.9/site-packages/sklearn/model_selection/_validation.py:615: FitFailedWarning: Estimator fit failed. The score on this train-test partition for these parameters will be set to nan. Details: \n",
      "Traceback (most recent call last):\n",
      "  File \"/Users/ramanzhuk/opt/anaconda3/lib/python3.9/site-packages/sklearn/model_selection/_validation.py\", line 598, in _fit_and_score\n",
      "    estimator.fit(X_train, y_train, **fit_params)\n",
      "  File \"/Users/ramanzhuk/opt/anaconda3/lib/python3.9/site-packages/sklearn/linear_model/_logistic.py\", line 1306, in fit\n",
      "    solver = _check_solver(self.solver, self.penalty, self.dual)\n",
      "  File \"/Users/ramanzhuk/opt/anaconda3/lib/python3.9/site-packages/sklearn/linear_model/_logistic.py\", line 443, in _check_solver\n",
      "    raise ValueError(\"Solver %s supports only 'l2' or 'none' penalties, \"\n",
      "ValueError: Solver lbfgs supports only 'l2' or 'none' penalties, got l1 penalty.\n",
      "\n",
      "  warnings.warn(\"Estimator fit failed. The score on this train-test\"\n",
      "/Users/ramanzhuk/opt/anaconda3/lib/python3.9/site-packages/sklearn/model_selection/_validation.py:615: FitFailedWarning: Estimator fit failed. The score on this train-test partition for these parameters will be set to nan. Details: \n",
      "Traceback (most recent call last):\n",
      "  File \"/Users/ramanzhuk/opt/anaconda3/lib/python3.9/site-packages/sklearn/model_selection/_validation.py\", line 598, in _fit_and_score\n",
      "    estimator.fit(X_train, y_train, **fit_params)\n",
      "  File \"/Users/ramanzhuk/opt/anaconda3/lib/python3.9/site-packages/sklearn/linear_model/_logistic.py\", line 1306, in fit\n",
      "    solver = _check_solver(self.solver, self.penalty, self.dual)\n",
      "  File \"/Users/ramanzhuk/opt/anaconda3/lib/python3.9/site-packages/sklearn/linear_model/_logistic.py\", line 443, in _check_solver\n",
      "    raise ValueError(\"Solver %s supports only 'l2' or 'none' penalties, \"\n",
      "ValueError: Solver lbfgs supports only 'l2' or 'none' penalties, got l1 penalty.\n",
      "\n",
      "  warnings.warn(\"Estimator fit failed. The score on this train-test\"\n",
      "/Users/ramanzhuk/opt/anaconda3/lib/python3.9/site-packages/sklearn/model_selection/_validation.py:615: FitFailedWarning: Estimator fit failed. The score on this train-test partition for these parameters will be set to nan. Details: \n",
      "Traceback (most recent call last):\n",
      "  File \"/Users/ramanzhuk/opt/anaconda3/lib/python3.9/site-packages/sklearn/model_selection/_validation.py\", line 598, in _fit_and_score\n",
      "    estimator.fit(X_train, y_train, **fit_params)\n",
      "  File \"/Users/ramanzhuk/opt/anaconda3/lib/python3.9/site-packages/sklearn/linear_model/_logistic.py\", line 1358, in fit\n",
      "    self.coef_, self.intercept_, n_iter_ = _fit_liblinear(\n",
      "  File \"/Users/ramanzhuk/opt/anaconda3/lib/python3.9/site-packages/sklearn/svm/_base.py\", line 939, in _fit_liblinear\n",
      "    class_weight_ = compute_class_weight(class_weight, classes=classes_,\n",
      "  File \"/Users/ramanzhuk/opt/anaconda3/lib/python3.9/site-packages/sklearn/utils/validation.py\", line 63, in inner_f\n",
      "    return f(*args, **kwargs)\n",
      "  File \"/Users/ramanzhuk/opt/anaconda3/lib/python3.9/site-packages/sklearn/utils/class_weight.py\", line 63, in compute_class_weight\n",
      "    raise ValueError(\"class_weight must be dict, 'balanced', or None,\"\n",
      "ValueError: class_weight must be dict, 'balanced', or None, got: 'none'\n",
      "\n",
      "  warnings.warn(\"Estimator fit failed. The score on this train-test\"\n",
      "/Users/ramanzhuk/opt/anaconda3/lib/python3.9/site-packages/sklearn/model_selection/_validation.py:615: FitFailedWarning: Estimator fit failed. The score on this train-test partition for these parameters will be set to nan. Details: \n",
      "Traceback (most recent call last):\n",
      "  File \"/Users/ramanzhuk/opt/anaconda3/lib/python3.9/site-packages/sklearn/model_selection/_validation.py\", line 598, in _fit_and_score\n",
      "    estimator.fit(X_train, y_train, **fit_params)\n",
      "  File \"/Users/ramanzhuk/opt/anaconda3/lib/python3.9/site-packages/sklearn/linear_model/_logistic.py\", line 1358, in fit\n",
      "    self.coef_, self.intercept_, n_iter_ = _fit_liblinear(\n",
      "  File \"/Users/ramanzhuk/opt/anaconda3/lib/python3.9/site-packages/sklearn/svm/_base.py\", line 939, in _fit_liblinear\n",
      "    class_weight_ = compute_class_weight(class_weight, classes=classes_,\n",
      "  File \"/Users/ramanzhuk/opt/anaconda3/lib/python3.9/site-packages/sklearn/utils/validation.py\", line 63, in inner_f\n",
      "    return f(*args, **kwargs)\n",
      "  File \"/Users/ramanzhuk/opt/anaconda3/lib/python3.9/site-packages/sklearn/utils/class_weight.py\", line 63, in compute_class_weight\n",
      "    raise ValueError(\"class_weight must be dict, 'balanced', or None,\"\n",
      "ValueError: class_weight must be dict, 'balanced', or None, got: 'none'\n",
      "\n",
      "  warnings.warn(\"Estimator fit failed. The score on this train-test\"\n",
      "/Users/ramanzhuk/opt/anaconda3/lib/python3.9/site-packages/sklearn/model_selection/_validation.py:615: FitFailedWarning: Estimator fit failed. The score on this train-test partition for these parameters will be set to nan. Details: \n",
      "Traceback (most recent call last):\n",
      "  File \"/Users/ramanzhuk/opt/anaconda3/lib/python3.9/site-packages/sklearn/model_selection/_validation.py\", line 598, in _fit_and_score\n",
      "    estimator.fit(X_train, y_train, **fit_params)\n",
      "  File \"/Users/ramanzhuk/opt/anaconda3/lib/python3.9/site-packages/sklearn/linear_model/_logistic.py\", line 1358, in fit\n",
      "    self.coef_, self.intercept_, n_iter_ = _fit_liblinear(\n",
      "  File \"/Users/ramanzhuk/opt/anaconda3/lib/python3.9/site-packages/sklearn/svm/_base.py\", line 939, in _fit_liblinear\n",
      "    class_weight_ = compute_class_weight(class_weight, classes=classes_,\n",
      "  File \"/Users/ramanzhuk/opt/anaconda3/lib/python3.9/site-packages/sklearn/utils/validation.py\", line 63, in inner_f\n",
      "    return f(*args, **kwargs)\n",
      "  File \"/Users/ramanzhuk/opt/anaconda3/lib/python3.9/site-packages/sklearn/utils/class_weight.py\", line 63, in compute_class_weight\n",
      "    raise ValueError(\"class_weight must be dict, 'balanced', or None,\"\n",
      "ValueError: class_weight must be dict, 'balanced', or None, got: 'none'\n",
      "\n",
      "  warnings.warn(\"Estimator fit failed. The score on this train-test\"\n",
      "/Users/ramanzhuk/opt/anaconda3/lib/python3.9/site-packages/sklearn/model_selection/_validation.py:615: FitFailedWarning: Estimator fit failed. The score on this train-test partition for these parameters will be set to nan. Details: \n",
      "Traceback (most recent call last):\n",
      "  File \"/Users/ramanzhuk/opt/anaconda3/lib/python3.9/site-packages/sklearn/model_selection/_validation.py\", line 598, in _fit_and_score\n",
      "    estimator.fit(X_train, y_train, **fit_params)\n",
      "  File \"/Users/ramanzhuk/opt/anaconda3/lib/python3.9/site-packages/sklearn/linear_model/_logistic.py\", line 1306, in fit\n",
      "    solver = _check_solver(self.solver, self.penalty, self.dual)\n",
      "  File \"/Users/ramanzhuk/opt/anaconda3/lib/python3.9/site-packages/sklearn/linear_model/_logistic.py\", line 443, in _check_solver\n",
      "    raise ValueError(\"Solver %s supports only 'l2' or 'none' penalties, \"\n",
      "ValueError: Solver lbfgs supports only 'l2' or 'none' penalties, got l1 penalty.\n",
      "\n",
      "  warnings.warn(\"Estimator fit failed. The score on this train-test\"\n",
      "/Users/ramanzhuk/opt/anaconda3/lib/python3.9/site-packages/sklearn/model_selection/_validation.py:615: FitFailedWarning: Estimator fit failed. The score on this train-test partition for these parameters will be set to nan. Details: \n",
      "Traceback (most recent call last):\n",
      "  File \"/Users/ramanzhuk/opt/anaconda3/lib/python3.9/site-packages/sklearn/model_selection/_validation.py\", line 598, in _fit_and_score\n",
      "    estimator.fit(X_train, y_train, **fit_params)\n",
      "  File \"/Users/ramanzhuk/opt/anaconda3/lib/python3.9/site-packages/sklearn/linear_model/_logistic.py\", line 1306, in fit\n",
      "    solver = _check_solver(self.solver, self.penalty, self.dual)\n",
      "  File \"/Users/ramanzhuk/opt/anaconda3/lib/python3.9/site-packages/sklearn/linear_model/_logistic.py\", line 443, in _check_solver\n",
      "    raise ValueError(\"Solver %s supports only 'l2' or 'none' penalties, \"\n",
      "ValueError: Solver lbfgs supports only 'l2' or 'none' penalties, got l1 penalty.\n",
      "\n",
      "  warnings.warn(\"Estimator fit failed. The score on this train-test\"\n",
      "/Users/ramanzhuk/opt/anaconda3/lib/python3.9/site-packages/sklearn/model_selection/_validation.py:615: FitFailedWarning: Estimator fit failed. The score on this train-test partition for these parameters will be set to nan. Details: \n",
      "Traceback (most recent call last):\n",
      "  File \"/Users/ramanzhuk/opt/anaconda3/lib/python3.9/site-packages/sklearn/model_selection/_validation.py\", line 598, in _fit_and_score\n",
      "    estimator.fit(X_train, y_train, **fit_params)\n",
      "  File \"/Users/ramanzhuk/opt/anaconda3/lib/python3.9/site-packages/sklearn/linear_model/_logistic.py\", line 1306, in fit\n",
      "    solver = _check_solver(self.solver, self.penalty, self.dual)\n",
      "  File \"/Users/ramanzhuk/opt/anaconda3/lib/python3.9/site-packages/sklearn/linear_model/_logistic.py\", line 443, in _check_solver\n",
      "    raise ValueError(\"Solver %s supports only 'l2' or 'none' penalties, \"\n",
      "ValueError: Solver lbfgs supports only 'l2' or 'none' penalties, got l1 penalty.\n",
      "\n",
      "  warnings.warn(\"Estimator fit failed. The score on this train-test\"\n",
      "/Users/ramanzhuk/opt/anaconda3/lib/python3.9/site-packages/sklearn/model_selection/_validation.py:615: FitFailedWarning: Estimator fit failed. The score on this train-test partition for these parameters will be set to nan. Details: \n",
      "Traceback (most recent call last):\n",
      "  File \"/Users/ramanzhuk/opt/anaconda3/lib/python3.9/site-packages/sklearn/model_selection/_validation.py\", line 598, in _fit_and_score\n",
      "    estimator.fit(X_train, y_train, **fit_params)\n",
      "  File \"/Users/ramanzhuk/opt/anaconda3/lib/python3.9/site-packages/sklearn/linear_model/_logistic.py\", line 1358, in fit\n",
      "    self.coef_, self.intercept_, n_iter_ = _fit_liblinear(\n",
      "  File \"/Users/ramanzhuk/opt/anaconda3/lib/python3.9/site-packages/sklearn/svm/_base.py\", line 939, in _fit_liblinear\n",
      "    class_weight_ = compute_class_weight(class_weight, classes=classes_,\n",
      "  File \"/Users/ramanzhuk/opt/anaconda3/lib/python3.9/site-packages/sklearn/utils/validation.py\", line 63, in inner_f\n",
      "    return f(*args, **kwargs)\n",
      "  File \"/Users/ramanzhuk/opt/anaconda3/lib/python3.9/site-packages/sklearn/utils/class_weight.py\", line 63, in compute_class_weight\n",
      "    raise ValueError(\"class_weight must be dict, 'balanced', or None,\"\n",
      "ValueError: class_weight must be dict, 'balanced', or None, got: 'none'\n",
      "\n",
      "  warnings.warn(\"Estimator fit failed. The score on this train-test\"\n",
      "/Users/ramanzhuk/opt/anaconda3/lib/python3.9/site-packages/sklearn/model_selection/_validation.py:615: FitFailedWarning: Estimator fit failed. The score on this train-test partition for these parameters will be set to nan. Details: \n",
      "Traceback (most recent call last):\n",
      "  File \"/Users/ramanzhuk/opt/anaconda3/lib/python3.9/site-packages/sklearn/model_selection/_validation.py\", line 598, in _fit_and_score\n",
      "    estimator.fit(X_train, y_train, **fit_params)\n",
      "  File \"/Users/ramanzhuk/opt/anaconda3/lib/python3.9/site-packages/sklearn/linear_model/_logistic.py\", line 1306, in fit\n",
      "    solver = _check_solver(self.solver, self.penalty, self.dual)\n",
      "  File \"/Users/ramanzhuk/opt/anaconda3/lib/python3.9/site-packages/sklearn/linear_model/_logistic.py\", line 443, in _check_solver\n",
      "    raise ValueError(\"Solver %s supports only 'l2' or 'none' penalties, \"\n",
      "ValueError: Solver lbfgs supports only 'l2' or 'none' penalties, got l1 penalty.\n",
      "\n",
      "  warnings.warn(\"Estimator fit failed. The score on this train-test\"\n",
      "/Users/ramanzhuk/opt/anaconda3/lib/python3.9/site-packages/sklearn/model_selection/_validation.py:615: FitFailedWarning: Estimator fit failed. The score on this train-test partition for these parameters will be set to nan. Details: \n",
      "Traceback (most recent call last):\n",
      "  File \"/Users/ramanzhuk/opt/anaconda3/lib/python3.9/site-packages/sklearn/model_selection/_validation.py\", line 598, in _fit_and_score\n",
      "    estimator.fit(X_train, y_train, **fit_params)\n",
      "  File \"/Users/ramanzhuk/opt/anaconda3/lib/python3.9/site-packages/sklearn/linear_model/_logistic.py\", line 1306, in fit\n",
      "    solver = _check_solver(self.solver, self.penalty, self.dual)\n",
      "  File \"/Users/ramanzhuk/opt/anaconda3/lib/python3.9/site-packages/sklearn/linear_model/_logistic.py\", line 443, in _check_solver\n",
      "    raise ValueError(\"Solver %s supports only 'l2' or 'none' penalties, \"\n",
      "ValueError: Solver lbfgs supports only 'l2' or 'none' penalties, got l1 penalty.\n",
      "\n",
      "  warnings.warn(\"Estimator fit failed. The score on this train-test\"\n",
      "/Users/ramanzhuk/opt/anaconda3/lib/python3.9/site-packages/sklearn/model_selection/_validation.py:615: FitFailedWarning: Estimator fit failed. The score on this train-test partition for these parameters will be set to nan. Details: \n",
      "Traceback (most recent call last):\n",
      "  File \"/Users/ramanzhuk/opt/anaconda3/lib/python3.9/site-packages/sklearn/model_selection/_validation.py\", line 598, in _fit_and_score\n",
      "    estimator.fit(X_train, y_train, **fit_params)\n",
      "  File \"/Users/ramanzhuk/opt/anaconda3/lib/python3.9/site-packages/sklearn/linear_model/_logistic.py\", line 1358, in fit\n",
      "    self.coef_, self.intercept_, n_iter_ = _fit_liblinear(\n",
      "  File \"/Users/ramanzhuk/opt/anaconda3/lib/python3.9/site-packages/sklearn/svm/_base.py\", line 939, in _fit_liblinear\n",
      "    class_weight_ = compute_class_weight(class_weight, classes=classes_,\n",
      "  File \"/Users/ramanzhuk/opt/anaconda3/lib/python3.9/site-packages/sklearn/utils/validation.py\", line 63, in inner_f\n",
      "    return f(*args, **kwargs)\n",
      "  File \"/Users/ramanzhuk/opt/anaconda3/lib/python3.9/site-packages/sklearn/utils/class_weight.py\", line 63, in compute_class_weight\n",
      "    raise ValueError(\"class_weight must be dict, 'balanced', or None,\"\n",
      "ValueError: class_weight must be dict, 'balanced', or None, got: 'none'\n",
      "\n",
      "  warnings.warn(\"Estimator fit failed. The score on this train-test\"\n",
      "/Users/ramanzhuk/opt/anaconda3/lib/python3.9/site-packages/sklearn/model_selection/_validation.py:615: FitFailedWarning: Estimator fit failed. The score on this train-test partition for these parameters will be set to nan. Details: \n",
      "Traceback (most recent call last):\n",
      "  File \"/Users/ramanzhuk/opt/anaconda3/lib/python3.9/site-packages/sklearn/model_selection/_validation.py\", line 598, in _fit_and_score\n",
      "    estimator.fit(X_train, y_train, **fit_params)\n",
      "  File \"/Users/ramanzhuk/opt/anaconda3/lib/python3.9/site-packages/sklearn/linear_model/_logistic.py\", line 1306, in fit\n",
      "    solver = _check_solver(self.solver, self.penalty, self.dual)\n",
      "  File \"/Users/ramanzhuk/opt/anaconda3/lib/python3.9/site-packages/sklearn/linear_model/_logistic.py\", line 443, in _check_solver\n",
      "    raise ValueError(\"Solver %s supports only 'l2' or 'none' penalties, \"\n",
      "ValueError: Solver lbfgs supports only 'l2' or 'none' penalties, got l1 penalty.\n",
      "\n",
      "  warnings.warn(\"Estimator fit failed. The score on this train-test\"\n"
     ]
    },
    {
     "name": "stderr",
     "output_type": "stream",
     "text": [
      "/Users/ramanzhuk/opt/anaconda3/lib/python3.9/site-packages/sklearn/model_selection/_validation.py:615: FitFailedWarning: Estimator fit failed. The score on this train-test partition for these parameters will be set to nan. Details: \n",
      "Traceback (most recent call last):\n",
      "  File \"/Users/ramanzhuk/opt/anaconda3/lib/python3.9/site-packages/sklearn/model_selection/_validation.py\", line 598, in _fit_and_score\n",
      "    estimator.fit(X_train, y_train, **fit_params)\n",
      "  File \"/Users/ramanzhuk/opt/anaconda3/lib/python3.9/site-packages/sklearn/linear_model/_logistic.py\", line 1306, in fit\n",
      "    solver = _check_solver(self.solver, self.penalty, self.dual)\n",
      "  File \"/Users/ramanzhuk/opt/anaconda3/lib/python3.9/site-packages/sklearn/linear_model/_logistic.py\", line 443, in _check_solver\n",
      "    raise ValueError(\"Solver %s supports only 'l2' or 'none' penalties, \"\n",
      "ValueError: Solver lbfgs supports only 'l2' or 'none' penalties, got l1 penalty.\n",
      "\n",
      "  warnings.warn(\"Estimator fit failed. The score on this train-test\"\n",
      "/Users/ramanzhuk/opt/anaconda3/lib/python3.9/site-packages/sklearn/model_selection/_validation.py:615: FitFailedWarning: Estimator fit failed. The score on this train-test partition for these parameters will be set to nan. Details: \n",
      "Traceback (most recent call last):\n",
      "  File \"/Users/ramanzhuk/opt/anaconda3/lib/python3.9/site-packages/sklearn/model_selection/_validation.py\", line 598, in _fit_and_score\n",
      "    estimator.fit(X_train, y_train, **fit_params)\n",
      "  File \"/Users/ramanzhuk/opt/anaconda3/lib/python3.9/site-packages/sklearn/linear_model/_logistic.py\", line 1306, in fit\n",
      "    solver = _check_solver(self.solver, self.penalty, self.dual)\n",
      "  File \"/Users/ramanzhuk/opt/anaconda3/lib/python3.9/site-packages/sklearn/linear_model/_logistic.py\", line 443, in _check_solver\n",
      "    raise ValueError(\"Solver %s supports only 'l2' or 'none' penalties, \"\n",
      "ValueError: Solver lbfgs supports only 'l2' or 'none' penalties, got l1 penalty.\n",
      "\n",
      "  warnings.warn(\"Estimator fit failed. The score on this train-test\"\n",
      "/Users/ramanzhuk/opt/anaconda3/lib/python3.9/site-packages/sklearn/model_selection/_validation.py:615: FitFailedWarning: Estimator fit failed. The score on this train-test partition for these parameters will be set to nan. Details: \n",
      "Traceback (most recent call last):\n",
      "  File \"/Users/ramanzhuk/opt/anaconda3/lib/python3.9/site-packages/sklearn/model_selection/_validation.py\", line 598, in _fit_and_score\n",
      "    estimator.fit(X_train, y_train, **fit_params)\n",
      "  File \"/Users/ramanzhuk/opt/anaconda3/lib/python3.9/site-packages/sklearn/linear_model/_logistic.py\", line 1306, in fit\n",
      "    solver = _check_solver(self.solver, self.penalty, self.dual)\n",
      "  File \"/Users/ramanzhuk/opt/anaconda3/lib/python3.9/site-packages/sklearn/linear_model/_logistic.py\", line 443, in _check_solver\n",
      "    raise ValueError(\"Solver %s supports only 'l2' or 'none' penalties, \"\n",
      "ValueError: Solver lbfgs supports only 'l2' or 'none' penalties, got l1 penalty.\n",
      "\n",
      "  warnings.warn(\"Estimator fit failed. The score on this train-test\"\n",
      "/Users/ramanzhuk/opt/anaconda3/lib/python3.9/site-packages/sklearn/model_selection/_validation.py:615: FitFailedWarning: Estimator fit failed. The score on this train-test partition for these parameters will be set to nan. Details: \n",
      "Traceback (most recent call last):\n",
      "  File \"/Users/ramanzhuk/opt/anaconda3/lib/python3.9/site-packages/sklearn/model_selection/_validation.py\", line 598, in _fit_and_score\n",
      "    estimator.fit(X_train, y_train, **fit_params)\n",
      "  File \"/Users/ramanzhuk/opt/anaconda3/lib/python3.9/site-packages/sklearn/linear_model/_logistic.py\", line 1306, in fit\n",
      "    solver = _check_solver(self.solver, self.penalty, self.dual)\n",
      "  File \"/Users/ramanzhuk/opt/anaconda3/lib/python3.9/site-packages/sklearn/linear_model/_logistic.py\", line 443, in _check_solver\n",
      "    raise ValueError(\"Solver %s supports only 'l2' or 'none' penalties, \"\n",
      "ValueError: Solver lbfgs supports only 'l2' or 'none' penalties, got l1 penalty.\n",
      "\n",
      "  warnings.warn(\"Estimator fit failed. The score on this train-test\"\n",
      "/Users/ramanzhuk/opt/anaconda3/lib/python3.9/site-packages/sklearn/model_selection/_validation.py:615: FitFailedWarning: Estimator fit failed. The score on this train-test partition for these parameters will be set to nan. Details: \n",
      "Traceback (most recent call last):\n",
      "  File \"/Users/ramanzhuk/opt/anaconda3/lib/python3.9/site-packages/sklearn/model_selection/_validation.py\", line 598, in _fit_and_score\n",
      "    estimator.fit(X_train, y_train, **fit_params)\n",
      "  File \"/Users/ramanzhuk/opt/anaconda3/lib/python3.9/site-packages/sklearn/linear_model/_logistic.py\", line 1306, in fit\n",
      "    solver = _check_solver(self.solver, self.penalty, self.dual)\n",
      "  File \"/Users/ramanzhuk/opt/anaconda3/lib/python3.9/site-packages/sklearn/linear_model/_logistic.py\", line 443, in _check_solver\n",
      "    raise ValueError(\"Solver %s supports only 'l2' or 'none' penalties, \"\n",
      "ValueError: Solver lbfgs supports only 'l2' or 'none' penalties, got l1 penalty.\n",
      "\n",
      "  warnings.warn(\"Estimator fit failed. The score on this train-test\"\n",
      "/Users/ramanzhuk/opt/anaconda3/lib/python3.9/site-packages/sklearn/model_selection/_validation.py:615: FitFailedWarning: Estimator fit failed. The score on this train-test partition for these parameters will be set to nan. Details: \n",
      "Traceback (most recent call last):\n",
      "  File \"/Users/ramanzhuk/opt/anaconda3/lib/python3.9/site-packages/sklearn/model_selection/_validation.py\", line 598, in _fit_and_score\n",
      "    estimator.fit(X_train, y_train, **fit_params)\n",
      "  File \"/Users/ramanzhuk/opt/anaconda3/lib/python3.9/site-packages/sklearn/linear_model/_logistic.py\", line 1306, in fit\n",
      "    solver = _check_solver(self.solver, self.penalty, self.dual)\n",
      "  File \"/Users/ramanzhuk/opt/anaconda3/lib/python3.9/site-packages/sklearn/linear_model/_logistic.py\", line 443, in _check_solver\n",
      "    raise ValueError(\"Solver %s supports only 'l2' or 'none' penalties, \"\n",
      "ValueError: Solver lbfgs supports only 'l2' or 'none' penalties, got l1 penalty.\n",
      "\n",
      "  warnings.warn(\"Estimator fit failed. The score on this train-test\"\n",
      "/Users/ramanzhuk/opt/anaconda3/lib/python3.9/site-packages/sklearn/model_selection/_validation.py:615: FitFailedWarning: Estimator fit failed. The score on this train-test partition for these parameters will be set to nan. Details: \n",
      "Traceback (most recent call last):\n",
      "  File \"/Users/ramanzhuk/opt/anaconda3/lib/python3.9/site-packages/sklearn/model_selection/_validation.py\", line 598, in _fit_and_score\n",
      "    estimator.fit(X_train, y_train, **fit_params)\n",
      "  File \"/Users/ramanzhuk/opt/anaconda3/lib/python3.9/site-packages/sklearn/linear_model/_logistic.py\", line 1306, in fit\n",
      "    solver = _check_solver(self.solver, self.penalty, self.dual)\n",
      "  File \"/Users/ramanzhuk/opt/anaconda3/lib/python3.9/site-packages/sklearn/linear_model/_logistic.py\", line 443, in _check_solver\n",
      "    raise ValueError(\"Solver %s supports only 'l2' or 'none' penalties, \"\n",
      "ValueError: Solver lbfgs supports only 'l2' or 'none' penalties, got l1 penalty.\n",
      "\n",
      "  warnings.warn(\"Estimator fit failed. The score on this train-test\"\n",
      "/Users/ramanzhuk/opt/anaconda3/lib/python3.9/site-packages/sklearn/model_selection/_validation.py:615: FitFailedWarning: Estimator fit failed. The score on this train-test partition for these parameters will be set to nan. Details: \n",
      "Traceback (most recent call last):\n",
      "  File \"/Users/ramanzhuk/opt/anaconda3/lib/python3.9/site-packages/sklearn/model_selection/_validation.py\", line 598, in _fit_and_score\n",
      "    estimator.fit(X_train, y_train, **fit_params)\n",
      "  File \"/Users/ramanzhuk/opt/anaconda3/lib/python3.9/site-packages/sklearn/linear_model/_logistic.py\", line 1306, in fit\n",
      "    solver = _check_solver(self.solver, self.penalty, self.dual)\n",
      "  File \"/Users/ramanzhuk/opt/anaconda3/lib/python3.9/site-packages/sklearn/linear_model/_logistic.py\", line 443, in _check_solver\n",
      "    raise ValueError(\"Solver %s supports only 'l2' or 'none' penalties, \"\n",
      "ValueError: Solver lbfgs supports only 'l2' or 'none' penalties, got l1 penalty.\n",
      "\n",
      "  warnings.warn(\"Estimator fit failed. The score on this train-test\"\n",
      "/Users/ramanzhuk/opt/anaconda3/lib/python3.9/site-packages/sklearn/model_selection/_validation.py:615: FitFailedWarning: Estimator fit failed. The score on this train-test partition for these parameters will be set to nan. Details: \n",
      "Traceback (most recent call last):\n",
      "  File \"/Users/ramanzhuk/opt/anaconda3/lib/python3.9/site-packages/sklearn/model_selection/_validation.py\", line 598, in _fit_and_score\n",
      "    estimator.fit(X_train, y_train, **fit_params)\n",
      "  File \"/Users/ramanzhuk/opt/anaconda3/lib/python3.9/site-packages/sklearn/linear_model/_logistic.py\", line 1306, in fit\n",
      "    solver = _check_solver(self.solver, self.penalty, self.dual)\n",
      "  File \"/Users/ramanzhuk/opt/anaconda3/lib/python3.9/site-packages/sklearn/linear_model/_logistic.py\", line 443, in _check_solver\n",
      "    raise ValueError(\"Solver %s supports only 'l2' or 'none' penalties, \"\n",
      "ValueError: Solver lbfgs supports only 'l2' or 'none' penalties, got l1 penalty.\n",
      "\n",
      "  warnings.warn(\"Estimator fit failed. The score on this train-test\"\n"
     ]
    },
    {
     "name": "stderr",
     "output_type": "stream",
     "text": [
      "/Users/ramanzhuk/opt/anaconda3/lib/python3.9/site-packages/sklearn/model_selection/_validation.py:615: FitFailedWarning: Estimator fit failed. The score on this train-test partition for these parameters will be set to nan. Details: \n",
      "Traceback (most recent call last):\n",
      "  File \"/Users/ramanzhuk/opt/anaconda3/lib/python3.9/site-packages/sklearn/model_selection/_validation.py\", line 598, in _fit_and_score\n",
      "    estimator.fit(X_train, y_train, **fit_params)\n",
      "  File \"/Users/ramanzhuk/opt/anaconda3/lib/python3.9/site-packages/sklearn/linear_model/_logistic.py\", line 1358, in fit\n",
      "    self.coef_, self.intercept_, n_iter_ = _fit_liblinear(\n",
      "  File \"/Users/ramanzhuk/opt/anaconda3/lib/python3.9/site-packages/sklearn/svm/_base.py\", line 939, in _fit_liblinear\n",
      "    class_weight_ = compute_class_weight(class_weight, classes=classes_,\n",
      "  File \"/Users/ramanzhuk/opt/anaconda3/lib/python3.9/site-packages/sklearn/utils/validation.py\", line 63, in inner_f\n",
      "    return f(*args, **kwargs)\n",
      "  File \"/Users/ramanzhuk/opt/anaconda3/lib/python3.9/site-packages/sklearn/utils/class_weight.py\", line 63, in compute_class_weight\n",
      "    raise ValueError(\"class_weight must be dict, 'balanced', or None,\"\n",
      "ValueError: class_weight must be dict, 'balanced', or None, got: 'none'\n",
      "\n",
      "  warnings.warn(\"Estimator fit failed. The score on this train-test\"\n",
      "/Users/ramanzhuk/opt/anaconda3/lib/python3.9/site-packages/sklearn/model_selection/_validation.py:615: FitFailedWarning: Estimator fit failed. The score on this train-test partition for these parameters will be set to nan. Details: \n",
      "Traceback (most recent call last):\n",
      "  File \"/Users/ramanzhuk/opt/anaconda3/lib/python3.9/site-packages/sklearn/model_selection/_validation.py\", line 598, in _fit_and_score\n",
      "    estimator.fit(X_train, y_train, **fit_params)\n",
      "  File \"/Users/ramanzhuk/opt/anaconda3/lib/python3.9/site-packages/sklearn/linear_model/_logistic.py\", line 1358, in fit\n",
      "    self.coef_, self.intercept_, n_iter_ = _fit_liblinear(\n",
      "  File \"/Users/ramanzhuk/opt/anaconda3/lib/python3.9/site-packages/sklearn/svm/_base.py\", line 939, in _fit_liblinear\n",
      "    class_weight_ = compute_class_weight(class_weight, classes=classes_,\n",
      "  File \"/Users/ramanzhuk/opt/anaconda3/lib/python3.9/site-packages/sklearn/utils/validation.py\", line 63, in inner_f\n",
      "    return f(*args, **kwargs)\n",
      "  File \"/Users/ramanzhuk/opt/anaconda3/lib/python3.9/site-packages/sklearn/utils/class_weight.py\", line 63, in compute_class_weight\n",
      "    raise ValueError(\"class_weight must be dict, 'balanced', or None,\"\n",
      "ValueError: class_weight must be dict, 'balanced', or None, got: 'none'\n",
      "\n",
      "  warnings.warn(\"Estimator fit failed. The score on this train-test\"\n",
      "/Users/ramanzhuk/opt/anaconda3/lib/python3.9/site-packages/sklearn/model_selection/_validation.py:615: FitFailedWarning: Estimator fit failed. The score on this train-test partition for these parameters will be set to nan. Details: \n",
      "Traceback (most recent call last):\n",
      "  File \"/Users/ramanzhuk/opt/anaconda3/lib/python3.9/site-packages/sklearn/model_selection/_validation.py\", line 598, in _fit_and_score\n",
      "    estimator.fit(X_train, y_train, **fit_params)\n",
      "  File \"/Users/ramanzhuk/opt/anaconda3/lib/python3.9/site-packages/sklearn/linear_model/_logistic.py\", line 1358, in fit\n",
      "    self.coef_, self.intercept_, n_iter_ = _fit_liblinear(\n",
      "  File \"/Users/ramanzhuk/opt/anaconda3/lib/python3.9/site-packages/sklearn/svm/_base.py\", line 939, in _fit_liblinear\n",
      "    class_weight_ = compute_class_weight(class_weight, classes=classes_,\n",
      "  File \"/Users/ramanzhuk/opt/anaconda3/lib/python3.9/site-packages/sklearn/utils/validation.py\", line 63, in inner_f\n",
      "    return f(*args, **kwargs)\n",
      "  File \"/Users/ramanzhuk/opt/anaconda3/lib/python3.9/site-packages/sklearn/utils/class_weight.py\", line 63, in compute_class_weight\n",
      "    raise ValueError(\"class_weight must be dict, 'balanced', or None,\"\n",
      "ValueError: class_weight must be dict, 'balanced', or None, got: 'none'\n",
      "\n",
      "  warnings.warn(\"Estimator fit failed. The score on this train-test\"\n",
      "/Users/ramanzhuk/opt/anaconda3/lib/python3.9/site-packages/sklearn/model_selection/_validation.py:615: FitFailedWarning: Estimator fit failed. The score on this train-test partition for these parameters will be set to nan. Details: \n",
      "Traceback (most recent call last):\n",
      "  File \"/Users/ramanzhuk/opt/anaconda3/lib/python3.9/site-packages/sklearn/model_selection/_validation.py\", line 598, in _fit_and_score\n",
      "    estimator.fit(X_train, y_train, **fit_params)\n",
      "  File \"/Users/ramanzhuk/opt/anaconda3/lib/python3.9/site-packages/sklearn/linear_model/_logistic.py\", line 1358, in fit\n",
      "    self.coef_, self.intercept_, n_iter_ = _fit_liblinear(\n",
      "  File \"/Users/ramanzhuk/opt/anaconda3/lib/python3.9/site-packages/sklearn/svm/_base.py\", line 939, in _fit_liblinear\n",
      "    class_weight_ = compute_class_weight(class_weight, classes=classes_,\n",
      "  File \"/Users/ramanzhuk/opt/anaconda3/lib/python3.9/site-packages/sklearn/utils/validation.py\", line 63, in inner_f\n",
      "    return f(*args, **kwargs)\n",
      "  File \"/Users/ramanzhuk/opt/anaconda3/lib/python3.9/site-packages/sklearn/utils/class_weight.py\", line 63, in compute_class_weight\n",
      "    raise ValueError(\"class_weight must be dict, 'balanced', or None,\"\n",
      "ValueError: class_weight must be dict, 'balanced', or None, got: 'none'\n",
      "\n",
      "  warnings.warn(\"Estimator fit failed. The score on this train-test\"\n",
      "/Users/ramanzhuk/opt/anaconda3/lib/python3.9/site-packages/sklearn/model_selection/_validation.py:615: FitFailedWarning: Estimator fit failed. The score on this train-test partition for these parameters will be set to nan. Details: \n",
      "Traceback (most recent call last):\n",
      "  File \"/Users/ramanzhuk/opt/anaconda3/lib/python3.9/site-packages/sklearn/model_selection/_validation.py\", line 598, in _fit_and_score\n",
      "    estimator.fit(X_train, y_train, **fit_params)\n",
      "  File \"/Users/ramanzhuk/opt/anaconda3/lib/python3.9/site-packages/sklearn/linear_model/_logistic.py\", line 1358, in fit\n",
      "    self.coef_, self.intercept_, n_iter_ = _fit_liblinear(\n",
      "  File \"/Users/ramanzhuk/opt/anaconda3/lib/python3.9/site-packages/sklearn/svm/_base.py\", line 939, in _fit_liblinear\n",
      "    class_weight_ = compute_class_weight(class_weight, classes=classes_,\n",
      "  File \"/Users/ramanzhuk/opt/anaconda3/lib/python3.9/site-packages/sklearn/utils/validation.py\", line 63, in inner_f\n",
      "    return f(*args, **kwargs)\n",
      "  File \"/Users/ramanzhuk/opt/anaconda3/lib/python3.9/site-packages/sklearn/utils/class_weight.py\", line 63, in compute_class_weight\n",
      "    raise ValueError(\"class_weight must be dict, 'balanced', or None,\"\n",
      "ValueError: class_weight must be dict, 'balanced', or None, got: 'none'\n",
      "\n",
      "  warnings.warn(\"Estimator fit failed. The score on this train-test\"\n",
      "/Users/ramanzhuk/opt/anaconda3/lib/python3.9/site-packages/sklearn/model_selection/_validation.py:615: FitFailedWarning: Estimator fit failed. The score on this train-test partition for these parameters will be set to nan. Details: \n",
      "Traceback (most recent call last):\n",
      "  File \"/Users/ramanzhuk/opt/anaconda3/lib/python3.9/site-packages/sklearn/model_selection/_validation.py\", line 598, in _fit_and_score\n",
      "    estimator.fit(X_train, y_train, **fit_params)\n",
      "  File \"/Users/ramanzhuk/opt/anaconda3/lib/python3.9/site-packages/sklearn/linear_model/_logistic.py\", line 1358, in fit\n",
      "    self.coef_, self.intercept_, n_iter_ = _fit_liblinear(\n",
      "  File \"/Users/ramanzhuk/opt/anaconda3/lib/python3.9/site-packages/sklearn/svm/_base.py\", line 939, in _fit_liblinear\n",
      "    class_weight_ = compute_class_weight(class_weight, classes=classes_,\n",
      "  File \"/Users/ramanzhuk/opt/anaconda3/lib/python3.9/site-packages/sklearn/utils/validation.py\", line 63, in inner_f\n",
      "    return f(*args, **kwargs)\n",
      "  File \"/Users/ramanzhuk/opt/anaconda3/lib/python3.9/site-packages/sklearn/utils/class_weight.py\", line 63, in compute_class_weight\n",
      "    raise ValueError(\"class_weight must be dict, 'balanced', or None,\"\n",
      "ValueError: class_weight must be dict, 'balanced', or None, got: 'none'\n",
      "\n",
      "  warnings.warn(\"Estimator fit failed. The score on this train-test\"\n",
      "/Users/ramanzhuk/opt/anaconda3/lib/python3.9/site-packages/sklearn/model_selection/_validation.py:615: FitFailedWarning: Estimator fit failed. The score on this train-test partition for these parameters will be set to nan. Details: \n",
      "Traceback (most recent call last):\n",
      "  File \"/Users/ramanzhuk/opt/anaconda3/lib/python3.9/site-packages/sklearn/model_selection/_validation.py\", line 598, in _fit_and_score\n",
      "    estimator.fit(X_train, y_train, **fit_params)\n",
      "  File \"/Users/ramanzhuk/opt/anaconda3/lib/python3.9/site-packages/sklearn/linear_model/_logistic.py\", line 1358, in fit\n",
      "    self.coef_, self.intercept_, n_iter_ = _fit_liblinear(\n",
      "  File \"/Users/ramanzhuk/opt/anaconda3/lib/python3.9/site-packages/sklearn/svm/_base.py\", line 939, in _fit_liblinear\n",
      "    class_weight_ = compute_class_weight(class_weight, classes=classes_,\n",
      "  File \"/Users/ramanzhuk/opt/anaconda3/lib/python3.9/site-packages/sklearn/utils/validation.py\", line 63, in inner_f\n",
      "    return f(*args, **kwargs)\n",
      "  File \"/Users/ramanzhuk/opt/anaconda3/lib/python3.9/site-packages/sklearn/utils/class_weight.py\", line 63, in compute_class_weight\n",
      "    raise ValueError(\"class_weight must be dict, 'balanced', or None,\"\n",
      "ValueError: class_weight must be dict, 'balanced', or None, got: 'none'\n",
      "\n",
      "  warnings.warn(\"Estimator fit failed. The score on this train-test\"\n",
      "/Users/ramanzhuk/opt/anaconda3/lib/python3.9/site-packages/sklearn/model_selection/_validation.py:615: FitFailedWarning: Estimator fit failed. The score on this train-test partition for these parameters will be set to nan. Details: \n",
      "Traceback (most recent call last):\n",
      "  File \"/Users/ramanzhuk/opt/anaconda3/lib/python3.9/site-packages/sklearn/model_selection/_validation.py\", line 598, in _fit_and_score\n",
      "    estimator.fit(X_train, y_train, **fit_params)\n",
      "  File \"/Users/ramanzhuk/opt/anaconda3/lib/python3.9/site-packages/sklearn/linear_model/_logistic.py\", line 1358, in fit\n",
      "    self.coef_, self.intercept_, n_iter_ = _fit_liblinear(\n",
      "  File \"/Users/ramanzhuk/opt/anaconda3/lib/python3.9/site-packages/sklearn/svm/_base.py\", line 939, in _fit_liblinear\n",
      "    class_weight_ = compute_class_weight(class_weight, classes=classes_,\n",
      "  File \"/Users/ramanzhuk/opt/anaconda3/lib/python3.9/site-packages/sklearn/utils/validation.py\", line 63, in inner_f\n",
      "    return f(*args, **kwargs)\n",
      "  File \"/Users/ramanzhuk/opt/anaconda3/lib/python3.9/site-packages/sklearn/utils/class_weight.py\", line 63, in compute_class_weight\n",
      "    raise ValueError(\"class_weight must be dict, 'balanced', or None,\"\n",
      "ValueError: class_weight must be dict, 'balanced', or None, got: 'none'\n",
      "\n",
      "  warnings.warn(\"Estimator fit failed. The score on this train-test\"\n",
      "/Users/ramanzhuk/opt/anaconda3/lib/python3.9/site-packages/sklearn/model_selection/_validation.py:615: FitFailedWarning: Estimator fit failed. The score on this train-test partition for these parameters will be set to nan. Details: \n",
      "Traceback (most recent call last):\n",
      "  File \"/Users/ramanzhuk/opt/anaconda3/lib/python3.9/site-packages/sklearn/model_selection/_validation.py\", line 598, in _fit_and_score\n",
      "    estimator.fit(X_train, y_train, **fit_params)\n",
      "  File \"/Users/ramanzhuk/opt/anaconda3/lib/python3.9/site-packages/sklearn/linear_model/_logistic.py\", line 1358, in fit\n",
      "    self.coef_, self.intercept_, n_iter_ = _fit_liblinear(\n",
      "  File \"/Users/ramanzhuk/opt/anaconda3/lib/python3.9/site-packages/sklearn/svm/_base.py\", line 939, in _fit_liblinear\n",
      "    class_weight_ = compute_class_weight(class_weight, classes=classes_,\n",
      "  File \"/Users/ramanzhuk/opt/anaconda3/lib/python3.9/site-packages/sklearn/utils/validation.py\", line 63, in inner_f\n",
      "    return f(*args, **kwargs)\n",
      "  File \"/Users/ramanzhuk/opt/anaconda3/lib/python3.9/site-packages/sklearn/utils/class_weight.py\", line 63, in compute_class_weight\n",
      "    raise ValueError(\"class_weight must be dict, 'balanced', or None,\"\n",
      "ValueError: class_weight must be dict, 'balanced', or None, got: 'none'\n",
      "\n",
      "  warnings.warn(\"Estimator fit failed. The score on this train-test\"\n",
      "/Users/ramanzhuk/opt/anaconda3/lib/python3.9/site-packages/sklearn/model_selection/_validation.py:615: FitFailedWarning: Estimator fit failed. The score on this train-test partition for these parameters will be set to nan. Details: \n",
      "Traceback (most recent call last):\n",
      "  File \"/Users/ramanzhuk/opt/anaconda3/lib/python3.9/site-packages/sklearn/model_selection/_validation.py\", line 598, in _fit_and_score\n",
      "    estimator.fit(X_train, y_train, **fit_params)\n",
      "  File \"/Users/ramanzhuk/opt/anaconda3/lib/python3.9/site-packages/sklearn/linear_model/_logistic.py\", line 1358, in fit\n",
      "    self.coef_, self.intercept_, n_iter_ = _fit_liblinear(\n",
      "  File \"/Users/ramanzhuk/opt/anaconda3/lib/python3.9/site-packages/sklearn/svm/_base.py\", line 939, in _fit_liblinear\n",
      "    class_weight_ = compute_class_weight(class_weight, classes=classes_,\n",
      "  File \"/Users/ramanzhuk/opt/anaconda3/lib/python3.9/site-packages/sklearn/utils/validation.py\", line 63, in inner_f\n",
      "    return f(*args, **kwargs)\n",
      "  File \"/Users/ramanzhuk/opt/anaconda3/lib/python3.9/site-packages/sklearn/utils/class_weight.py\", line 63, in compute_class_weight\n",
      "    raise ValueError(\"class_weight must be dict, 'balanced', or None,\"\n",
      "ValueError: class_weight must be dict, 'balanced', or None, got: 'none'\n",
      "\n",
      "  warnings.warn(\"Estimator fit failed. The score on this train-test\"\n"
     ]
    },
    {
     "name": "stderr",
     "output_type": "stream",
     "text": [
      "/Users/ramanzhuk/opt/anaconda3/lib/python3.9/site-packages/sklearn/model_selection/_search.py:922: UserWarning: One or more of the test scores are non-finite: [       nan        nan        nan        nan 0.33674694        nan\n",
      " 0.33676974        nan 0.0514125  0.0514125         nan 0.0514125\n",
      " 0.0514125  0.0514125  0.0514125         nan 0.0514125  0.0514125\n",
      " 0.33676724 0.33676746 0.33682319 0.33678963 0.33679051 0.33676724\n",
      " 0.33676746 0.33682319 0.33688112 0.33681168 0.05140613 0.05140613\n",
      " 0.05140613 0.05140613 0.05140613 0.05140613 0.05140613 0.05140613\n",
      " 0.33689059 0.33687929 0.33692555 0.33683453 0.33689059 0.33687929\n",
      " 0.33691321 0.33684615]\n",
      "  warnings.warn(\n"
     ]
    },
    {
     "name": "stdout",
     "output_type": "stream",
     "text": [
      "\tC: 1.0\n",
      "\tclass_weight: 'balanced'\n",
      "\tdual: False\n",
      "\tfit_intercept: True\n",
      "\tintercept_scaling: 1\n",
      "\tl1_ratio: None\n",
      "\tmax_iter: 1000\n",
      "\tmulti_class: 'auto'\n",
      "\tn_jobs: None\n",
      "\tpenalty: 'none'\n",
      "\trandom_state: None\n",
      "\tsolver: 'sag'\n",
      "\ttol: 0.001\n",
      "\tverbose: 0\n",
      "\twarm_start: False\n"
     ]
    }
   ],
   "source": [
    "# Импортируем необходимые библиотеки:\n",
    "from sklearn.linear_model import LogisticRegression # инструмент для создания и обучения модели\n",
    "from sklearn import metrics # инструменты для оценки точности модели\n",
    "from sklearn.model_selection import GridSearchCV\n",
    "\n",
    "# запускаем GridSearch \n",
    "# чтобы получить оптимальные параметры модели \n",
    "model = LogisticRegression()\n",
    "\n",
    "iter_ = 1000\n",
    "epsilon_stop = 1e-3\n",
    "\n",
    "param_grid = [\n",
    "    {'penalty': ['l1'], \n",
    "     'solver': ['liblinear', 'lbfgs'], \n",
    "     'class_weight':['none', 'balanced'], \n",
    "     'multi_class': ['auto','ovr'], \n",
    "     'max_iter':[iter_],\n",
    "     'tol':[epsilon_stop]},\n",
    "    {'penalty': ['l2'], \n",
    "     'solver': ['newton-cg', 'lbfgs', 'liblinear', 'sag', 'saga'], \n",
    "     'class_weight':['none', 'balanced'], \n",
    "     'multi_class': ['auto','ovr'], \n",
    "     'max_iter':[iter_],\n",
    "     'tol':[epsilon_stop]},\n",
    "    {'penalty': ['none'], \n",
    "     'solver': ['newton-cg', 'lbfgs', 'sag', 'saga'], \n",
    "     'class_weight':['none', 'balanced'], \n",
    "     'multi_class': ['auto','ovr'], \n",
    "     'max_iter':[iter_],\n",
    "     'tol':[epsilon_stop]},\n",
    "]\n",
    "\n",
    "gridsearch = GridSearchCV(model, param_grid, scoring='f1', n_jobs=-1, cv=5)\n",
    "gridsearch.fit(X_train, y_train)\n",
    "model = gridsearch.best_estimator_\n",
    "\n",
    "##печатаем параметры\n",
    "best_parameters = model.get_params()\n",
    "for param_name in sorted(best_parameters.keys()):\n",
    "        print('\\t%s: %r' % (param_name, best_parameters[param_name]))"
   ]
  },
  {
   "cell_type": "code",
   "execution_count": 28,
   "id": "f31e7454",
   "metadata": {},
   "outputs": [],
   "source": [
    "# Создадим модель в оптимальными параметрами, найденными с помощью инструмента GridSearchCV\n",
    "\n",
    "logreg = LogisticRegression(solver='sag', max_iter=1000, class_weight='balanced', penalty='none',  tol=0.001, )\n",
    "logreg.fit(X_train, y_train)\n",
    "y_pred = logreg.predict(X_test) \n",
    "Y_pred=logreg.predict(X_train)\n",
    "y_pred_proba=logreg.predict_proba(X_test)\n",
    "y_pred_proba=y_pred_proba[:,1]\n",
    "Y_pred_proba=logreg.predict_proba(X_train)\n",
    "Y_pred_proba=Y_pred_proba[:,1]"
   ]
  },
  {
   "cell_type": "markdown",
   "id": "786b2e21",
   "metadata": {},
   "source": [
    "## оценка модели"
   ]
  },
  {
   "cell_type": "code",
   "execution_count": 29,
   "id": "fd3b2b6a",
   "metadata": {},
   "outputs": [],
   "source": [
    "# Импортируем все необходимые метрики\n",
    "from sklearn.metrics import classification_report, f1_score, accuracy_score, precision_score, roc_auc_score, roc_curve, recall_score, confusion_matrix"
   ]
  },
  {
   "cell_type": "code",
   "execution_count": 30,
   "id": "0e231e35",
   "metadata": {},
   "outputs": [],
   "source": [
    "# Функция, отображений  значений всех метрик на тренировочной  и тестовой выборках\n",
    "def show_metrics(y_pred_train, Y_train, y_pred_test, Y_test, y_pred_proba_train, y_pred_proba_test):\n",
    "    f1_score_train=f1_score(y_pred_train,Y_train)\n",
    "    f1_score_test=f1_score(y_pred_test,Y_test)\n",
    "    print('[train] f1_score {0:.2f}, [test] f1_score {1:.2f}\\n'.format(f1_score_train,f1_score_test))\n",
    "    precision_score_train=precision_score(y_pred_train,Y_train)\n",
    "    precision_score_test=precision_score(y_pred_test,Y_test)\n",
    "    print('[train] precision_score {0:.2f}, [test] precision_score {1:.2f}\\n'.format(precision_score_train,precision_score_test))\n",
    "    recall_score_train=recall_score(y_pred_train,Y_train)\n",
    "    recall_score_test=recall_score(y_pred_test,Y_test)\n",
    "    print('[train] recall_score {0:.2f}, [test] recall_score {1:.2f}\\n'.format(recall_score_train,recall_score_test))\n",
    "    accuracy_score_train=accuracy_score(y_pred_train,Y_train)\n",
    "    accuracy_score_test=accuracy_score(y_pred_test,Y_test)\n",
    "    print('[train] accuracy_score {0:.2f}, [test] accuracy_score {1:.2f}\\n'.format(accuracy_score_train,accuracy_score_test))\n",
    "    roc_auc_score_train=roc_auc_score(Y_train,y_pred_proba_train)\n",
    "    roc_auc_score_test=roc_auc_score(Y_test,y_pred_proba_test)\n",
    "    print('[train] roc_auc_score {0:.2f}, [test] roc_auc_score {1:.2f}\\n'.format(roc_auc_score_train,roc_auc_score_test))\n",
    "    confusion_matrix_train=confusion_matrix(y_pred_train,Y_train)\n",
    "    confusion_matrix_test=confusion_matrix(y_pred_test,Y_test)\n",
    "    print('[train] confusion_matrix \\n {0}, \\n[test] confusion_matrix \\n {1}\\n'.format(confusion_matrix_train,confusion_matrix_test))"
   ]
  },
  {
   "cell_type": "code",
   "execution_count": 31,
   "id": "0e1d7549",
   "metadata": {},
   "outputs": [
    {
     "name": "stdout",
     "output_type": "stream",
     "text": [
      "[train] f1_score 0.34, [test] f1_score 0.34\n",
      "\n",
      "[train] precision_score 0.67, [test] precision_score 0.69\n",
      "\n",
      "[train] recall_score 0.23, [test] recall_score 0.22\n",
      "\n",
      "[train] accuracy_score 0.67, [test] accuracy_score 0.67\n",
      "\n",
      "[train] roc_auc_score 0.73, [test] roc_auc_score 0.74\n",
      "\n",
      "[train] confusion_matrix \n",
      " [[34210  2483]\n",
      " [17284  5062]], \n",
      "[test] confusion_matrix \n",
      " [[8568  569]\n",
      " [4365 1258]]\n",
      "\n"
     ]
    }
   ],
   "source": [
    "# Проверим, нет ли переобучения модели\n",
    "show_metrics(Y_pred,y_train,y_pred,y_test,Y_pred_proba,y_pred_proba)"
   ]
  },
  {
   "cell_type": "code",
   "execution_count": 32,
   "id": "17222689",
   "metadata": {},
   "outputs": [
    {
     "data": {
      "text/plain": [
       "<matplotlib.legend.Legend at 0x7fc0d197d280>"
      ]
     },
     "execution_count": 32,
     "metadata": {},
     "output_type": "execute_result"
    },
    {
     "data": {
      "image/png": "[encoded data removed]",
      "text/plain": [
       "<Figure size 576x576 with 1 Axes>"
      ]
     },
     "metadata": {
      "needs_background": "light"
     },
     "output_type": "display_data"
    }
   ],
   "source": [
    "# Посчитать значения ROC кривой и значение площади под кривой AUC\n",
    "fpr, tpr, thresholds = roc_curve(y_train,Y_pred_proba)\n",
    "roc_auc = roc_auc_score(y_train,Y_pred_proba)   \n",
    "plt.figure(figsize=(8, 8))\n",
    "plt.plot(fpr, tpr, label=f'AUC = {roc_auc:.4f}')\n",
    "plt.title('Receiver Operating Characteristic', fontsize=15)\n",
    "plt.xlabel('False positive rate (FPR)', fontsize=15)\n",
    "plt.ylabel('True positive rate (TPR)', fontsize=15)\n",
    "plt.legend(fontsize=15)"
   ]
  },
  {
   "cell_type": "code",
   "execution_count": 33,
   "id": "d9373487",
   "metadata": {},
   "outputs": [],
   "source": [
    "# Кажется, переобучения нет. Чтобы проверить это, воспользуемся функцией cross_validate \n",
    "\n",
    "from sklearn.model_selection import cross_validate\n",
    "cv_metrics = cross_validate(logreg, X, y, cv=5, scoring='f1_micro', return_train_score=True)\n",
    "\n",
    "def plot_cv_metrics(cv_metrics):\n",
    "    avg_f1_train, std_f1_train = cv_metrics['train_score'].mean(), cv_metrics['train_score'].std()\n",
    "    avg_f1_valid, std_f1_valid = cv_metrics['test_score'].mean(), cv_metrics['test_score'].std()\n",
    "    print('[train] F1-score = {:.2f} +/- {:.2f}'.format(avg_f1_train, std_f1_train))\n",
    "    print('[valid] F1-score = {:.2f} +/- {:.2f}'.format(avg_f1_valid, std_f1_valid))\n",
    "    \n",
    "    plt.figure(figsize=(15, 5))\n",
    "\n",
    "    plt.plot(cv_metrics['train_score'], label='train', marker='.')\n",
    "    plt.plot(cv_metrics['test_score'], label='valid', marker='.')\n",
    "\n",
    "    plt.ylim([0., 1.]);\n",
    "    plt.xlabel('CV iteration', fontsize=15)\n",
    "    plt.ylabel('F1-score', fontsize=15)\n",
    "    plt.legend(fontsize=15)"
   ]
  },
  {
   "cell_type": "code",
   "execution_count": 34,
   "id": "d5fff5e7",
   "metadata": {},
   "outputs": [
    {
     "name": "stdout",
     "output_type": "stream",
     "text": [
      "[train] F1-score = 0.67 +/- 0.00\n",
      "[valid] F1-score = 0.67 +/- 0.00\n"
     ]
    },
    {
     "data": {
      "image/png": "[encoded data removed]",
      "text/plain": [
       "<Figure size 1080x360 with 1 Axes>"
      ]
     },
     "metadata": {
      "needs_background": "light"
     },
     "output_type": "display_data"
    }
   ],
   "source": [
    "plot_cv_metrics(cv_metrics)\n",
    "# Переобучения действительно нет"
   ]
  },
  {
   "cell_type": "markdown",
   "id": "e2fc3fcd",
   "metadata": {},
   "source": [
    "# Получение итогового решения"
   ]
  },
  {
   "cell_type": "code",
   "execution_count": 35,
   "id": "aa7c2a22",
   "metadata": {},
   "outputs": [
    {
     "data": {
      "text/plain": [
       "LogisticRegression(class_weight='balanced', max_iter=1000, multi_class='ovr',\n",
       "                   solver='saga', tol=0.001)"
      ]
     },
     "execution_count": 35,
     "metadata": {},
     "output_type": "execute_result"
    }
   ],
   "source": [
    "#  обучаем финальную модель на всех обучающи данных\n",
    "logreg_final = LogisticRegression(solver='saga', max_iter=1000, class_weight='balanced', penalty='l2',tol=0.001, multi_class='ovr')\n",
    "logreg_final.fit(X, y)"
   ]
  },
  {
   "cell_type": "code",
   "execution_count": 36,
   "id": "253ce523",
   "metadata": {},
   "outputs": [
    {
     "data": {
      "text/html": [
       "<div>\n",
       "<style scoped>\n",
       "    .dataframe tbody tr th:only-of-type {\n",
       "        vertical-align: middle;\n",
       "    }\n",
       "\n",
       "    .dataframe tbody tr th {\n",
       "        vertical-align: top;\n",
       "    }\n",
       "\n",
       "    .dataframe thead th {\n",
       "        text-align: right;\n",
       "    }\n",
       "</style>\n",
       "<table border=\"1\" class=\"dataframe\">\n",
       "  <thead>\n",
       "    <tr style=\"text-align: right;\">\n",
       "      <th></th>\n",
       "      <th>client_id</th>\n",
       "      <th>default</th>\n",
       "    </tr>\n",
       "  </thead>\n",
       "  <tbody>\n",
       "    <tr>\n",
       "      <th>0</th>\n",
       "      <td>74835</td>\n",
       "      <td>0</td>\n",
       "    </tr>\n",
       "    <tr>\n",
       "      <th>1</th>\n",
       "      <td>17527</td>\n",
       "      <td>1</td>\n",
       "    </tr>\n",
       "    <tr>\n",
       "      <th>2</th>\n",
       "      <td>75683</td>\n",
       "      <td>0</td>\n",
       "    </tr>\n",
       "    <tr>\n",
       "      <th>3</th>\n",
       "      <td>26883</td>\n",
       "      <td>0</td>\n",
       "    </tr>\n",
       "    <tr>\n",
       "      <th>4</th>\n",
       "      <td>28862</td>\n",
       "      <td>0</td>\n",
       "    </tr>\n",
       "    <tr>\n",
       "      <th>5</th>\n",
       "      <td>99881</td>\n",
       "      <td>1</td>\n",
       "    </tr>\n",
       "    <tr>\n",
       "      <th>6</th>\n",
       "      <td>26630</td>\n",
       "      <td>1</td>\n",
       "    </tr>\n",
       "    <tr>\n",
       "      <th>7</th>\n",
       "      <td>79934</td>\n",
       "      <td>0</td>\n",
       "    </tr>\n",
       "    <tr>\n",
       "      <th>8</th>\n",
       "      <td>16605</td>\n",
       "      <td>0</td>\n",
       "    </tr>\n",
       "    <tr>\n",
       "      <th>9</th>\n",
       "      <td>105449</td>\n",
       "      <td>0</td>\n",
       "    </tr>\n",
       "  </tbody>\n",
       "</table>\n",
       "</div>"
      ],
      "text/plain": [
       "   client_id  default\n",
       "0      74835        0\n",
       "1      17527        1\n",
       "2      75683        0\n",
       "3      26883        0\n",
       "4      28862        0\n",
       "5      99881        1\n",
       "6      26630        1\n",
       "7      79934        0\n",
       "8      16605        0\n",
       "9     105449        0"
      ]
     },
     "execution_count": 36,
     "metadata": {},
     "output_type": "execute_result"
    }
   ],
   "source": [
    "predict_submission = logreg_final.predict(X_valid)\n",
    "sample_submission['default'] = predict_submission\n",
    "sample_submission.to_csv('submission.csv', index=False)\n",
    "sample_submission.head(10)"
   ]
  },
  {
   "cell_type": "code",
   "execution_count": null,
   "id": "b2ff162c",
   "metadata": {},
   "outputs": [],
   "source": []
  }
 ],
 "metadata": {
  "kernelspec": {
   "display_name": "Python 3 (ipykernel)",
   "language": "python",
   "name": "python3"
  },
  "language_info": {
   "codemirror_mode": {
    "name": "ipython",
    "version": 3
   },
   "file_extension": ".py",
   "mimetype": "text/x-python",
   "name": "python",
   "nbconvert_exporter": "python",
   "pygments_lexer": "ipython3",
   "version": "3.9.7"
  }
 },
 "nbformat": 4,
 "nbformat_minor": 5
}
